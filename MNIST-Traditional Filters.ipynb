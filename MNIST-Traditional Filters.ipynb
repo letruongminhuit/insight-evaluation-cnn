{
 "cells": [
  {
   "cell_type": "code",
   "execution_count": 1,
   "metadata": {},
   "outputs": [],
   "source": [
    "import tensorflow as tf\n",
    "import tensorflow.keras as keras\n",
    "import numpy as np"
   ]
  },
  {
   "cell_type": "markdown",
   "metadata": {},
   "source": [
    "# 1. Load the prepared dataset"
   ]
  },
  {
   "cell_type": "code",
   "execution_count": 2,
   "metadata": {},
   "outputs": [],
   "source": [
    "import os"
   ]
  },
  {
   "cell_type": "code",
   "execution_count": 3,
   "metadata": {},
   "outputs": [
    {
     "data": {
      "text/plain": [
       "['cifar10', 'mnist']"
      ]
     },
     "execution_count": 3,
     "metadata": {},
     "output_type": "execute_result"
    }
   ],
   "source": [
    "DATA_DIR = 'C:/Users/MINH LE/Desktop/TraditionalvsCNN/dataset/'\n",
    "\n",
    "list_files = os.listdir(DATA_DIR)\n",
    "number_files = len(list_files)\n",
    "list_files"
   ]
  },
  {
   "cell_type": "markdown",
   "metadata": {},
   "source": [
    "### 1.1. MNIST Dataset"
   ]
  },
  {
   "cell_type": "markdown",
   "metadata": {},
   "source": [
    "**CLTP FILTER**"
   ]
  },
  {
   "cell_type": "code",
   "execution_count": 4,
   "metadata": {},
   "outputs": [
    {
     "data": {
      "text/plain": [
       "(60000, 26, 26, 1)"
      ]
     },
     "execution_count": 4,
     "metadata": {},
     "output_type": "execute_result"
    }
   ],
   "source": [
    "import glob, cv2\n",
    "cltp = []\n",
    "\n",
    "CLTP_DIR = DATA_DIR + 'mnist/cltp/train/'\n",
    "for img in glob.glob(CLTP_DIR + '*.jpg'):\n",
    "    n = cv2.imread(img, 0)\n",
    "    cltp.append(n)\n",
    "    \n",
    "cltp = np.asarray(cltp, dtype=np.float32)\n",
    "cltp = np.reshape(cltp, (60000, 26, 26, 1))\n",
    "cltp.shape"
   ]
  },
  {
   "cell_type": "markdown",
   "metadata": {},
   "source": [
    "**CSLBP FILTER**"
   ]
  },
  {
   "cell_type": "code",
   "execution_count": 5,
   "metadata": {},
   "outputs": [
    {
     "data": {
      "text/plain": [
       "(60000, 26, 26, 1)"
      ]
     },
     "execution_count": 5,
     "metadata": {},
     "output_type": "execute_result"
    }
   ],
   "source": [
    "cslbp = []\n",
    "\n",
    "CSLBP_DIR = DATA_DIR + 'mnist/cslbp/train/'\n",
    "for img in glob.glob(CSLBP_DIR + '*.jpg'):\n",
    "    n = cv2.imread(img, 0)\n",
    "    cslbp.append(n)\n",
    "    \n",
    "cslbp = np.asarray(cslbp, dtype=np.float32)\n",
    "cslbp = np.reshape(cslbp, (60000, 26, 26, 1))\n",
    "cslbp.shape"
   ]
  },
  {
   "cell_type": "markdown",
   "metadata": {},
   "source": [
    "**GAUSSIAN FILTER**"
   ]
  },
  {
   "cell_type": "code",
   "execution_count": 6,
   "metadata": {},
   "outputs": [
    {
     "data": {
      "text/plain": [
       "(60000, 26, 26, 1)"
      ]
     },
     "execution_count": 6,
     "metadata": {},
     "output_type": "execute_result"
    }
   ],
   "source": [
    "gauss_filter = []\n",
    "\n",
    "GAUSSIAN_DIR = DATA_DIR + 'mnist/gaussian/train/'\n",
    "for img in glob.glob(GAUSSIAN_DIR + '*.jpg'):\n",
    "    n = cv2.imread(img, 0)\n",
    "    gauss_filter.append(n)\n",
    "    \n",
    "gauss_filter = np.asarray(gauss_filter, dtype=np.float32)\n",
    "gauss_filter = np.reshape(gauss_filter, (60000, 26, 26, 1))\n",
    "gauss_filter.shape"
   ]
  },
  {
   "cell_type": "markdown",
   "metadata": {},
   "source": [
    "**GLTP FILTER**"
   ]
  },
  {
   "cell_type": "code",
   "execution_count": 7,
   "metadata": {},
   "outputs": [
    {
     "data": {
      "text/plain": [
       "(60000, 26, 26, 1)"
      ]
     },
     "execution_count": 7,
     "metadata": {},
     "output_type": "execute_result"
    }
   ],
   "source": [
    "gltp_filter = []\n",
    "\n",
    "GLTP_DIR = DATA_DIR + 'mnist/gltp/train/'\n",
    "for img in glob.glob(GLTP_DIR + '*.jpg'):\n",
    "    n = cv2.imread(img, 0)\n",
    "    gltp_filter.append(n)\n",
    "    \n",
    "gltp_filter = np.asarray(gltp_filter, dtype=np.float32)\n",
    "gltp_filter = np.reshape(gltp_filter, (60000, 26, 26, 1))\n",
    "gltp_filter.shape"
   ]
  },
  {
   "cell_type": "markdown",
   "metadata": {},
   "source": [
    "**LAPLACIAN FILTER**"
   ]
  },
  {
   "cell_type": "code",
   "execution_count": 8,
   "metadata": {},
   "outputs": [
    {
     "data": {
      "text/plain": [
       "(60000, 26, 26, 1)"
      ]
     },
     "execution_count": 8,
     "metadata": {},
     "output_type": "execute_result"
    }
   ],
   "source": [
    "laplacian_filter = []\n",
    "\n",
    "LAPLACIAN_DIR = DATA_DIR + 'mnist/laplacian/train/'\n",
    "for img in glob.glob(LAPLACIAN_DIR + '*.jpg'):\n",
    "    n = cv2.imread(img, 0)\n",
    "    laplacian_filter.append(n)\n",
    "    \n",
    "laplacian_filter = np.asarray(laplacian_filter, dtype=np.float32)\n",
    "laplacian_filter = np.reshape(laplacian_filter, (60000, 26, 26, 1))\n",
    "laplacian_filter.shape"
   ]
  },
  {
   "cell_type": "markdown",
   "metadata": {},
   "source": [
    "**LOCAL BINARY PATTERN FILTER**"
   ]
  },
  {
   "cell_type": "code",
   "execution_count": 9,
   "metadata": {},
   "outputs": [
    {
     "data": {
      "text/plain": [
       "(60000, 26, 26, 1)"
      ]
     },
     "execution_count": 9,
     "metadata": {},
     "output_type": "execute_result"
    }
   ],
   "source": [
    "lbp_filter = []\n",
    "\n",
    "LBP_DIR = DATA_DIR + 'mnist/lbp/train/'\n",
    "for img in glob.glob(LBP_DIR + '*.jpg'):\n",
    "    n = cv2.imread(img, 0)\n",
    "    lbp_filter.append(n)\n",
    "    \n",
    "lbp_filter = np.asarray(lbp_filter, dtype=np.float32)\n",
    "lbp_filter = np.reshape(lbp_filter, (60000, 26, 26, 1))\n",
    "lbp_filter.shape"
   ]
  },
  {
   "cell_type": "markdown",
   "metadata": {},
   "source": [
    "**LOCAL TERNARY PATTERN**"
   ]
  },
  {
   "cell_type": "code",
   "execution_count": 10,
   "metadata": {},
   "outputs": [
    {
     "data": {
      "text/plain": [
       "(60000, 26, 26, 1)"
      ]
     },
     "execution_count": 10,
     "metadata": {},
     "output_type": "execute_result"
    }
   ],
   "source": [
    "ltp_filter = []\n",
    "\n",
    "LTP_DIR = DATA_DIR + 'mnist/ltp/train/'\n",
    "for img in glob.glob(LTP_DIR + '*.jpg'):\n",
    "    n = cv2.imread(img, 0)\n",
    "    ltp_filter.append(n)\n",
    "    \n",
    "ltp_filter = np.asarray(ltp_filter, dtype=np.float32)\n",
    "ltp_filter = np.reshape(ltp_filter, (60000, 26, 26, 1))\n",
    "ltp_filter.shape"
   ]
  },
  {
   "cell_type": "markdown",
   "metadata": {},
   "source": [
    "**PREWITT X FILTER**"
   ]
  },
  {
   "cell_type": "code",
   "execution_count": 11,
   "metadata": {},
   "outputs": [
    {
     "data": {
      "text/plain": [
       "(60000, 26, 26, 1)"
      ]
     },
     "execution_count": 11,
     "metadata": {},
     "output_type": "execute_result"
    }
   ],
   "source": [
    "prewittx_filter = []\n",
    "\n",
    "PREWITTX_DIR = DATA_DIR + 'mnist/prewittx/train/'\n",
    "for img in glob.glob(PREWITTX_DIR + '*.jpg'):\n",
    "    n = cv2.imread(img, 0)\n",
    "    prewittx_filter.append(n)\n",
    "    \n",
    "prewittx_filter = np.asarray(prewittx_filter, dtype=np.float32)\n",
    "prewittx_filter = np.reshape(prewittx_filter, (60000, 26, 26, 1))\n",
    "prewittx_filter.shape"
   ]
  },
  {
   "cell_type": "markdown",
   "metadata": {},
   "source": [
    "**PREWITT Y FILTER**"
   ]
  },
  {
   "cell_type": "code",
   "execution_count": 12,
   "metadata": {},
   "outputs": [
    {
     "data": {
      "text/plain": [
       "(60000, 26, 26, 1)"
      ]
     },
     "execution_count": 12,
     "metadata": {},
     "output_type": "execute_result"
    }
   ],
   "source": [
    "prewitty_filter = []\n",
    "\n",
    "PREWITTY_DIR = DATA_DIR + 'mnist/prewitty/train/'\n",
    "for img in glob.glob(PREWITTY_DIR + '*.jpg'):\n",
    "    n = cv2.imread(img, 0)\n",
    "    prewitty_filter.append(n)\n",
    "    \n",
    "prewitty_filter = np.asarray(prewitty_filter, dtype=np.float32)\n",
    "prewitty_filter = np.reshape(prewitty_filter, (60000, 26, 26, 1))\n",
    "prewitty_filter.shape"
   ]
  },
  {
   "cell_type": "markdown",
   "metadata": {},
   "source": [
    "**SCS-LTP FILTER**"
   ]
  },
  {
   "cell_type": "code",
   "execution_count": 13,
   "metadata": {},
   "outputs": [
    {
     "data": {
      "text/plain": [
       "(60000, 26, 26, 1)"
      ]
     },
     "execution_count": 13,
     "metadata": {},
     "output_type": "execute_result"
    }
   ],
   "source": [
    "scsltp_filter = []\n",
    "\n",
    "SCSLTP_DIR = DATA_DIR + 'mnist/scsltp/train/'\n",
    "for img in glob.glob(SCSLTP_DIR + '*.jpg'):\n",
    "    n = cv2.imread(img, 0)\n",
    "    scsltp_filter.append(n)\n",
    "    \n",
    "scsltp_filter = np.asarray(scsltp_filter, dtype=np.float32)\n",
    "scsltp_filter = np.reshape(scsltp_filter, (60000, 26, 26, 1))\n",
    "scsltp_filter.shape"
   ]
  },
  {
   "cell_type": "markdown",
   "metadata": {},
   "source": [
    "**SILTP FILTER**"
   ]
  },
  {
   "cell_type": "code",
   "execution_count": 14,
   "metadata": {},
   "outputs": [
    {
     "data": {
      "text/plain": [
       "(60000, 26, 26, 1)"
      ]
     },
     "execution_count": 14,
     "metadata": {},
     "output_type": "execute_result"
    }
   ],
   "source": [
    "siltp_filter = []\n",
    "\n",
    "SILTP_DIR = DATA_DIR + 'mnist/siltp/train/'\n",
    "for img in glob.glob(SILTP_DIR + '*.jpg'):\n",
    "    n = cv2.imread(img, 0)\n",
    "    siltp_filter.append(n)\n",
    "    \n",
    "siltp_filter = np.asarray(siltp_filter, dtype=np.float32)\n",
    "siltp_filter = np.reshape(siltp_filter, (60000, 26, 26, 1))\n",
    "siltp_filter.shape"
   ]
  },
  {
   "cell_type": "markdown",
   "metadata": {},
   "source": [
    "**SOBEL X FILTER**"
   ]
  },
  {
   "cell_type": "code",
   "execution_count": 15,
   "metadata": {},
   "outputs": [
    {
     "data": {
      "text/plain": [
       "(60000, 26, 26, 1)"
      ]
     },
     "execution_count": 15,
     "metadata": {},
     "output_type": "execute_result"
    }
   ],
   "source": [
    "sobelx_filter = []\n",
    "\n",
    "SOBELX_DIR = DATA_DIR + 'mnist/sobelx/train/'\n",
    "for img in glob.glob(SOBELX_DIR + '*.jpg'):\n",
    "    n = cv2.imread(img, 0)\n",
    "    sobelx_filter.append(n)\n",
    "    \n",
    "sobelx_filter = np.asarray(sobelx_filter, dtype=np.float32)\n",
    "sobelx_filter = np.reshape(sobelx_filter, (60000, 26, 26, 1))\n",
    "sobelx_filter.shape"
   ]
  },
  {
   "cell_type": "markdown",
   "metadata": {},
   "source": [
    "**SOBEL Y FILTER**"
   ]
  },
  {
   "cell_type": "code",
   "execution_count": 16,
   "metadata": {},
   "outputs": [
    {
     "data": {
      "text/plain": [
       "(60000, 26, 26, 1)"
      ]
     },
     "execution_count": 16,
     "metadata": {},
     "output_type": "execute_result"
    }
   ],
   "source": [
    "sobely_filter = []\n",
    "\n",
    "SOBELY_DIR = DATA_DIR + 'mnist/sobely/train/'\n",
    "for img in glob.glob(SOBELY_DIR + '*.jpg'):\n",
    "    n = cv2.imread(img, 0)\n",
    "    sobely_filter.append(n)\n",
    "    \n",
    "sobely_filter = np.asarray(sobely_filter, dtype=np.float32)\n",
    "sobely_filter = np.reshape(sobely_filter, (60000, 26, 26, 1))\n",
    "sobely_filter.shape"
   ]
  },
  {
   "cell_type": "markdown",
   "metadata": {},
   "source": [
    "**XCSLTP FILTER**"
   ]
  },
  {
   "cell_type": "code",
   "execution_count": 17,
   "metadata": {},
   "outputs": [
    {
     "data": {
      "text/plain": [
       "(60000, 26, 26, 1)"
      ]
     },
     "execution_count": 17,
     "metadata": {},
     "output_type": "execute_result"
    }
   ],
   "source": [
    "xcsltp_filter = []\n",
    "\n",
    "XCSLTP_DIR = DATA_DIR + 'mnist/xcsltp/train/'\n",
    "for img in glob.glob(XCSLTP_DIR + '*.jpg'):\n",
    "    n = cv2.imread(img, 0)\n",
    "    xcsltp_filter.append(n)\n",
    "    \n",
    "xcsltp_filter = np.asarray(xcsltp_filter, dtype=np.float32)\n",
    "xcsltp_filter = np.reshape(xcsltp_filter, (60000, 26, 26, 1))\n",
    "xcsltp_filter.shape"
   ]
  },
  {
   "cell_type": "markdown",
   "metadata": {},
   "source": [
    "# 2. Training Phase"
   ]
  },
  {
   "cell_type": "code",
   "execution_count": 18,
   "metadata": {},
   "outputs": [],
   "source": [
    "from tensorflow.keras.models import Sequential\n",
    "from tensorflow.keras.layers import Dense\n",
    "from tensorflow.keras.layers import Flatten\n",
    "from tensorflow.keras.layers import MaxPooling2D\n",
    "from tensorflow.keras.layers import Input\n",
    "from tensorflow.keras.layers import Dropout"
   ]
  },
  {
   "cell_type": "code",
   "execution_count": 19,
   "metadata": {},
   "outputs": [
    {
     "data": {
      "text/plain": [
       "TensorShape([60000, 26, 26, 14])"
      ]
     },
     "execution_count": 19,
     "metadata": {},
     "output_type": "execute_result"
    }
   ],
   "source": [
    "train_data = tf.keras.layers.Concatenate()([cltp, \n",
    "                                            cslbp, \n",
    "                                            gauss_filter, \n",
    "                                            gltp_filter,\n",
    "                                            laplacian_filter,\n",
    "                                            lbp_filter,\n",
    "                                            ltp_filter,\n",
    "                                            prewittx_filter,\n",
    "                                            prewitty_filter,\n",
    "                                            scsltp_filter,\n",
    "                                            siltp_filter,\n",
    "                                            sobelx_filter,\n",
    "                                            sobely_filter,\n",
    "                                            xcsltp_filter])\n",
    "train_data.shape"
   ]
  },
  {
   "cell_type": "code",
   "execution_count": 20,
   "metadata": {},
   "outputs": [
    {
     "data": {
      "text/plain": [
       "TensorShape([60000, 26, 26, 14])"
      ]
     },
     "execution_count": 20,
     "metadata": {},
     "output_type": "execute_result"
    }
   ],
   "source": [
    "train_data = tf.reshape(train_data, shape=(60000, 26, 26, 14))\n",
    "\n",
    "train_data.shape"
   ]
  },
  {
   "cell_type": "code",
   "execution_count": 21,
   "metadata": {},
   "outputs": [],
   "source": [
    "mnist = keras.datasets.mnist\n",
    "(_, train_labels), (_, _) = mnist.load_data()"
   ]
  },
  {
   "cell_type": "code",
   "execution_count": 22,
   "metadata": {},
   "outputs": [
    {
     "name": "stdout",
     "output_type": "stream",
     "text": [
      "Requirement already satisfied: keras in c:\\users\\minh le\\anaconda3\\lib\\site-packages (2.4.3)\n",
      "Requirement already satisfied: numpy>=1.9.1 in c:\\users\\minh le\\anaconda3\\lib\\site-packages (from keras) (1.19.5)\n",
      "Requirement already satisfied: h5py in c:\\users\\minh le\\anaconda3\\lib\\site-packages (from keras) (2.10.0)\n",
      "Requirement already satisfied: pyyaml in c:\\users\\minh le\\anaconda3\\lib\\site-packages (from keras) (5.3.1)\n",
      "Requirement already satisfied: scipy>=0.14 in c:\\users\\minh le\\anaconda3\\lib\\site-packages (from keras) (1.6.0)\n",
      "Requirement already satisfied: six in c:\\users\\minh le\\anaconda3\\lib\\site-packages (from h5py->keras) (1.15.0)\n"
     ]
    }
   ],
   "source": [
    "!pip install keras"
   ]
  },
  {
   "cell_type": "markdown",
   "metadata": {},
   "source": [
    "### Experiment 1"
   ]
  },
  {
   "cell_type": "code",
   "execution_count": 23,
   "metadata": {},
   "outputs": [
    {
     "name": "stdout",
     "output_type": "stream",
     "text": [
      "Epoch 1/300\n",
      "59/59 [==============================] - 6s 87ms/step - loss: 978.4411 - accuracy: 0.0991\n",
      "Epoch 2/300\n",
      "59/59 [==============================] - 4s 73ms/step - loss: 13.5631 - accuracy: 0.1014\n",
      "Epoch 3/300\n",
      "59/59 [==============================] - 4s 71ms/step - loss: 6.7182 - accuracy: 0.1019\n",
      "Epoch 4/300\n",
      "59/59 [==============================] - 4s 66ms/step - loss: 4.5178 - accuracy: 0.1017\n",
      "Epoch 5/300\n",
      "59/59 [==============================] - 4s 68ms/step - loss: 3.2890 - accuracy: 0.0993\n",
      "Epoch 6/300\n",
      "59/59 [==============================] - 4s 66ms/step - loss: 2.3044 - accuracy: 0.1042 0s - loss: 2.3044 - accuracy: 0.\n",
      "Epoch 7/300\n",
      "59/59 [==============================] - 4s 63ms/step - loss: 2.3037 - accuracy: 0.1134\n",
      "Epoch 8/300\n",
      "59/59 [==============================] - 4s 62ms/step - loss: 2.3023 - accuracy: 0.1128\n",
      "Epoch 9/300\n",
      "59/59 [==============================] - 4s 61ms/step - loss: 2.3023 - accuracy: 0.1119\n",
      "Epoch 10/300\n",
      "59/59 [==============================] - 4s 61ms/step - loss: 2.3023 - accuracy: 0.1117\n",
      "Epoch 11/300\n",
      "59/59 [==============================] - 4s 61ms/step - loss: 2.3015 - accuracy: 0.1124\n",
      "Epoch 12/300\n",
      "59/59 [==============================] - 4s 61ms/step - loss: 2.3008 - accuracy: 0.1132\n",
      "Epoch 13/300\n",
      "59/59 [==============================] - 4s 61ms/step - loss: 2.3008 - accuracy: 0.1133\n",
      "Epoch 14/300\n",
      "59/59 [==============================] - 4s 61ms/step - loss: 2.3010 - accuracy: 0.1117\n",
      "Epoch 15/300\n",
      "59/59 [==============================] - 4s 60ms/step - loss: 2.3003 - accuracy: 0.1134\n",
      "Epoch 16/300\n",
      "59/59 [==============================] - 4s 60ms/step - loss: 2.3005 - accuracy: 0.1135\n",
      "Epoch 17/300\n",
      "59/59 [==============================] - 4s 59ms/step - loss: 2.3005 - accuracy: 0.1124\n",
      "Epoch 18/300\n",
      "59/59 [==============================] - 4s 60ms/step - loss: 2.3001 - accuracy: 0.1135\n",
      "Epoch 19/300\n",
      "59/59 [==============================] - 4s 60ms/step - loss: 2.3002 - accuracy: 0.1123\n",
      "Epoch 20/300\n",
      "59/59 [==============================] - 4s 61ms/step - loss: 2.3000 - accuracy: 0.1125\n",
      "Epoch 21/300\n",
      "59/59 [==============================] - 4s 60ms/step - loss: 2.3001 - accuracy: 0.1127\n",
      "Epoch 22/300\n",
      "59/59 [==============================] - 4s 60ms/step - loss: 2.2995 - accuracy: 0.1142\n",
      "Epoch 23/300\n",
      "59/59 [==============================] - 4s 60ms/step - loss: 2.2995 - accuracy: 0.1126\n",
      "Epoch 24/300\n",
      "59/59 [==============================] - 4s 61ms/step - loss: 2.2998 - accuracy: 0.1137\n",
      "Epoch 25/300\n",
      "59/59 [==============================] - 4s 62ms/step - loss: 2.2995 - accuracy: 0.1121\n",
      "Epoch 26/300\n",
      "59/59 [==============================] - 4s 62ms/step - loss: 2.2998 - accuracy: 0.1120\n",
      "Epoch 27/300\n",
      "59/59 [==============================] - 4s 60ms/step - loss: 2.2999 - accuracy: 0.1115\n",
      "Epoch 28/300\n",
      "59/59 [==============================] - 4s 61ms/step - loss: 2.2987 - accuracy: 0.1149\n",
      "Epoch 29/300\n",
      "59/59 [==============================] - 4s 61ms/step - loss: 2.2989 - accuracy: 0.1154\n",
      "Epoch 30/300\n",
      "59/59 [==============================] - 4s 61ms/step - loss: 2.2994 - accuracy: 0.1110\n",
      "Epoch 31/300\n",
      "59/59 [==============================] - 4s 62ms/step - loss: 2.2995 - accuracy: 0.1128\n",
      "Epoch 32/300\n",
      "59/59 [==============================] - 4s 62ms/step - loss: 2.2989 - accuracy: 0.1135\n",
      "Epoch 33/300\n",
      "59/59 [==============================] - 4s 62ms/step - loss: 2.2991 - accuracy: 0.1144\n",
      "Epoch 34/300\n",
      "59/59 [==============================] - 4s 62ms/step - loss: 2.2993 - accuracy: 0.1125\n",
      "Epoch 35/300\n",
      "59/59 [==============================] - 4s 62ms/step - loss: 2.2990 - accuracy: 0.1141\n",
      "Epoch 36/300\n",
      "59/59 [==============================] - 4s 62ms/step - loss: 2.2992 - accuracy: 0.1137\n",
      "Epoch 37/300\n",
      "59/59 [==============================] - 4s 62ms/step - loss: 2.2990 - accuracy: 0.1139\n",
      "Epoch 38/300\n",
      "59/59 [==============================] - 4s 65ms/step - loss: 2.2991 - accuracy: 0.1126\n",
      "Epoch 39/300\n",
      "59/59 [==============================] - 4s 64ms/step - loss: 2.2991 - accuracy: 0.1120\n",
      "Epoch 40/300\n",
      "59/59 [==============================] - 4s 64ms/step - loss: 2.2986 - accuracy: 0.1139\n",
      "Epoch 41/300\n",
      "59/59 [==============================] - 4s 64ms/step - loss: 2.2986 - accuracy: 0.1143\n",
      "Epoch 42/300\n",
      "59/59 [==============================] - 4s 64ms/step - loss: 2.2989 - accuracy: 0.1136\n",
      "Epoch 43/300\n",
      "59/59 [==============================] - 4s 63ms/step - loss: 2.2991 - accuracy: 0.1124\n",
      "Epoch 44/300\n",
      "59/59 [==============================] - 4s 64ms/step - loss: 2.2995 - accuracy: 0.1117\n",
      "Epoch 45/300\n",
      "59/59 [==============================] - 4s 64ms/step - loss: 2.2988 - accuracy: 0.1135\n",
      "Epoch 46/300\n",
      "59/59 [==============================] - 4s 64ms/step - loss: 2.2987 - accuracy: 0.1132\n",
      "Epoch 47/300\n",
      "59/59 [==============================] - 4s 64ms/step - loss: 2.2993 - accuracy: 0.1121\n",
      "Epoch 48/300\n",
      "59/59 [==============================] - 4s 64ms/step - loss: 2.2992 - accuracy: 0.1113\n",
      "Epoch 49/300\n",
      "59/59 [==============================] - 4s 65ms/step - loss: 2.2986 - accuracy: 0.1141\n",
      "Epoch 50/300\n",
      "59/59 [==============================] - 4s 66ms/step - loss: 2.2987 - accuracy: 0.1128\n",
      "Epoch 51/300\n",
      "59/59 [==============================] - 4s 65ms/step - loss: 2.2987 - accuracy: 0.1122\n",
      "Epoch 52/300\n",
      "59/59 [==============================] - 4s 65ms/step - loss: 2.2985 - accuracy: 0.1135\n",
      "Epoch 53/300\n",
      "59/59 [==============================] - 4s 66ms/step - loss: 2.2981 - accuracy: 0.1149\n",
      "Epoch 54/300\n",
      "59/59 [==============================] - 4s 66ms/step - loss: 2.2984 - accuracy: 0.1129\n",
      "Epoch 55/300\n",
      "59/59 [==============================] - 4s 66ms/step - loss: 2.2986 - accuracy: 0.1121\n",
      "Epoch 56/300\n",
      "59/59 [==============================] - 4s 67ms/step - loss: 2.2985 - accuracy: 0.1118\n",
      "Epoch 57/300\n",
      "59/59 [==============================] - 4s 68ms/step - loss: 2.2982 - accuracy: 0.1141\n",
      "Epoch 58/300\n",
      "59/59 [==============================] - 4s 67ms/step - loss: 2.2983 - accuracy: 0.1117\n",
      "Epoch 59/300\n",
      "59/59 [==============================] - 4s 67ms/step - loss: 2.2979 - accuracy: 0.1132\n",
      "Epoch 60/300\n",
      "59/59 [==============================] - 4s 68ms/step - loss: 2.2985 - accuracy: 0.1105\n",
      "Epoch 61/300\n",
      "59/59 [==============================] - 4s 68ms/step - loss: 2.2980 - accuracy: 0.1120\n",
      "Epoch 62/300\n",
      "59/59 [==============================] - 4s 68ms/step - loss: 2.2983 - accuracy: 0.1111\n",
      "Epoch 63/300\n",
      "59/59 [==============================] - 4s 69ms/step - loss: 2.2982 - accuracy: 0.1141\n",
      "Epoch 64/300\n",
      "59/59 [==============================] - 4s 69ms/step - loss: 2.2980 - accuracy: 0.1122\n",
      "Epoch 65/300\n",
      "59/59 [==============================] - 4s 70ms/step - loss: 2.2981 - accuracy: 0.1128\n",
      "Epoch 66/300\n",
      "59/59 [==============================] - 4s 74ms/step - loss: 2.2980 - accuracy: 0.1130\n",
      "Epoch 67/300\n",
      "59/59 [==============================] - 4s 71ms/step - loss: 2.2982 - accuracy: 0.1115\n",
      "Epoch 68/300\n",
      "59/59 [==============================] - 4s 68ms/step - loss: 2.2975 - accuracy: 0.1130\n",
      "Epoch 69/300\n",
      "59/59 [==============================] - 4s 73ms/step - loss: 2.2973 - accuracy: 0.1150\n",
      "Epoch 70/300\n",
      "59/59 [==============================] - 4s 68ms/step - loss: 2.2979 - accuracy: 0.1123\n",
      "Epoch 71/300\n",
      "59/59 [==============================] - 4s 69ms/step - loss: 2.2972 - accuracy: 0.1128\n",
      "Epoch 72/300\n",
      "59/59 [==============================] - 4s 66ms/step - loss: 2.2972 - accuracy: 0.1154\n",
      "Epoch 73/300\n",
      "59/59 [==============================] - 4s 66ms/step - loss: 2.2969 - accuracy: 0.1137\n",
      "Epoch 74/300\n",
      "59/59 [==============================] - 4s 66ms/step - loss: 2.2973 - accuracy: 0.1140\n",
      "Epoch 75/300\n",
      "59/59 [==============================] - 4s 68ms/step - loss: 2.2977 - accuracy: 0.1140\n",
      "Epoch 76/300\n",
      "59/59 [==============================] - 4s 66ms/step - loss: 2.2972 - accuracy: 0.1142\n",
      "Epoch 77/300\n",
      "59/59 [==============================] - 4s 65ms/step - loss: 2.2976 - accuracy: 0.1124\n",
      "Epoch 78/300\n",
      "59/59 [==============================] - 4s 65ms/step - loss: 2.2964 - accuracy: 0.1151\n",
      "Epoch 79/300\n",
      "59/59 [==============================] - 4s 64ms/step - loss: 2.2975 - accuracy: 0.1120\n",
      "Epoch 80/300\n",
      "59/59 [==============================] - 4s 63ms/step - loss: 2.2975 - accuracy: 0.1112\n",
      "Epoch 81/300\n"
     ]
    },
    {
     "name": "stdout",
     "output_type": "stream",
     "text": [
      "59/59 [==============================] - 4s 62ms/step - loss: 2.2973 - accuracy: 0.1124\n",
      "Epoch 82/300\n",
      "59/59 [==============================] - 4s 62ms/step - loss: 2.2981 - accuracy: 0.1108\n",
      "Epoch 83/300\n",
      "59/59 [==============================] - 4s 61ms/step - loss: 2.2976 - accuracy: 0.1139\n",
      "Epoch 84/300\n",
      "59/59 [==============================] - 4s 62ms/step - loss: 2.2970 - accuracy: 0.1117\n",
      "Epoch 85/300\n",
      "59/59 [==============================] - 4s 62ms/step - loss: 2.2974 - accuracy: 0.1134\n",
      "Epoch 86/300\n",
      "59/59 [==============================] - 4s 61ms/step - loss: 2.2963 - accuracy: 0.1137\n",
      "Epoch 87/300\n",
      "59/59 [==============================] - 4s 60ms/step - loss: 2.2963 - accuracy: 0.1134\n",
      "Epoch 88/300\n",
      "59/59 [==============================] - 4s 61ms/step - loss: 2.2974 - accuracy: 0.1125\n",
      "Epoch 89/300\n",
      "59/59 [==============================] - 4s 61ms/step - loss: 2.2966 - accuracy: 0.1143\n",
      "Epoch 90/300\n",
      "59/59 [==============================] - 4s 60ms/step - loss: 2.2962 - accuracy: 0.1144\n",
      "Epoch 91/300\n",
      "59/59 [==============================] - 4s 60ms/step - loss: 2.2958 - accuracy: 0.1143\n",
      "Epoch 92/300\n",
      "59/59 [==============================] - 4s 60ms/step - loss: 2.2962 - accuracy: 0.1134\n",
      "Epoch 93/300\n",
      "59/59 [==============================] - 3s 59ms/step - loss: 2.2962 - accuracy: 0.1134\n",
      "Epoch 94/300\n",
      "59/59 [==============================] - 4s 60ms/step - loss: 2.2964 - accuracy: 0.1144\n",
      "Epoch 95/300\n",
      "59/59 [==============================] - 4s 61ms/step - loss: 2.2967 - accuracy: 0.1138\n",
      "Epoch 96/300\n",
      "59/59 [==============================] - 4s 60ms/step - loss: 2.2962 - accuracy: 0.1128\n",
      "Epoch 97/300\n",
      "59/59 [==============================] - 4s 61ms/step - loss: 2.2959 - accuracy: 0.1138\n",
      "Epoch 98/300\n",
      "59/59 [==============================] - 4s 61ms/step - loss: 2.2958 - accuracy: 0.1132\n",
      "Epoch 99/300\n",
      "59/59 [==============================] - 4s 60ms/step - loss: 2.2969 - accuracy: 0.1112\n",
      "Epoch 100/300\n",
      "59/59 [==============================] - 4s 61ms/step - loss: 2.2971 - accuracy: 0.1136\n",
      "Epoch 101/300\n",
      "59/59 [==============================] - 4s 60ms/step - loss: 2.2978 - accuracy: 0.1133\n",
      "Epoch 102/300\n",
      "59/59 [==============================] - 4s 62ms/step - loss: 2.2979 - accuracy: 0.1129\n",
      "Epoch 103/300\n",
      "59/59 [==============================] - 4s 61ms/step - loss: 2.2981 - accuracy: 0.1124\n",
      "Epoch 104/300\n",
      "59/59 [==============================] - 4s 61ms/step - loss: 2.2981 - accuracy: 0.1128\n",
      "Epoch 105/300\n",
      "59/59 [==============================] - 4s 61ms/step - loss: 2.2985 - accuracy: 0.1115\n",
      "Epoch 106/300\n",
      "59/59 [==============================] - 4s 61ms/step - loss: 2.2981 - accuracy: 0.1131\n",
      "Epoch 107/300\n",
      "59/59 [==============================] - 4s 62ms/step - loss: 2.2978 - accuracy: 0.1149\n",
      "Epoch 108/300\n",
      "59/59 [==============================] - 4s 62ms/step - loss: 2.2989 - accuracy: 0.1131\n",
      "Epoch 109/300\n",
      "59/59 [==============================] - 4s 62ms/step - loss: 2.2983 - accuracy: 0.1137\n",
      "Epoch 110/300\n",
      "59/59 [==============================] - 4s 62ms/step - loss: 2.2989 - accuracy: 0.1111\n",
      "Epoch 111/300\n",
      "59/59 [==============================] - 5s 76ms/step - loss: 2.2976 - accuracy: 0.1142\n",
      "Epoch 112/300\n",
      "59/59 [==============================] - 4s 66ms/step - loss: 2.2983 - accuracy: 0.1127\n",
      "Epoch 113/300\n",
      "59/59 [==============================] - 5s 77ms/step - loss: 2.2969 - accuracy: 0.1154\n",
      "Epoch 114/300\n",
      "59/59 [==============================] - 4s 70ms/step - loss: 2.2981 - accuracy: 0.1127\n",
      "Epoch 115/300\n",
      "59/59 [==============================] - 5s 81ms/step - loss: 2.2993 - accuracy: 0.1145\n",
      "Epoch 116/300\n",
      "59/59 [==============================] - 4s 70ms/step - loss: 2.2984 - accuracy: 0.1128\n",
      "Epoch 117/300\n",
      "59/59 [==============================] - 4s 72ms/step - loss: 2.2988 - accuracy: 0.1120\n",
      "Epoch 118/300\n",
      "59/59 [==============================] - 4s 65ms/step - loss: 2.2994 - accuracy: 0.1145\n",
      "Epoch 119/300\n",
      "59/59 [==============================] - 4s 64ms/step - loss: 2.2986 - accuracy: 0.1130\n",
      "Epoch 120/300\n",
      "59/59 [==============================] - 4s 64ms/step - loss: 2.2985 - accuracy: 0.1118\n",
      "Epoch 121/300\n",
      "59/59 [==============================] - 4s 64ms/step - loss: 2.2986 - accuracy: 0.1127\n",
      "Epoch 122/300\n",
      "59/59 [==============================] - 4s 65ms/step - loss: 2.2986 - accuracy: 0.1122\n",
      "Epoch 123/300\n",
      "59/59 [==============================] - 4s 64ms/step - loss: 2.2992 - accuracy: 0.1131\n",
      "Epoch 124/300\n",
      "59/59 [==============================] - 4s 64ms/step - loss: 2.2989 - accuracy: 0.1129\n",
      "Epoch 125/300\n",
      "59/59 [==============================] - 4s 65ms/step - loss: 2.2995 - accuracy: 0.1121\n",
      "Epoch 126/300\n",
      "59/59 [==============================] - 4s 66ms/step - loss: 2.2992 - accuracy: 0.1134\n",
      "Epoch 127/300\n",
      "59/59 [==============================] - 4s 66ms/step - loss: 2.2991 - accuracy: 0.1129\n",
      "Epoch 128/300\n",
      "59/59 [==============================] - 4s 66ms/step - loss: 2.2989 - accuracy: 0.1123\n",
      "Epoch 129/300\n",
      "59/59 [==============================] - 4s 67ms/step - loss: 2.2996 - accuracy: 0.1119\n",
      "Epoch 130/300\n",
      "59/59 [==============================] - 4s 66ms/step - loss: 2.2993 - accuracy: 0.1150\n",
      "Epoch 131/300\n",
      "59/59 [==============================] - 4s 66ms/step - loss: 2.2996 - accuracy: 0.1125\n",
      "Epoch 132/300\n",
      "59/59 [==============================] - 4s 66ms/step - loss: 2.2995 - accuracy: 0.1120\n",
      "Epoch 133/300\n",
      "59/59 [==============================] - 4s 67ms/step - loss: 2.2991 - accuracy: 0.1128\n",
      "Epoch 134/300\n",
      "59/59 [==============================] - 4s 67ms/step - loss: 2.2998 - accuracy: 0.1127\n",
      "Epoch 135/300\n",
      "59/59 [==============================] - 4s 67ms/step - loss: 2.3001 - accuracy: 0.1127\n",
      "Epoch 136/300\n",
      "59/59 [==============================] - 4s 67ms/step - loss: 2.3010 - accuracy: 0.1113\n",
      "Epoch 137/300\n",
      "59/59 [==============================] - 4s 68ms/step - loss: 2.3013 - accuracy: 0.1120\n",
      "Epoch 138/300\n",
      "59/59 [==============================] - 4s 68ms/step - loss: 2.3008 - accuracy: 0.1123\n",
      "Epoch 139/300\n",
      "59/59 [==============================] - 4s 68ms/step - loss: 2.3010 - accuracy: 0.1108\n",
      "Epoch 140/300\n",
      "59/59 [==============================] - 4s 68ms/step - loss: 2.3009 - accuracy: 0.1128\n",
      "Epoch 141/300\n",
      "59/59 [==============================] - 4s 69ms/step - loss: 2.3012 - accuracy: 0.1105\n",
      "Epoch 142/300\n",
      "59/59 [==============================] - 4s 70ms/step - loss: 2.3013 - accuracy: 0.1113\n",
      "Epoch 143/300\n",
      "59/59 [==============================] - 4s 70ms/step - loss: 2.3010 - accuracy: 0.1124\n",
      "Epoch 144/300\n",
      "59/59 [==============================] - 4s 70ms/step - loss: 2.3013 - accuracy: 0.1118\n",
      "Epoch 145/300\n",
      "59/59 [==============================] - 4s 70ms/step - loss: 2.3011 - accuracy: 0.1124\n",
      "Epoch 146/300\n",
      "59/59 [==============================] - 4s 68ms/step - loss: 2.3011 - accuracy: 0.1118\n",
      "Epoch 147/300\n",
      "59/59 [==============================] - 4s 69ms/step - loss: 2.3010 - accuracy: 0.1134\n",
      "Epoch 148/300\n",
      "59/59 [==============================] - 4s 67ms/step - loss: 2.3012 - accuracy: 0.1113\n",
      "Epoch 149/300\n",
      "59/59 [==============================] - 4s 70ms/step - loss: 2.3010 - accuracy: 0.1121\n",
      "Epoch 150/300\n",
      "59/59 [==============================] - 4s 69ms/step - loss: 2.3011 - accuracy: 0.1122\n",
      "Epoch 151/300\n",
      "59/59 [==============================] - 4s 66ms/step - loss: 2.3011 - accuracy: 0.1142\n",
      "Epoch 152/300\n",
      "59/59 [==============================] - 4s 67ms/step - loss: 2.3010 - accuracy: 0.1120\n",
      "Epoch 153/300\n",
      "59/59 [==============================] - 4s 65ms/step - loss: 2.3012 - accuracy: 0.1120\n",
      "Epoch 154/300\n",
      "59/59 [==============================] - 4s 64ms/step - loss: 2.3014 - accuracy: 0.1112\n",
      "Epoch 155/300\n",
      "59/59 [==============================] - 4s 64ms/step - loss: 2.3012 - accuracy: 0.1122\n",
      "Epoch 156/300\n",
      "59/59 [==============================] - 4s 64ms/step - loss: 2.3007 - accuracy: 0.1131\n",
      "Epoch 157/300\n",
      "59/59 [==============================] - 4s 65ms/step - loss: 2.3009 - accuracy: 0.1120\n",
      "Epoch 158/300\n",
      "59/59 [==============================] - 4s 63ms/step - loss: 2.3012 - accuracy: 0.1126\n",
      "Epoch 159/300\n",
      "59/59 [==============================] - 4s 63ms/step - loss: 2.3011 - accuracy: 0.1116\n",
      "Epoch 160/300\n",
      "59/59 [==============================] - 4s 64ms/step - loss: 2.3015 - accuracy: 0.1110\n",
      "Epoch 161/300\n"
     ]
    },
    {
     "name": "stdout",
     "output_type": "stream",
     "text": [
      "59/59 [==============================] - 4s 62ms/step - loss: 2.3015 - accuracy: 0.1107\n",
      "Epoch 162/300\n",
      "59/59 [==============================] - 4s 61ms/step - loss: 2.3011 - accuracy: 0.1111\n",
      "Epoch 163/300\n",
      "59/59 [==============================] - 4s 62ms/step - loss: 2.3007 - accuracy: 0.1141\n",
      "Epoch 164/300\n",
      "59/59 [==============================] - 4s 61ms/step - loss: 2.3010 - accuracy: 0.1126\n",
      "Epoch 165/300\n",
      "59/59 [==============================] - 4s 61ms/step - loss: 2.3010 - accuracy: 0.1125\n",
      "Epoch 166/300\n",
      "59/59 [==============================] - 4s 60ms/step - loss: 2.3012 - accuracy: 0.1115\n",
      "Epoch 167/300\n",
      "59/59 [==============================] - 4s 59ms/step - loss: 2.3010 - accuracy: 0.1136\n",
      "Epoch 168/300\n",
      "59/59 [==============================] - 4s 60ms/step - loss: 2.3011 - accuracy: 0.1124\n",
      "Epoch 169/300\n",
      "59/59 [==============================] - 4s 60ms/step - loss: 2.3010 - accuracy: 0.1116\n",
      "Epoch 170/300\n",
      "59/59 [==============================] - 4s 59ms/step - loss: 2.3010 - accuracy: 0.1133\n",
      "Epoch 171/300\n",
      "59/59 [==============================] - 3s 59ms/step - loss: 2.3014 - accuracy: 0.1120\n",
      "Epoch 172/300\n",
      "59/59 [==============================] - 4s 60ms/step - loss: 2.3012 - accuracy: 0.1108\n",
      "Epoch 173/300\n",
      "59/59 [==============================] - 4s 60ms/step - loss: 2.3011 - accuracy: 0.1139\n",
      "Epoch 174/300\n",
      "59/59 [==============================] - 4s 60ms/step - loss: 2.3012 - accuracy: 0.1129\n",
      "Epoch 175/300\n",
      "59/59 [==============================] - 4s 60ms/step - loss: 2.3012 - accuracy: 0.1117\n",
      "Epoch 176/300\n",
      "59/59 [==============================] - 4s 60ms/step - loss: 2.3011 - accuracy: 0.1126\n",
      "Epoch 177/300\n",
      "59/59 [==============================] - 4s 61ms/step - loss: 2.3013 - accuracy: 0.1109\n",
      "Epoch 178/300\n",
      "59/59 [==============================] - 4s 61ms/step - loss: 2.3010 - accuracy: 0.1112\n",
      "Epoch 179/300\n",
      "59/59 [==============================] - 4s 61ms/step - loss: 2.3010 - accuracy: 0.1133\n",
      "Epoch 180/300\n",
      "59/59 [==============================] - 4s 62ms/step - loss: 2.3012 - accuracy: 0.1117\n",
      "Epoch 181/300\n",
      "59/59 [==============================] - 4s 66ms/step - loss: 2.3012 - accuracy: 0.1132\n",
      "Epoch 182/300\n",
      "59/59 [==============================] - 4s 63ms/step - loss: 2.3013 - accuracy: 0.1114\n",
      "Epoch 183/300\n",
      "59/59 [==============================] - 4s 62ms/step - loss: 2.3013 - accuracy: 0.1125\n",
      "Epoch 184/300\n",
      "59/59 [==============================] - 4s 61ms/step - loss: 2.3012 - accuracy: 0.1134\n",
      "Epoch 185/300\n",
      "59/59 [==============================] - 4s 62ms/step - loss: 2.3012 - accuracy: 0.1128\n",
      "Epoch 186/300\n",
      "59/59 [==============================] - 4s 62ms/step - loss: 2.3009 - accuracy: 0.1146\n",
      "Epoch 187/300\n",
      "59/59 [==============================] - 4s 62ms/step - loss: 2.3015 - accuracy: 0.1112\n",
      "Epoch 188/300\n",
      "59/59 [==============================] - 4s 63ms/step - loss: 2.3010 - accuracy: 0.1129\n",
      "Epoch 189/300\n",
      "59/59 [==============================] - 4s 63ms/step - loss: 2.3014 - accuracy: 0.1116\n",
      "Epoch 190/300\n",
      "59/59 [==============================] - 4s 63ms/step - loss: 2.3008 - accuracy: 0.1123\n",
      "Epoch 191/300\n",
      "59/59 [==============================] - 4s 63ms/step - loss: 2.3015 - accuracy: 0.1111\n",
      "Epoch 192/300\n",
      "59/59 [==============================] - 4s 63ms/step - loss: 2.3010 - accuracy: 0.1125\n",
      "Epoch 193/300\n",
      "59/59 [==============================] - 4s 63ms/step - loss: 2.3014 - accuracy: 0.1117\n",
      "Epoch 194/300\n",
      "59/59 [==============================] - 4s 63ms/step - loss: 2.3012 - accuracy: 0.1119\n",
      "Epoch 195/300\n",
      "59/59 [==============================] - 4s 65ms/step - loss: 2.3013 - accuracy: 0.1114\n",
      "Epoch 196/300\n",
      "59/59 [==============================] - 4s 65ms/step - loss: 2.3009 - accuracy: 0.1141\n",
      "Epoch 197/300\n",
      "59/59 [==============================] - 4s 64ms/step - loss: 2.3007 - accuracy: 0.1146\n",
      "Epoch 198/300\n",
      "59/59 [==============================] - 4s 65ms/step - loss: 2.3012 - accuracy: 0.1126\n",
      "Epoch 199/300\n",
      "59/59 [==============================] - 4s 64ms/step - loss: 2.3011 - accuracy: 0.1118\n",
      "Epoch 200/300\n",
      "59/59 [==============================] - 4s 64ms/step - loss: 2.3013 - accuracy: 0.1121\n",
      "Epoch 201/300\n",
      "59/59 [==============================] - 4s 64ms/step - loss: 2.3013 - accuracy: 0.1125\n",
      "Epoch 202/300\n",
      "59/59 [==============================] - 4s 66ms/step - loss: 2.3007 - accuracy: 0.1136\n",
      "Epoch 203/300\n",
      "59/59 [==============================] - 4s 65ms/step - loss: 2.3014 - accuracy: 0.1119\n",
      "Epoch 204/300\n",
      "59/59 [==============================] - 4s 67ms/step - loss: 2.3011 - accuracy: 0.1122\n",
      "Epoch 205/300\n",
      "59/59 [==============================] - 4s 68ms/step - loss: 2.3010 - accuracy: 0.1137\n",
      "Epoch 206/300\n",
      "59/59 [==============================] - 4s 68ms/step - loss: 2.3007 - accuracy: 0.1132\n",
      "Epoch 207/300\n",
      "59/59 [==============================] - 4s 68ms/step - loss: 2.3011 - accuracy: 0.1141\n",
      "Epoch 208/300\n",
      "59/59 [==============================] - 4s 69ms/step - loss: 2.3013 - accuracy: 0.1123\n",
      "Epoch 209/300\n",
      "59/59 [==============================] - 4s 69ms/step - loss: 2.3013 - accuracy: 0.1118\n",
      "Epoch 210/300\n",
      "59/59 [==============================] - 4s 69ms/step - loss: 2.3013 - accuracy: 0.1113\n",
      "Epoch 211/300\n",
      "59/59 [==============================] - 4s 71ms/step - loss: 2.3017 - accuracy: 0.1106\n",
      "Epoch 212/300\n",
      "59/59 [==============================] - 4s 70ms/step - loss: 2.3008 - accuracy: 0.1152\n",
      "Epoch 213/300\n",
      "59/59 [==============================] - 4s 70ms/step - loss: 2.3014 - accuracy: 0.1103\n",
      "Epoch 214/300\n",
      "59/59 [==============================] - 4s 71ms/step - loss: 2.3011 - accuracy: 0.1129\n",
      "Epoch 215/300\n",
      "59/59 [==============================] - 4s 68ms/step - loss: 2.3013 - accuracy: 0.1122\n",
      "Epoch 216/300\n",
      "59/59 [==============================] - 4s 68ms/step - loss: 2.3012 - accuracy: 0.1123\n",
      "Epoch 217/300\n",
      "59/59 [==============================] - 4s 71ms/step - loss: 2.3012 - accuracy: 0.1121\n",
      "Epoch 218/300\n",
      "59/59 [==============================] - 4s 72ms/step - loss: 2.3011 - accuracy: 0.1126\n",
      "Epoch 219/300\n",
      "59/59 [==============================] - 4s 71ms/step - loss: 2.3014 - accuracy: 0.1119\n",
      "Epoch 220/300\n",
      "59/59 [==============================] - 4s 70ms/step - loss: 2.3010 - accuracy: 0.1133\n",
      "Epoch 221/300\n",
      "59/59 [==============================] - 4s 70ms/step - loss: 2.3008 - accuracy: 0.1127\n",
      "Epoch 222/300\n",
      "59/59 [==============================] - 4s 71ms/step - loss: 2.3009 - accuracy: 0.1147\n",
      "Epoch 223/300\n",
      "59/59 [==============================] - 4s 75ms/step - loss: 2.3010 - accuracy: 0.1126\n",
      "Epoch 224/300\n",
      "59/59 [==============================] - 4s 74ms/step - loss: 2.3014 - accuracy: 0.1102\n",
      "Epoch 225/300\n",
      "59/59 [==============================] - 4s 76ms/step - loss: 2.3009 - accuracy: 0.1125\n",
      "Epoch 226/300\n",
      "59/59 [==============================] - 4s 73ms/step - loss: 2.3011 - accuracy: 0.1128\n",
      "Epoch 227/300\n",
      "59/59 [==============================] - 4s 72ms/step - loss: 2.3015 - accuracy: 0.1108\n",
      "Epoch 228/300\n",
      "59/59 [==============================] - 4s 72ms/step - loss: 2.3013 - accuracy: 0.1129\n",
      "Epoch 229/300\n",
      "59/59 [==============================] - 4s 71ms/step - loss: 2.3008 - accuracy: 0.1137\n",
      "Epoch 230/300\n",
      "59/59 [==============================] - 4s 70ms/step - loss: 2.3013 - accuracy: 0.1114\n",
      "Epoch 231/300\n",
      "59/59 [==============================] - 4s 69ms/step - loss: 2.3013 - accuracy: 0.1122\n",
      "Epoch 232/300\n",
      "59/59 [==============================] - 4s 69ms/step - loss: 2.3016 - accuracy: 0.1096\n",
      "Epoch 233/300\n",
      "59/59 [==============================] - 4s 68ms/step - loss: 2.3014 - accuracy: 0.1119\n",
      "Epoch 234/300\n",
      "59/59 [==============================] - 4s 68ms/step - loss: 2.3011 - accuracy: 0.1130\n",
      "Epoch 235/300\n",
      "59/59 [==============================] - 4s 67ms/step - loss: 2.3013 - accuracy: 0.1119\n",
      "Epoch 236/300\n",
      "59/59 [==============================] - 4s 66ms/step - loss: 2.3011 - accuracy: 0.1124\n",
      "Epoch 237/300\n",
      "59/59 [==============================] - 4s 66ms/step - loss: 2.3010 - accuracy: 0.1123\n",
      "Epoch 238/300\n",
      "59/59 [==============================] - 4s 66ms/step - loss: 2.3014 - accuracy: 0.1117\n",
      "Epoch 239/300\n",
      "59/59 [==============================] - 4s 65ms/step - loss: 2.3009 - accuracy: 0.1148\n",
      "Epoch 240/300\n",
      "59/59 [==============================] - 4s 65ms/step - loss: 2.3010 - accuracy: 0.1147\n",
      "Epoch 241/300\n"
     ]
    },
    {
     "name": "stdout",
     "output_type": "stream",
     "text": [
      "59/59 [==============================] - 4s 63ms/step - loss: 2.3013 - accuracy: 0.1124\n",
      "Epoch 242/300\n",
      "59/59 [==============================] - 4s 63ms/step - loss: 2.3010 - accuracy: 0.1141\n",
      "Epoch 243/300\n",
      "59/59 [==============================] - 4s 64ms/step - loss: 2.3012 - accuracy: 0.1128\n",
      "Epoch 244/300\n",
      "59/59 [==============================] - 4s 62ms/step - loss: 2.3012 - accuracy: 0.1127\n",
      "Epoch 245/300\n",
      "59/59 [==============================] - 4s 64ms/step - loss: 2.3014 - accuracy: 0.1109\n",
      "Epoch 246/300\n",
      "59/59 [==============================] - 4s 63ms/step - loss: 2.3009 - accuracy: 0.1134\n",
      "Epoch 247/300\n",
      "59/59 [==============================] - 4s 62ms/step - loss: 2.3016 - accuracy: 0.1108\n",
      "Epoch 248/300\n",
      "59/59 [==============================] - 4s 62ms/step - loss: 2.3013 - accuracy: 0.1122\n",
      "Epoch 249/300\n",
      "59/59 [==============================] - 4s 61ms/step - loss: 2.3010 - accuracy: 0.1143\n",
      "Epoch 250/300\n",
      "59/59 [==============================] - 4s 60ms/step - loss: 2.3013 - accuracy: 0.1119\n",
      "Epoch 251/300\n",
      "59/59 [==============================] - 4s 61ms/step - loss: 2.3008 - accuracy: 0.1131\n",
      "Epoch 252/300\n",
      "59/59 [==============================] - 4s 60ms/step - loss: 2.3013 - accuracy: 0.1108\n",
      "Epoch 253/300\n",
      "59/59 [==============================] - 4s 60ms/step - loss: 2.3014 - accuracy: 0.1125\n",
      "Epoch 254/300\n",
      "59/59 [==============================] - 4s 60ms/step - loss: 2.3012 - accuracy: 0.1119\n",
      "Epoch 255/300\n",
      "59/59 [==============================] - 3s 59ms/step - loss: 2.3009 - accuracy: 0.1132\n",
      "Epoch 256/300\n",
      "59/59 [==============================] - 4s 60ms/step - loss: 2.3009 - accuracy: 0.1132\n",
      "Epoch 257/300\n",
      "59/59 [==============================] - 4s 60ms/step - loss: 2.3011 - accuracy: 0.1123\n",
      "Epoch 258/300\n",
      "59/59 [==============================] - 3s 59ms/step - loss: 2.3012 - accuracy: 0.1135\n",
      "Epoch 259/300\n",
      "59/59 [==============================] - 3s 59ms/step - loss: 2.3011 - accuracy: 0.1133\n",
      "Epoch 260/300\n",
      "59/59 [==============================] - 3s 59ms/step - loss: 2.3014 - accuracy: 0.1121\n",
      "Epoch 261/300\n",
      "59/59 [==============================] - 3s 59ms/step - loss: 2.3011 - accuracy: 0.1114\n",
      "Epoch 262/300\n",
      "59/59 [==============================] - 3s 59ms/step - loss: 2.3010 - accuracy: 0.1144\n",
      "Epoch 263/300\n",
      "59/59 [==============================] - 4s 60ms/step - loss: 2.3011 - accuracy: 0.1127\n",
      "Epoch 264/300\n",
      "59/59 [==============================] - 4s 61ms/step - loss: 2.3013 - accuracy: 0.1125\n",
      "Epoch 265/300\n",
      "59/59 [==============================] - 4s 60ms/step - loss: 2.3012 - accuracy: 0.1123\n",
      "Epoch 266/300\n",
      "59/59 [==============================] - 4s 60ms/step - loss: 2.3015 - accuracy: 0.1108\n",
      "Epoch 267/300\n",
      "59/59 [==============================] - 4s 60ms/step - loss: 2.3012 - accuracy: 0.1125\n",
      "Epoch 268/300\n",
      "59/59 [==============================] - 4s 64ms/step - loss: 2.3014 - accuracy: 0.1110\n",
      "Epoch 269/300\n",
      "59/59 [==============================] - 4s 67ms/step - loss: 2.3013 - accuracy: 0.1133\n",
      "Epoch 270/300\n",
      "59/59 [==============================] - 4s 63ms/step - loss: 2.3011 - accuracy: 0.1123\n",
      "Epoch 271/300\n",
      "59/59 [==============================] - 4s 62ms/step - loss: 2.3012 - accuracy: 0.1121\n",
      "Epoch 272/300\n",
      "59/59 [==============================] - 4s 63ms/step - loss: 2.3008 - accuracy: 0.1140\n",
      "Epoch 273/300\n",
      "59/59 [==============================] - 4s 63ms/step - loss: 2.3014 - accuracy: 0.1107\n",
      "Epoch 274/300\n",
      "59/59 [==============================] - 4s 63ms/step - loss: 2.3013 - accuracy: 0.1114\n",
      "Epoch 275/300\n",
      "59/59 [==============================] - 4s 63ms/step - loss: 2.3013 - accuracy: 0.1107\n",
      "Epoch 276/300\n",
      "59/59 [==============================] - 4s 63ms/step - loss: 2.3011 - accuracy: 0.1112\n",
      "Epoch 277/300\n",
      "59/59 [==============================] - 4s 64ms/step - loss: 2.3012 - accuracy: 0.1119\n",
      "Epoch 278/300\n",
      "59/59 [==============================] - 4s 63ms/step - loss: 2.3012 - accuracy: 0.1114\n",
      "Epoch 279/300\n",
      "59/59 [==============================] - 4s 64ms/step - loss: 2.3012 - accuracy: 0.1145\n",
      "Epoch 280/300\n",
      "59/59 [==============================] - 4s 64ms/step - loss: 2.3010 - accuracy: 0.1134\n",
      "Epoch 281/300\n",
      "59/59 [==============================] - 4s 65ms/step - loss: 2.3012 - accuracy: 0.1109\n",
      "Epoch 282/300\n",
      "59/59 [==============================] - 4s 65ms/step - loss: 2.3013 - accuracy: 0.1102\n",
      "Epoch 283/300\n",
      "59/59 [==============================] - 4s 64ms/step - loss: 2.3014 - accuracy: 0.1110\n",
      "Epoch 284/300\n",
      "59/59 [==============================] - 4s 65ms/step - loss: 2.3013 - accuracy: 0.1117\n",
      "Epoch 285/300\n",
      "59/59 [==============================] - 4s 65ms/step - loss: 2.3007 - accuracy: 0.1127\n",
      "Epoch 286/300\n",
      "59/59 [==============================] - 4s 65ms/step - loss: 2.3007 - accuracy: 0.1143\n",
      "Epoch 287/300\n",
      "59/59 [==============================] - 4s 65ms/step - loss: 2.3011 - accuracy: 0.1124\n",
      "Epoch 288/300\n",
      "59/59 [==============================] - 4s 65ms/step - loss: 2.3015 - accuracy: 0.1116\n",
      "Epoch 289/300\n",
      "59/59 [==============================] - 4s 66ms/step - loss: 2.3012 - accuracy: 0.1123\n",
      "Epoch 290/300\n",
      "59/59 [==============================] - 4s 66ms/step - loss: 2.3010 - accuracy: 0.1118\n",
      "Epoch 291/300\n",
      "59/59 [==============================] - 4s 66ms/step - loss: 2.3010 - accuracy: 0.1142\n",
      "Epoch 292/300\n",
      "59/59 [==============================] - 4s 66ms/step - loss: 2.3012 - accuracy: 0.1129\n",
      "Epoch 293/300\n",
      "59/59 [==============================] - 4s 66ms/step - loss: 2.3014 - accuracy: 0.1134\n",
      "Epoch 294/300\n",
      "59/59 [==============================] - 4s 66ms/step - loss: 2.3017 - accuracy: 0.1117\n",
      "Epoch 295/300\n",
      "59/59 [==============================] - 4s 67ms/step - loss: 2.3014 - accuracy: 0.1092\n",
      "Epoch 296/300\n",
      "59/59 [==============================] - 4s 73ms/step - loss: 2.3015 - accuracy: 0.1104\n",
      "Epoch 297/300\n",
      "59/59 [==============================] - 4s 70ms/step - loss: 2.3011 - accuracy: 0.1138\n",
      "Epoch 298/300\n",
      "59/59 [==============================] - 4s 74ms/step - loss: 2.3012 - accuracy: 0.1133\n",
      "Epoch 299/300\n",
      "59/59 [==============================] - 4s 72ms/step - loss: 2.3012 - accuracy: 0.1136\n",
      "Epoch 300/300\n",
      "59/59 [==============================] - 4s 72ms/step - loss: 2.3009 - accuracy: 0.1145\n",
      "Model: \"sequential\"\n",
      "_________________________________________________________________\n",
      "Layer (type)                 Output Shape              Param #   \n",
      "=================================================================\n",
      "max_pooling2d (MaxPooling2D) (None, 13, 13, 14)        0         \n",
      "_________________________________________________________________\n",
      "flatten (Flatten)            (None, 2366)              0         \n",
      "_________________________________________________________________\n",
      "dense (Dense)                (None, 1024)              2423808   \n",
      "_________________________________________________________________\n",
      "dense_1 (Dense)              (None, 10)                10250     \n",
      "=================================================================\n",
      "Total params: 2,434,058\n",
      "Trainable params: 2,434,058\n",
      "Non-trainable params: 0\n",
      "_________________________________________________________________\n"
     ]
    }
   ],
   "source": [
    "import keras\n",
    "\n",
    "# Initialize the He initializer\n",
    "initializer = tf.keras.initializers.HeNormal()\n",
    "model_1 = Sequential()\n",
    "\n",
    "model_1.add(MaxPooling2D(pool_size=(2, 2)))\n",
    "model_1.add(Flatten())\n",
    "model_1.add(Dense(1024, activation='relu', kernel_initializer=initializer))\n",
    "model_1.add(Dense(10, activation='softmax', kernel_initializer=initializer))\n",
    "\n",
    "model_1.compile(optimizer='adam', \n",
    "               loss='sparse_categorical_crossentropy', \n",
    "               metrics = ['accuracy'])\n",
    "\n",
    "history_data1 = model_1.fit(x=train_data, \n",
    "                            y=train_labels, \n",
    "                            epochs=300, \n",
    "                            batch_size=1024)\n",
    "\n",
    "model_1.summary()"
   ]
  },
  {
   "cell_type": "markdown",
   "metadata": {},
   "source": [
    "### Experiment 2"
   ]
  },
  {
   "cell_type": "code",
   "execution_count": 24,
   "metadata": {},
   "outputs": [
    {
     "name": "stdout",
     "output_type": "stream",
     "text": [
      "Epoch 1/300\n",
      "59/59 [==============================] - 24s 399ms/step - loss: 4.1487 - accuracy: 0.0979\n",
      "Epoch 2/300\n",
      "59/59 [==============================] - 24s 406ms/step - loss: 2.3010 - accuracy: 0.1125\n",
      "Epoch 3/300\n",
      "59/59 [==============================] - 22s 368ms/step - loss: 2.2977 - accuracy: 0.1189\n",
      "Epoch 4/300\n",
      "59/59 [==============================] - 21s 357ms/step - loss: 2.2947 - accuracy: 0.1208\n",
      "Epoch 5/300\n",
      "59/59 [==============================] - 21s 349ms/step - loss: 2.2924 - accuracy: 0.1235\n",
      "Epoch 6/300\n",
      "59/59 [==============================] - 20s 342ms/step - loss: 2.2873 - accuracy: 0.1281\n",
      "Epoch 7/300\n",
      "59/59 [==============================] - 20s 331ms/step - loss: 2.2828 - accuracy: 0.1323\n",
      "Epoch 8/300\n",
      "59/59 [==============================] - 19s 322ms/step - loss: 2.2783 - accuracy: 0.1359\n",
      "Epoch 9/300\n",
      "59/59 [==============================] - 19s 325ms/step - loss: 2.2723 - accuracy: 0.1411\n",
      "Epoch 10/300\n",
      "59/59 [==============================] - 20s 333ms/step - loss: 2.2642 - accuracy: 0.1430\n",
      "Epoch 11/300\n",
      "59/59 [==============================] - 20s 334ms/step - loss: 2.2558 - accuracy: 0.1501\n",
      "Epoch 12/300\n",
      "59/59 [==============================] - 20s 341ms/step - loss: 2.2489 - accuracy: 0.1521\n",
      "Epoch 13/300\n",
      "59/59 [==============================] - 20s 346ms/step - loss: 2.2333 - accuracy: 0.1676\n",
      "Epoch 14/300\n",
      "59/59 [==============================] - 20s 345ms/step - loss: 2.2226 - accuracy: 0.1716\n",
      "Epoch 15/300\n",
      "59/59 [==============================] - 21s 351ms/step - loss: 2.2086 - accuracy: 0.1783\n",
      "Epoch 16/300\n",
      "59/59 [==============================] - 21s 350ms/step - loss: 2.1954 - accuracy: 0.1852\n",
      "Epoch 17/300\n",
      "59/59 [==============================] - 21s 351ms/step - loss: 2.1783 - accuracy: 0.1932\n",
      "Epoch 18/300\n",
      "59/59 [==============================] - 21s 355ms/step - loss: 2.1581 - accuracy: 0.2059\n",
      "Epoch 19/300\n",
      "59/59 [==============================] - 21s 362ms/step - loss: 2.1408 - accuracy: 0.2156\n",
      "Epoch 20/300\n",
      "59/59 [==============================] - 21s 349ms/step - loss: 2.1130 - accuracy: 0.2270\n",
      "Epoch 21/300\n",
      "59/59 [==============================] - 20s 340ms/step - loss: 2.0915 - accuracy: 0.2370\n",
      "Epoch 22/300\n",
      "59/59 [==============================] - 20s 337ms/step - loss: 2.0700 - accuracy: 0.2465\n",
      "Epoch 23/300\n",
      "59/59 [==============================] - 20s 331ms/step - loss: 2.0423 - accuracy: 0.2543\n",
      "Epoch 24/300\n",
      "59/59 [==============================] - 19s 326ms/step - loss: 2.0156 - accuracy: 0.2680\n",
      "Epoch 25/300\n",
      "59/59 [==============================] - 19s 325ms/step - loss: 1.9823 - accuracy: 0.2809\n",
      "Epoch 26/300\n",
      "59/59 [==============================] - 20s 331ms/step - loss: 1.9598 - accuracy: 0.2921\n",
      "Epoch 27/300\n",
      "59/59 [==============================] - 19s 325ms/step - loss: 1.9296 - accuracy: 0.3057\n",
      "Epoch 28/300\n",
      "59/59 [==============================] - 19s 326ms/step - loss: 1.8924 - accuracy: 0.3156\n",
      "Epoch 29/300\n",
      "59/59 [==============================] - 20s 334ms/step - loss: 1.8659 - accuracy: 0.3310\n",
      "Epoch 30/300\n",
      "59/59 [==============================] - 21s 356ms/step - loss: 1.8170 - accuracy: 0.3481\n",
      "Epoch 31/300\n",
      "59/59 [==============================] - 22s 369ms/step - loss: 1.7924 - accuracy: 0.3592\n",
      "Epoch 32/300\n",
      "59/59 [==============================] - 21s 359ms/step - loss: 1.7535 - accuracy: 0.3698\n",
      "Epoch 33/300\n",
      "59/59 [==============================] - 25s 431ms/step - loss: 1.7249 - accuracy: 0.3841\n",
      "Epoch 34/300\n",
      "59/59 [==============================] - 23s 383ms/step - loss: 1.6876 - accuracy: 0.3981\n",
      "Epoch 35/300\n",
      "59/59 [==============================] - 22s 373ms/step - loss: 1.6481 - accuracy: 0.4128\n",
      "Epoch 36/300\n",
      "59/59 [==============================] - 23s 395ms/step - loss: 1.6136 - accuracy: 0.4288\n",
      "Epoch 37/300\n",
      "59/59 [==============================] - 22s 370ms/step - loss: 1.5697 - accuracy: 0.4428\n",
      "Epoch 38/300\n",
      "59/59 [==============================] - 25s 422ms/step - loss: 1.5447 - accuracy: 0.4535\n",
      "Epoch 39/300\n",
      "59/59 [==============================] - 27s 454ms/step - loss: 1.5177 - accuracy: 0.4661\n",
      "Epoch 40/300\n",
      "59/59 [==============================] - 23s 386ms/step - loss: 1.4732 - accuracy: 0.4781\n",
      "Epoch 41/300\n",
      "59/59 [==============================] - 22s 375ms/step - loss: 1.4449 - accuracy: 0.4873\n",
      "Epoch 42/300\n",
      "59/59 [==============================] - 23s 394ms/step - loss: 1.4081 - accuracy: 0.5016\n",
      "Epoch 43/300\n",
      "59/59 [==============================] - 23s 386ms/step - loss: 1.3704 - accuracy: 0.5189\n",
      "Epoch 44/300\n",
      "59/59 [==============================] - 22s 375ms/step - loss: 1.3376 - accuracy: 0.5278\n",
      "Epoch 45/300\n",
      "59/59 [==============================] - 24s 411ms/step - loss: 1.3154 - accuracy: 0.5343\n",
      "Epoch 46/300\n",
      "59/59 [==============================] - 24s 407ms/step - loss: 1.2833 - accuracy: 0.5470\n",
      "Epoch 47/300\n",
      "59/59 [==============================] - 22s 381ms/step - loss: 1.2533 - accuracy: 0.5579\n",
      "Epoch 48/300\n",
      "59/59 [==============================] - 22s 376ms/step - loss: 1.2247 - accuracy: 0.5670\n",
      "Epoch 49/300\n",
      "59/59 [==============================] - 22s 371ms/step - loss: 1.1879 - accuracy: 0.5791\n",
      "Epoch 50/300\n",
      "59/59 [==============================] - 21s 353ms/step - loss: 1.1518 - accuracy: 0.5944\n",
      "Epoch 51/300\n",
      "59/59 [==============================] - 22s 380ms/step - loss: 1.1322 - accuracy: 0.5982\n",
      "Epoch 52/300\n",
      "59/59 [==============================] - 24s 406ms/step - loss: 1.0983 - accuracy: 0.6161\n",
      "Epoch 53/300\n",
      "59/59 [==============================] - 22s 369ms/step - loss: 1.0731 - accuracy: 0.6243\n",
      "Epoch 54/300\n",
      "59/59 [==============================] - 22s 371ms/step - loss: 1.0554 - accuracy: 0.6276\n",
      "Epoch 55/300\n",
      "59/59 [==============================] - 26s 439ms/step - loss: 1.0348 - accuracy: 0.6349\n",
      "Epoch 56/300\n",
      "59/59 [==============================] - 22s 380ms/step - loss: 1.0094 - accuracy: 0.6423\n",
      "Epoch 57/300\n",
      "59/59 [==============================] - 22s 366ms/step - loss: 0.9791 - accuracy: 0.6560\n",
      "Epoch 58/300\n",
      "59/59 [==============================] - 25s 420ms/step - loss: 0.9715 - accuracy: 0.6565\n",
      "Epoch 59/300\n",
      "59/59 [==============================] - 25s 421ms/step - loss: 0.9565 - accuracy: 0.6659\n",
      "Epoch 60/300\n",
      "59/59 [==============================] - 24s 402ms/step - loss: 0.9334 - accuracy: 0.6683\n",
      "Epoch 61/300\n",
      "59/59 [==============================] - 25s 427ms/step - loss: 0.9055 - accuracy: 0.6816\n",
      "Epoch 62/300\n",
      "59/59 [==============================] - 23s 392ms/step - loss: 0.8793 - accuracy: 0.6878\n",
      "Epoch 63/300\n",
      "59/59 [==============================] - 21s 364ms/step - loss: 0.8775 - accuracy: 0.6905\n",
      "Epoch 64/300\n",
      "59/59 [==============================] - 21s 359ms/step - loss: 0.8410 - accuracy: 0.7022\n",
      "Epoch 65/300\n",
      "59/59 [==============================] - 22s 367ms/step - loss: 0.8308 - accuracy: 0.7065\n",
      "Epoch 66/300\n",
      "59/59 [==============================] - 24s 404ms/step - loss: 0.8130 - accuracy: 0.7129\n",
      "Epoch 67/300\n",
      "59/59 [==============================] - 25s 429ms/step - loss: 0.7941 - accuracy: 0.7200\n",
      "Epoch 68/300\n",
      "59/59 [==============================] - 22s 378ms/step - loss: 0.7745 - accuracy: 0.7274\n",
      "Epoch 69/300\n",
      "59/59 [==============================] - 24s 402ms/step - loss: 0.7548 - accuracy: 0.7361\n",
      "Epoch 70/300\n",
      "59/59 [==============================] - 23s 383ms/step - loss: 0.7468 - accuracy: 0.7377\n",
      "Epoch 71/300\n",
      "59/59 [==============================] - 24s 404ms/step - loss: 0.7392 - accuracy: 0.7387\n",
      "Epoch 72/300\n",
      "59/59 [==============================] - 24s 409ms/step - loss: 0.7123 - accuracy: 0.7511\n",
      "Epoch 73/300\n",
      "59/59 [==============================] - 22s 366ms/step - loss: 0.7188 - accuracy: 0.7466\n",
      "Epoch 74/300\n",
      "59/59 [==============================] - 25s 428ms/step - loss: 0.6994 - accuracy: 0.7557\n",
      "Epoch 75/300\n",
      "59/59 [==============================] - 24s 406ms/step - loss: 0.6805 - accuracy: 0.7614\n",
      "Epoch 76/300\n",
      "59/59 [==============================] - 22s 374ms/step - loss: 0.6697 - accuracy: 0.7632\n",
      "Epoch 77/300\n",
      "59/59 [==============================] - 23s 383ms/step - loss: 0.6612 - accuracy: 0.7677\n",
      "Epoch 78/300\n",
      "59/59 [==============================] - 23s 392ms/step - loss: 0.6451 - accuracy: 0.7751\n",
      "Epoch 79/300\n",
      "59/59 [==============================] - 22s 378ms/step - loss: 0.6286 - accuracy: 0.7798\n",
      "Epoch 80/300\n"
     ]
    },
    {
     "name": "stdout",
     "output_type": "stream",
     "text": [
      "59/59 [==============================] - 23s 396ms/step - loss: 0.6193 - accuracy: 0.7829\n",
      "Epoch 81/300\n",
      "59/59 [==============================] - 25s 431ms/step - loss: 0.6200 - accuracy: 0.7840\n",
      "Epoch 82/300\n",
      "59/59 [==============================] - 26s 436ms/step - loss: 0.6096 - accuracy: 0.7853\n",
      "Epoch 83/300\n",
      "59/59 [==============================] - 24s 413ms/step - loss: 0.6102 - accuracy: 0.7867\n",
      "Epoch 84/300\n",
      "59/59 [==============================] - 25s 419ms/step - loss: 0.5856 - accuracy: 0.7941\n",
      "Epoch 85/300\n",
      "59/59 [==============================] - 22s 380ms/step - loss: 0.5848 - accuracy: 0.7945\n",
      "Epoch 86/300\n",
      "59/59 [==============================] - 23s 396ms/step - loss: 0.5677 - accuracy: 0.8001\n",
      "Epoch 87/300\n",
      "59/59 [==============================] - 21s 359ms/step - loss: 0.5603 - accuracy: 0.8001\n",
      "Epoch 88/300\n",
      "59/59 [==============================] - 21s 351ms/step - loss: 0.5519 - accuracy: 0.8076\n",
      "Epoch 89/300\n",
      "59/59 [==============================] - 23s 391ms/step - loss: 0.5388 - accuracy: 0.8089\n",
      "Epoch 90/300\n",
      "59/59 [==============================] - 24s 401ms/step - loss: 0.5300 - accuracy: 0.8134\n",
      "Epoch 91/300\n",
      "59/59 [==============================] - 23s 386ms/step - loss: 0.5278 - accuracy: 0.8126\n",
      "Epoch 92/300\n",
      "59/59 [==============================] - 25s 422ms/step - loss: 0.5111 - accuracy: 0.8237\n",
      "Epoch 93/300\n",
      "59/59 [==============================] - 25s 425ms/step - loss: 0.5207 - accuracy: 0.8160\n",
      "Epoch 94/300\n",
      "59/59 [==============================] - 24s 406ms/step - loss: 0.5105 - accuracy: 0.8211\n",
      "Epoch 95/300\n",
      "59/59 [==============================] - 27s 451ms/step - loss: 0.4995 - accuracy: 0.8273\n",
      "Epoch 96/300\n",
      "59/59 [==============================] - 26s 444ms/step - loss: 0.4920 - accuracy: 0.8282\n",
      "Epoch 97/300\n",
      "59/59 [==============================] - 25s 422ms/step - loss: 0.4923 - accuracy: 0.8279\n",
      "Epoch 98/300\n",
      "59/59 [==============================] - 24s 402ms/step - loss: 0.4880 - accuracy: 0.8289\n",
      "Epoch 99/300\n",
      "59/59 [==============================] - 24s 406ms/step - loss: 0.4799 - accuracy: 0.8328\n",
      "Epoch 100/300\n",
      "59/59 [==============================] - 25s 418ms/step - loss: 0.4660 - accuracy: 0.8371\n",
      "Epoch 101/300\n",
      "59/59 [==============================] - 24s 413ms/step - loss: 0.4589 - accuracy: 0.8414\n",
      "Epoch 102/300\n",
      "59/59 [==============================] - 23s 396ms/step - loss: 0.4542 - accuracy: 0.8417\n",
      "Epoch 103/300\n",
      "59/59 [==============================] - 23s 394ms/step - loss: 0.4492 - accuracy: 0.8444\n",
      "Epoch 104/300\n",
      "59/59 [==============================] - 25s 432ms/step - loss: 0.4533 - accuracy: 0.8403\n",
      "Epoch 105/300\n",
      "59/59 [==============================] - 26s 434ms/step - loss: 0.4496 - accuracy: 0.8411\n",
      "Epoch 106/300\n",
      "59/59 [==============================] - 27s 451ms/step - loss: 0.4400 - accuracy: 0.8468\n",
      "Epoch 107/300\n",
      "59/59 [==============================] - 25s 428ms/step - loss: 0.4289 - accuracy: 0.8477\n",
      "Epoch 108/300\n",
      "59/59 [==============================] - 25s 421ms/step - loss: 0.4282 - accuracy: 0.8495\n",
      "Epoch 109/300\n",
      "59/59 [==============================] - 25s 428ms/step - loss: 0.4337 - accuracy: 0.8480\n",
      "Epoch 110/300\n",
      "59/59 [==============================] - 26s 444ms/step - loss: 0.4194 - accuracy: 0.8536\n",
      "Epoch 111/300\n",
      "59/59 [==============================] - 26s 437ms/step - loss: 0.4169 - accuracy: 0.8536\n",
      "Epoch 112/300\n",
      "59/59 [==============================] - 23s 391ms/step - loss: 0.4199 - accuracy: 0.8514\n",
      "Epoch 113/300\n",
      "59/59 [==============================] - 23s 397ms/step - loss: 0.4051 - accuracy: 0.8597\n",
      "Epoch 114/300\n",
      "59/59 [==============================] - 25s 423ms/step - loss: 0.4028 - accuracy: 0.8610\n",
      "Epoch 115/300\n",
      "59/59 [==============================] - 24s 408ms/step - loss: 0.3933 - accuracy: 0.8638\n",
      "Epoch 116/300\n",
      "59/59 [==============================] - 25s 416ms/step - loss: 0.4036 - accuracy: 0.8601\n",
      "Epoch 117/300\n",
      "59/59 [==============================] - 22s 377ms/step - loss: 0.4151 - accuracy: 0.8568\n",
      "Epoch 118/300\n",
      "59/59 [==============================] - 23s 394ms/step - loss: 0.3912 - accuracy: 0.8633\n",
      "Epoch 119/300\n",
      "59/59 [==============================] - 24s 414ms/step - loss: 0.3886 - accuracy: 0.8667\n",
      "Epoch 120/300\n",
      "59/59 [==============================] - 25s 420ms/step - loss: 0.3786 - accuracy: 0.8677\n",
      "Epoch 121/300\n",
      "59/59 [==============================] - 23s 381ms/step - loss: 0.3799 - accuracy: 0.8665\n",
      "Epoch 122/300\n",
      "59/59 [==============================] - 23s 390ms/step - loss: 0.3837 - accuracy: 0.8652\n",
      "Epoch 123/300\n",
      "59/59 [==============================] - 24s 398ms/step - loss: 0.3877 - accuracy: 0.8645\n",
      "Epoch 124/300\n",
      "59/59 [==============================] - 24s 412ms/step - loss: 0.3816 - accuracy: 0.8673\n",
      "Epoch 125/300\n",
      "59/59 [==============================] - 24s 404ms/step - loss: 0.3722 - accuracy: 0.8692\n",
      "Epoch 126/300\n",
      "59/59 [==============================] - 23s 390ms/step - loss: 0.3560 - accuracy: 0.8768\n",
      "Epoch 127/300\n",
      "59/59 [==============================] - 25s 421ms/step - loss: 0.3602 - accuracy: 0.8770\n",
      "Epoch 128/300\n",
      "59/59 [==============================] - 26s 439ms/step - loss: 0.3569 - accuracy: 0.8779\n",
      "Epoch 129/300\n",
      "59/59 [==============================] - 27s 460ms/step - loss: 0.3558 - accuracy: 0.8741\n",
      "Epoch 130/300\n",
      "59/59 [==============================] - 26s 435ms/step - loss: 0.3580 - accuracy: 0.8753\n",
      "Epoch 131/300\n",
      "59/59 [==============================] - 24s 400ms/step - loss: 0.3510 - accuracy: 0.8777\n",
      "Epoch 132/300\n",
      "59/59 [==============================] - 21s 354ms/step - loss: 0.3445 - accuracy: 0.8797\n",
      "Epoch 133/300\n",
      "59/59 [==============================] - 21s 351ms/step - loss: 0.3537 - accuracy: 0.8780\n",
      "Epoch 134/300\n",
      "59/59 [==============================] - 23s 393ms/step - loss: 0.3391 - accuracy: 0.8824\n",
      "Epoch 135/300\n",
      "59/59 [==============================] - 26s 448ms/step - loss: 0.3464 - accuracy: 0.8792\n",
      "Epoch 136/300\n",
      "59/59 [==============================] - 26s 441ms/step - loss: 0.3416 - accuracy: 0.8812\n",
      "Epoch 137/300\n",
      "59/59 [==============================] - 25s 427ms/step - loss: 0.3507 - accuracy: 0.8782\n",
      "Epoch 138/300\n",
      "59/59 [==============================] - 28s 473ms/step - loss: 0.3338 - accuracy: 0.8866\n",
      "Epoch 139/300\n",
      "59/59 [==============================] - 30s 511ms/step - loss: 0.3389 - accuracy: 0.8827\n",
      "Epoch 140/300\n",
      "59/59 [==============================] - 26s 447ms/step - loss: 0.3235 - accuracy: 0.8859\n",
      "Epoch 141/300\n",
      "59/59 [==============================] - 23s 382ms/step - loss: 0.3278 - accuracy: 0.8850\n",
      "Epoch 142/300\n",
      "59/59 [==============================] - 21s 363ms/step - loss: 0.3367 - accuracy: 0.8821\n",
      "Epoch 143/300\n",
      "59/59 [==============================] - 23s 383ms/step - loss: 0.3283 - accuracy: 0.8865\n",
      "Epoch 144/300\n",
      "59/59 [==============================] - 24s 410ms/step - loss: 0.3246 - accuracy: 0.8861\n",
      "Epoch 145/300\n",
      "59/59 [==============================] - 23s 390ms/step - loss: 0.3182 - accuracy: 0.8913\n",
      "Epoch 146/300\n",
      "59/59 [==============================] - 22s 377ms/step - loss: 0.3184 - accuracy: 0.8881\n",
      "Epoch 147/300\n",
      "59/59 [==============================] - 25s 423ms/step - loss: 0.3121 - accuracy: 0.8902\n",
      "Epoch 148/300\n",
      "59/59 [==============================] - 23s 391ms/step - loss: 0.3118 - accuracy: 0.8927\n",
      "Epoch 149/300\n",
      "59/59 [==============================] - 26s 436ms/step - loss: 0.3238 - accuracy: 0.8866\n",
      "Epoch 150/300\n",
      "59/59 [==============================] - 25s 417ms/step - loss: 0.3081 - accuracy: 0.8921\n",
      "Epoch 151/300\n",
      "59/59 [==============================] - 23s 385ms/step - loss: 0.3146 - accuracy: 0.8907\n",
      "Epoch 152/300\n",
      "59/59 [==============================] - 24s 414ms/step - loss: 0.3065 - accuracy: 0.8915\n",
      "Epoch 153/300\n",
      "59/59 [==============================] - 22s 374ms/step - loss: 0.3079 - accuracy: 0.8929\n",
      "Epoch 154/300\n",
      "59/59 [==============================] - 21s 357ms/step - loss: 0.3038 - accuracy: 0.8912\n",
      "Epoch 155/300\n",
      "59/59 [==============================] - 23s 396ms/step - loss: 0.2944 - accuracy: 0.8986\n",
      "Epoch 156/300\n",
      "59/59 [==============================] - 29s 498ms/step - loss: 0.2912 - accuracy: 0.9001\n",
      "Epoch 157/300\n",
      "59/59 [==============================] - 25s 432ms/step - loss: 0.2889 - accuracy: 0.8981\n",
      "Epoch 158/300\n",
      "59/59 [==============================] - 34s 578ms/step - loss: 0.2907 - accuracy: 0.8988\n",
      "Epoch 159/300\n"
     ]
    },
    {
     "name": "stdout",
     "output_type": "stream",
     "text": [
      "59/59 [==============================] - 35s 594ms/step - loss: 0.3013 - accuracy: 0.8954\n",
      "Epoch 160/300\n",
      "59/59 [==============================] - 37s 632ms/step - loss: 0.2768 - accuracy: 0.9019\n",
      "Epoch 161/300\n",
      "59/59 [==============================] - 32s 535ms/step - loss: 0.2986 - accuracy: 0.8957\n",
      "Epoch 162/300\n",
      "59/59 [==============================] - 40s 674ms/step - loss: 0.2958 - accuracy: 0.8965\n",
      "Epoch 163/300\n",
      "59/59 [==============================] - 36s 612ms/step - loss: 0.2926 - accuracy: 0.8987\n",
      "Epoch 164/300\n",
      "59/59 [==============================] - 37s 629ms/step - loss: 0.2908 - accuracy: 0.9001\n",
      "Epoch 165/300\n",
      "59/59 [==============================] - 35s 586ms/step - loss: 0.2864 - accuracy: 0.9012\n",
      "Epoch 166/300\n",
      "59/59 [==============================] - 40s 671ms/step - loss: 0.2889 - accuracy: 0.8997\n",
      "Epoch 167/300\n",
      "59/59 [==============================] - 29s 486ms/step - loss: 0.2941 - accuracy: 0.8979\n",
      "Epoch 168/300\n",
      "59/59 [==============================] - 26s 439ms/step - loss: 0.2892 - accuracy: 0.8991\n",
      "Epoch 169/300\n",
      "59/59 [==============================] - 24s 404ms/step - loss: 0.2892 - accuracy: 0.8989\n",
      "Epoch 170/300\n",
      "59/59 [==============================] - 20s 340ms/step - loss: 0.2722 - accuracy: 0.9051\n",
      "Epoch 171/300\n",
      "59/59 [==============================] - 20s 337ms/step - loss: 0.2689 - accuracy: 0.9085\n",
      "Epoch 172/300\n",
      "59/59 [==============================] - 20s 343ms/step - loss: 0.2762 - accuracy: 0.9030\n",
      "Epoch 173/300\n",
      "59/59 [==============================] - 21s 350ms/step - loss: 0.2767 - accuracy: 0.9035\n",
      "Epoch 174/300\n",
      "59/59 [==============================] - 21s 349ms/step - loss: 0.2750 - accuracy: 0.9030\n",
      "Epoch 175/300\n",
      "59/59 [==============================] - 21s 354ms/step - loss: 0.2772 - accuracy: 0.9046\n",
      "Epoch 176/300\n",
      "59/59 [==============================] - 21s 355ms/step - loss: 0.2720 - accuracy: 0.9046\n",
      "Epoch 177/300\n",
      "59/59 [==============================] - 21s 359ms/step - loss: 0.2781 - accuracy: 0.9014\n",
      "Epoch 178/300\n",
      "59/59 [==============================] - 21s 351ms/step - loss: 0.2745 - accuracy: 0.9038\n",
      "Epoch 179/300\n",
      "59/59 [==============================] - 20s 345ms/step - loss: 0.2660 - accuracy: 0.9074\n",
      "Epoch 180/300\n",
      "59/59 [==============================] - 20s 336ms/step - loss: 0.2667 - accuracy: 0.9074\n",
      "Epoch 181/300\n",
      "59/59 [==============================] - 19s 330ms/step - loss: 0.2675 - accuracy: 0.9078\n",
      "Epoch 182/300\n",
      "59/59 [==============================] - 19s 325ms/step - loss: 0.2689 - accuracy: 0.9083\n",
      "Epoch 183/300\n",
      "59/59 [==============================] - 19s 323ms/step - loss: 0.2606 - accuracy: 0.9090\n",
      "Epoch 184/300\n",
      "59/59 [==============================] - 20s 331ms/step - loss: 0.2580 - accuracy: 0.9116\n",
      "Epoch 185/300\n",
      "59/59 [==============================] - 20s 336ms/step - loss: 0.2483 - accuracy: 0.9133\n",
      "Epoch 186/300\n",
      "59/59 [==============================] - 21s 349ms/step - loss: 0.2731 - accuracy: 0.9063\n",
      "Epoch 187/300\n",
      "59/59 [==============================] - 20s 347ms/step - loss: 0.2612 - accuracy: 0.9100\n",
      "Epoch 188/300\n",
      "59/59 [==============================] - 21s 351ms/step - loss: 0.2593 - accuracy: 0.9096\n",
      "Epoch 189/300\n",
      "59/59 [==============================] - 21s 350ms/step - loss: 0.2574 - accuracy: 0.9123\n",
      "Epoch 190/300\n",
      "59/59 [==============================] - 21s 352ms/step - loss: 0.2441 - accuracy: 0.9157\n",
      "Epoch 191/300\n",
      "59/59 [==============================] - 21s 360ms/step - loss: 0.2455 - accuracy: 0.9157\n",
      "Epoch 192/300\n",
      "59/59 [==============================] - 21s 357ms/step - loss: 0.2564 - accuracy: 0.9116\n",
      "Epoch 193/300\n",
      "59/59 [==============================] - 21s 348ms/step - loss: 0.2617 - accuracy: 0.9090\n",
      "Epoch 194/300\n",
      "59/59 [==============================] - 20s 339ms/step - loss: 0.2604 - accuracy: 0.9119\n",
      "Epoch 195/300\n",
      "59/59 [==============================] - 20s 333ms/step - loss: 0.2622 - accuracy: 0.9085\n",
      "Epoch 196/300\n",
      "59/59 [==============================] - 19s 324ms/step - loss: 0.2615 - accuracy: 0.9083\n",
      "Epoch 197/300\n",
      "59/59 [==============================] - 19s 330ms/step - loss: 0.2607 - accuracy: 0.9097\n",
      "Epoch 198/300\n",
      "59/59 [==============================] - 20s 335ms/step - loss: 0.2532 - accuracy: 0.9126\n",
      "Epoch 199/300\n",
      "59/59 [==============================] - 20s 339ms/step - loss: 0.2457 - accuracy: 0.9149\n",
      "Epoch 200/300\n",
      "59/59 [==============================] - 20s 342ms/step - loss: 0.2508 - accuracy: 0.9125\n",
      "Epoch 201/300\n",
      "59/59 [==============================] - 20s 348ms/step - loss: 0.2412 - accuracy: 0.9148\n",
      "Epoch 202/300\n",
      "59/59 [==============================] - 21s 350ms/step - loss: 0.2451 - accuracy: 0.9129\n",
      "Epoch 203/300\n",
      "59/59 [==============================] - 21s 351ms/step - loss: 0.2422 - accuracy: 0.9158\n",
      "Epoch 204/300\n",
      "59/59 [==============================] - 21s 356ms/step - loss: 0.2407 - accuracy: 0.9166\n",
      "Epoch 205/300\n",
      "59/59 [==============================] - 21s 354ms/step - loss: 0.2389 - accuracy: 0.9171\n",
      "Epoch 206/300\n",
      "59/59 [==============================] - 20s 344ms/step - loss: 0.2432 - accuracy: 0.9148\n",
      "Epoch 207/300\n",
      "59/59 [==============================] - 20s 338ms/step - loss: 0.2334 - accuracy: 0.9202\n",
      "Epoch 208/300\n",
      "59/59 [==============================] - 25s 425ms/step - loss: 0.2335 - accuracy: 0.9180\n",
      "Epoch 209/300\n",
      "59/59 [==============================] - 23s 392ms/step - loss: 0.2291 - accuracy: 0.9204\n",
      "Epoch 210/300\n",
      "59/59 [==============================] - 22s 365ms/step - loss: 0.2317 - accuracy: 0.9182\n",
      "Epoch 211/300\n",
      "59/59 [==============================] - 23s 394ms/step - loss: 0.2226 - accuracy: 0.9225\n",
      "Epoch 212/300\n",
      "59/59 [==============================] - 22s 375ms/step - loss: 0.2394 - accuracy: 0.9161\n",
      "Epoch 213/300\n",
      "59/59 [==============================] - 22s 377ms/step - loss: 0.2353 - accuracy: 0.9180\n",
      "Epoch 214/300\n",
      "59/59 [==============================] - 23s 397ms/step - loss: 0.2367 - accuracy: 0.9159\n",
      "Epoch 215/300\n",
      "59/59 [==============================] - 25s 414ms/step - loss: 0.2335 - accuracy: 0.9196\n",
      "Epoch 216/300\n",
      "59/59 [==============================] - 23s 391ms/step - loss: 0.2308 - accuracy: 0.9206\n",
      "Epoch 217/300\n",
      "59/59 [==============================] - 27s 465ms/step - loss: 0.2304 - accuracy: 0.9204\n",
      "Epoch 218/300\n",
      "59/59 [==============================] - 32s 536ms/step - loss: 0.2380 - accuracy: 0.9166\n",
      "Epoch 219/300\n",
      "59/59 [==============================] - 30s 510ms/step - loss: 0.2316 - accuracy: 0.9192\n",
      "Epoch 220/300\n",
      "59/59 [==============================] - 33s 565ms/step - loss: 0.2305 - accuracy: 0.9217\n",
      "Epoch 221/300\n",
      "59/59 [==============================] - 28s 482ms/step - loss: 0.2244 - accuracy: 0.9212\n",
      "Epoch 222/300\n",
      "59/59 [==============================] - 25s 414ms/step - loss: 0.2094 - accuracy: 0.9289\n",
      "Epoch 223/300\n",
      "59/59 [==============================] - 22s 378ms/step - loss: 0.2218 - accuracy: 0.9240\n",
      "Epoch 224/300\n",
      "59/59 [==============================] - 25s 416ms/step - loss: 0.2149 - accuracy: 0.9260\n",
      "Epoch 225/300\n",
      "59/59 [==============================] - 23s 397ms/step - loss: 0.2191 - accuracy: 0.9253\n",
      "Epoch 226/300\n",
      "59/59 [==============================] - 23s 398ms/step - loss: 0.2258 - accuracy: 0.9220\n",
      "Epoch 227/300\n",
      "59/59 [==============================] - 24s 408ms/step - loss: 0.2233 - accuracy: 0.9226\n",
      "Epoch 228/300\n",
      "59/59 [==============================] - 24s 409ms/step - loss: 0.2327 - accuracy: 0.9195\n",
      "Epoch 229/300\n",
      "59/59 [==============================] - 23s 395ms/step - loss: 0.2220 - accuracy: 0.9216\n",
      "Epoch 230/300\n",
      "59/59 [==============================] - 22s 380ms/step - loss: 0.2438 - accuracy: 0.9164\n",
      "Epoch 231/300\n",
      "59/59 [==============================] - 22s 370ms/step - loss: 0.2296 - accuracy: 0.9190\n",
      "Epoch 232/300\n",
      "59/59 [==============================] - 22s 370ms/step - loss: 0.2308 - accuracy: 0.9192\n",
      "Epoch 233/300\n",
      "59/59 [==============================] - 21s 357ms/step - loss: 0.2221 - accuracy: 0.9216\n",
      "Epoch 234/300\n",
      "59/59 [==============================] - 21s 358ms/step - loss: 0.2208 - accuracy: 0.9240\n",
      "Epoch 235/300\n",
      "59/59 [==============================] - 21s 360ms/step - loss: 0.2216 - accuracy: 0.9241\n",
      "Epoch 236/300\n",
      "59/59 [==============================] - 21s 359ms/step - loss: 0.2172 - accuracy: 0.9243\n",
      "Epoch 237/300\n"
     ]
    },
    {
     "name": "stdout",
     "output_type": "stream",
     "text": [
      "59/59 [==============================] - 21s 361ms/step - loss: 0.2040 - accuracy: 0.9272\n",
      "Epoch 238/300\n",
      "59/59 [==============================] - 22s 369ms/step - loss: 0.2155 - accuracy: 0.9254\n",
      "Epoch 239/300\n",
      "59/59 [==============================] - 22s 367ms/step - loss: 0.2053 - accuracy: 0.9286\n",
      "Epoch 240/300\n",
      "59/59 [==============================] - 22s 374ms/step - loss: 0.2154 - accuracy: 0.9258\n",
      "Epoch 241/300\n",
      "59/59 [==============================] - 23s 393ms/step - loss: 0.2114 - accuracy: 0.9268\n",
      "Epoch 242/300\n",
      "59/59 [==============================] - 24s 405ms/step - loss: 0.2062 - accuracy: 0.9288\n",
      "Epoch 243/300\n",
      "59/59 [==============================] - 23s 390ms/step - loss: 0.2044 - accuracy: 0.9278\n",
      "Epoch 244/300\n",
      "59/59 [==============================] - 23s 381ms/step - loss: 0.2210 - accuracy: 0.9228\n",
      "Epoch 245/300\n",
      "59/59 [==============================] - 22s 368ms/step - loss: 0.2121 - accuracy: 0.9268\n",
      "Epoch 246/300\n",
      "59/59 [==============================] - 22s 364ms/step - loss: 0.2118 - accuracy: 0.9270\n",
      "Epoch 247/300\n",
      "59/59 [==============================] - 21s 360ms/step - loss: 0.2147 - accuracy: 0.9269\n",
      "Epoch 248/300\n",
      "59/59 [==============================] - 21s 364ms/step - loss: 0.2051 - accuracy: 0.9289\n",
      "Epoch 249/300\n",
      "59/59 [==============================] - 22s 365ms/step - loss: 0.2146 - accuracy: 0.9263\n",
      "Epoch 250/300\n",
      "59/59 [==============================] - 22s 371ms/step - loss: 0.2160 - accuracy: 0.9258\n",
      "Epoch 251/300\n",
      "59/59 [==============================] - 23s 382ms/step - loss: 0.2174 - accuracy: 0.9224\n",
      "Epoch 252/300\n",
      "59/59 [==============================] - 23s 396ms/step - loss: 0.2038 - accuracy: 0.9287\n",
      "Epoch 253/300\n",
      "59/59 [==============================] - 23s 389ms/step - loss: 0.2096 - accuracy: 0.9283\n",
      "Epoch 254/300\n",
      "59/59 [==============================] - 22s 381ms/step - loss: 0.2007 - accuracy: 0.9297\n",
      "Epoch 255/300\n",
      "59/59 [==============================] - 22s 373ms/step - loss: 0.2011 - accuracy: 0.9310\n",
      "Epoch 256/300\n",
      "59/59 [==============================] - 22s 366ms/step - loss: 0.2025 - accuracy: 0.9308\n",
      "Epoch 257/300\n",
      "59/59 [==============================] - 21s 361ms/step - loss: 0.2010 - accuracy: 0.9295\n",
      "Epoch 258/300\n",
      "59/59 [==============================] - 21s 362ms/step - loss: 0.1923 - accuracy: 0.9324\n",
      "Epoch 259/300\n",
      "59/59 [==============================] - 22s 373ms/step - loss: 0.2117 - accuracy: 0.9254\n",
      "Epoch 260/300\n",
      "59/59 [==============================] - 22s 377ms/step - loss: 0.2010 - accuracy: 0.9314\n",
      "Epoch 261/300\n",
      "59/59 [==============================] - 21s 348ms/step - loss: 0.2073 - accuracy: 0.9274\n",
      "Epoch 262/300\n",
      "59/59 [==============================] - 21s 357ms/step - loss: 0.2096 - accuracy: 0.9276\n",
      "Epoch 263/300\n",
      "59/59 [==============================] - 20s 346ms/step - loss: 0.2023 - accuracy: 0.9304\n",
      "Epoch 264/300\n",
      "59/59 [==============================] - 21s 351ms/step - loss: 0.2020 - accuracy: 0.9301\n",
      "Epoch 265/300\n",
      "59/59 [==============================] - 21s 355ms/step - loss: 0.1880 - accuracy: 0.9359\n",
      "Epoch 266/300\n",
      "59/59 [==============================] - 21s 363ms/step - loss: 0.1912 - accuracy: 0.9337\n",
      "Epoch 267/300\n",
      "59/59 [==============================] - 21s 358ms/step - loss: 0.1976 - accuracy: 0.9312\n",
      "Epoch 268/300\n",
      "59/59 [==============================] - 21s 352ms/step - loss: 0.2075 - accuracy: 0.9294\n",
      "Epoch 269/300\n",
      "59/59 [==============================] - 20s 343ms/step - loss: 0.1971 - accuracy: 0.9322\n",
      "Epoch 270/300\n",
      "59/59 [==============================] - 20s 335ms/step - loss: 0.2069 - accuracy: 0.9283\n",
      "Epoch 271/300\n",
      "59/59 [==============================] - 20s 334ms/step - loss: 0.1987 - accuracy: 0.9306\n",
      "Epoch 272/300\n",
      "59/59 [==============================] - 19s 330ms/step - loss: 0.1927 - accuracy: 0.9345\n",
      "Epoch 273/300\n",
      "59/59 [==============================] - 20s 338ms/step - loss: 0.2107 - accuracy: 0.9287\n",
      "Epoch 274/300\n",
      "59/59 [==============================] - 20s 342ms/step - loss: 0.2006 - accuracy: 0.9305\n",
      "Epoch 275/300\n",
      "59/59 [==============================] - 20s 344ms/step - loss: 0.1996 - accuracy: 0.9299\n",
      "Epoch 276/300\n",
      "59/59 [==============================] - 20s 343ms/step - loss: 0.2037 - accuracy: 0.9295\n",
      "Epoch 277/300\n",
      "59/59 [==============================] - 21s 351ms/step - loss: 0.1965 - accuracy: 0.9323\n",
      "Epoch 278/300\n",
      "59/59 [==============================] - 21s 351ms/step - loss: 0.1945 - accuracy: 0.9332\n",
      "Epoch 279/300\n",
      "59/59 [==============================] - 21s 353ms/step - loss: 0.1988 - accuracy: 0.9314\n",
      "Epoch 280/300\n",
      "59/59 [==============================] - 21s 361ms/step - loss: 0.1949 - accuracy: 0.9314\n",
      "Epoch 281/300\n",
      "59/59 [==============================] - 22s 366ms/step - loss: 0.1890 - accuracy: 0.9338\n",
      "Epoch 282/300\n",
      "59/59 [==============================] - 21s 361ms/step - loss: 0.2010 - accuracy: 0.9305\n",
      "Epoch 283/300\n",
      "59/59 [==============================] - 21s 362ms/step - loss: 0.1943 - accuracy: 0.9328\n",
      "Epoch 284/300\n",
      "59/59 [==============================] - 21s 356ms/step - loss: 0.1880 - accuracy: 0.9348\n",
      "Epoch 285/300\n",
      "59/59 [==============================] - 22s 369ms/step - loss: 0.1952 - accuracy: 0.9319\n",
      "Epoch 286/300\n",
      "59/59 [==============================] - 21s 360ms/step - loss: 0.1936 - accuracy: 0.9338\n",
      "Epoch 287/300\n",
      "59/59 [==============================] - 22s 368ms/step - loss: 0.1910 - accuracy: 0.9339\n",
      "Epoch 288/300\n",
      "59/59 [==============================] - 22s 365ms/step - loss: 0.1800 - accuracy: 0.9374\n",
      "Epoch 289/300\n",
      "59/59 [==============================] - 23s 381ms/step - loss: 0.1864 - accuracy: 0.9366\n",
      "Epoch 290/300\n",
      "59/59 [==============================] - 22s 374ms/step - loss: 0.1835 - accuracy: 0.9379\n",
      "Epoch 291/300\n",
      "59/59 [==============================] - 22s 366ms/step - loss: 0.1826 - accuracy: 0.9373\n",
      "Epoch 292/300\n",
      "59/59 [==============================] - 21s 353ms/step - loss: 0.1961 - accuracy: 0.9316\n",
      "Epoch 293/300\n",
      "59/59 [==============================] - 21s 357ms/step - loss: 0.1939 - accuracy: 0.9319\n",
      "Epoch 294/300\n",
      "59/59 [==============================] - 21s 361ms/step - loss: 0.1925 - accuracy: 0.9324\n",
      "Epoch 295/300\n",
      "59/59 [==============================] - 22s 366ms/step - loss: 0.1903 - accuracy: 0.9351\n",
      "Epoch 296/300\n",
      "59/59 [==============================] - 21s 364ms/step - loss: 0.1915 - accuracy: 0.9344\n",
      "Epoch 297/300\n",
      "59/59 [==============================] - 20s 347ms/step - loss: 0.1793 - accuracy: 0.9377\n",
      "Epoch 298/300\n",
      "59/59 [==============================] - 20s 340ms/step - loss: 0.1750 - accuracy: 0.9385\n",
      "Epoch 299/300\n",
      "59/59 [==============================] - 20s 337ms/step - loss: 0.1855 - accuracy: 0.9343\n",
      "Epoch 300/300\n",
      "59/59 [==============================] - 19s 329ms/step - loss: 0.1869 - accuracy: 0.9337\n",
      "Model: \"sequential_1\"\n",
      "_________________________________________________________________\n",
      "Layer (type)                 Output Shape              Param #   \n",
      "=================================================================\n",
      "batch_normalization (BatchNo (None, 26, 26, 14)        56        \n",
      "_________________________________________________________________\n",
      "max_pooling2d_1 (MaxPooling2 (None, 13, 13, 14)        0         \n",
      "_________________________________________________________________\n",
      "flatten_1 (Flatten)          (None, 2366)              0         \n",
      "_________________________________________________________________\n",
      "dense_2 (Dense)              (None, 1024)              2423808   \n",
      "_________________________________________________________________\n",
      "dropout (Dropout)            (None, 1024)              0         \n",
      "_________________________________________________________________\n",
      "dense_3 (Dense)              (None, 10)                10250     \n",
      "=================================================================\n",
      "Total params: 2,434,114\n",
      "Trainable params: 2,434,086\n",
      "Non-trainable params: 28\n",
      "_________________________________________________________________\n"
     ]
    }
   ],
   "source": [
    "from tensorflow.keras.layers import BatchNormalization\n",
    "from tensorflow.keras.layers import Dense\n",
    "from tensorflow.keras.layers import Dropout\n",
    "\n",
    "model_2 = Sequential()\n",
    "\n",
    "model_2.add(BatchNormalization())\n",
    "model_2.add(MaxPooling2D(pool_size=(2, 2)))\n",
    "model_2.add(Flatten())\n",
    "model_2.add(Dense(1024, activation='relu', kernel_initializer=initializer))\n",
    "model_2.add(Dropout(0.2))\n",
    "model_2.add(Dense(10, activation='softmax', kernel_initializer=initializer))\n",
    "\n",
    "model_2.compile(optimizer='adam', \n",
    "               loss='sparse_categorical_crossentropy', \n",
    "               metrics = ['accuracy'])\n",
    "\n",
    "history_data2 = model_2.fit(x=train_data, \n",
    "                                     y=train_labels, \n",
    "                                     epochs=300, \n",
    "                                     batch_size=1024)\n",
    "\n",
    "model_2.summary()"
   ]
  },
  {
   "cell_type": "markdown",
   "metadata": {},
   "source": [
    "# 3. GRAPH"
   ]
  },
  {
   "cell_type": "markdown",
   "metadata": {},
   "source": [
    "### 3.1. Model 1"
   ]
  },
  {
   "cell_type": "code",
   "execution_count": 25,
   "metadata": {},
   "outputs": [
    {
     "data": {
      "text/plain": [
       "<matplotlib.legend.Legend at 0x19cff23a130>"
      ]
     },
     "execution_count": 25,
     "metadata": {},
     "output_type": "execute_result"
    },
    {
     "data": {
      "image/png": "[encoded data removed]",
      "text/plain": [
       "<Figure size 432x288 with 1 Axes>"
      ]
     },
     "metadata": {
      "needs_background": "light"
     },
     "output_type": "display_data"
    }
   ],
   "source": [
    "import matplotlib.pyplot as plt\n",
    "\n",
    "plt.plot(history_data1.history['loss'], label = \"train_loss\")\n",
    "plt.xlabel('iteration')\n",
    "plt.ylabel('Loss')\n",
    "plt.legend()"
   ]
  },
  {
   "cell_type": "code",
   "execution_count": 26,
   "metadata": {},
   "outputs": [
    {
     "data": {
      "text/plain": [
       "<matplotlib.legend.Legend at 0x19cff4201f0>"
      ]
     },
     "execution_count": 26,
     "metadata": {},
     "output_type": "execute_result"
    },
    {
     "data": {
      "image/png": "[encoded data removed]",
      "text/plain": [
       "<Figure size 432x288 with 1 Axes>"
      ]
     },
     "metadata": {
      "needs_background": "light"
     },
     "output_type": "display_data"
    }
   ],
   "source": [
    "import matplotlib.pyplot as plt\n",
    "\n",
    "plt.plot(history_data1.history['accuracy'], label = \"train_accuracy\")\n",
    "plt.xlabel('iteration')\n",
    "plt.ylabel('Accuracy')\n",
    "plt.legend()"
   ]
  },
  {
   "cell_type": "markdown",
   "metadata": {},
   "source": [
    "### 3.2. Model 2"
   ]
  },
  {
   "cell_type": "code",
   "execution_count": 27,
   "metadata": {},
   "outputs": [
    {
     "data": {
      "text/plain": [
       "<matplotlib.legend.Legend at 0x19cff4672e0>"
      ]
     },
     "execution_count": 27,
     "metadata": {},
     "output_type": "execute_result"
    },
    {
     "data": {
      "image/png": "[encoded data removed]",
      "text/plain": [
       "<Figure size 432x288 with 1 Axes>"
      ]
     },
     "metadata": {
      "needs_background": "light"
     },
     "output_type": "display_data"
    }
   ],
   "source": [
    "import matplotlib.pyplot as plt\n",
    "\n",
    "plt.plot(history_data2.history['loss'], label = \"train_loss\")\n",
    "plt.xlabel('iteration')\n",
    "plt.ylabel('Loss')\n",
    "plt.legend()"
   ]
  },
  {
   "cell_type": "code",
   "execution_count": 28,
   "metadata": {},
   "outputs": [
    {
     "data": {
      "text/plain": [
       "<matplotlib.legend.Legend at 0x19cff4def40>"
      ]
     },
     "execution_count": 28,
     "metadata": {},
     "output_type": "execute_result"
    },
    {
     "data": {
      "image/png": "[encoded data removed]",
      "text/plain": [
       "<Figure size 432x288 with 1 Axes>"
      ]
     },
     "metadata": {
      "needs_background": "light"
     },
     "output_type": "display_data"
    }
   ],
   "source": [
    "import matplotlib.pyplot as plt\n",
    "\n",
    "plt.plot(history_data2.history['accuracy'], label = \"train_accuracy\")\n",
    "plt.xlabel('iteration')\n",
    "plt.ylabel('Accuracy')\n",
    "plt.legend()"
   ]
  },
  {
   "cell_type": "markdown",
   "metadata": {},
   "source": [
    "# 4. SAVE MODELS"
   ]
  },
  {
   "cell_type": "code",
   "execution_count": 29,
   "metadata": {},
   "outputs": [],
   "source": [
    "model_1.save('C://Users/MINH LE/Desktop/TraditionalvsCNN/models/Experiment 1/Exp1-MNIST-TraditionalFilter.h5')"
   ]
  },
  {
   "cell_type": "code",
   "execution_count": 30,
   "metadata": {},
   "outputs": [],
   "source": [
    "model_2.save('C://Users/MINH LE/Desktop/TraditionalvsCNN/models/Experiment 2/Exp2-MNIST-TraditionalFilter.h5')"
   ]
  }
 ],
 "metadata": {
  "kernelspec": {
   "display_name": "Python 3",
   "language": "python",
   "name": "python3"
  },
  "language_info": {
   "codemirror_mode": {
    "name": "ipython",
    "version": 3
   },
   "file_extension": ".py",
   "mimetype": "text/x-python",
   "name": "python",
   "nbconvert_exporter": "python",
   "pygments_lexer": "ipython3",
   "version": "3.8.5"
  }
 },
 "nbformat": 4,
 "nbformat_minor": 4
}
