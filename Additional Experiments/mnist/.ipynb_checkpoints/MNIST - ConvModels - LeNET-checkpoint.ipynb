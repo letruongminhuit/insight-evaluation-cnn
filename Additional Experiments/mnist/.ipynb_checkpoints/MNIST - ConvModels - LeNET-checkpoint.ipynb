{
 "cells": [
  {
   "cell_type": "code",
   "execution_count": 1,
   "metadata": {},
   "outputs": [],
   "source": [
    "import tensorflow as tf\n",
    "import numpy as np\n",
    "import tensorflow.keras as keras\n",
    "from tensorflow.image import resize"
   ]
  },
  {
   "cell_type": "code",
   "execution_count": 2,
   "metadata": {},
   "outputs": [
    {
     "name": "stdout",
     "output_type": "stream",
     "text": [
      "(60000, 28, 28, 1)\n",
      "(60000, 1)\n"
     ]
    }
   ],
   "source": [
    "mnist = tf.keras.datasets.mnist\n",
    "(train_images, train_labels), (test_images, test_labels) = mnist.load_data()\n",
    "\n",
    "# Preprocessing data\n",
    "train_images = train_images / 255.\n",
    "\n",
    "train_images = tf.reshape(train_images, (60000, 28, 28, 1))\n",
    "train_labels = tf.reshape(train_labels, (60000, 1))\n",
    "print(train_images.shape)\n",
    "print(train_labels.shape)"
   ]
  },
  {
   "cell_type": "code",
   "execution_count": 3,
   "metadata": {},
   "outputs": [
    {
     "data": {
      "text/plain": [
       "<tf.Tensor: shape=(60000, 1), dtype=uint8, numpy=\n",
       "array([[5],\n",
       "       [0],\n",
       "       [4],\n",
       "       ...,\n",
       "       [5],\n",
       "       [6],\n",
       "       [8]], dtype=uint8)>"
      ]
     },
     "execution_count": 3,
     "metadata": {},
     "output_type": "execute_result"
    }
   ],
   "source": [
    "train_labels"
   ]
  },
  {
   "cell_type": "code",
   "execution_count": 4,
   "metadata": {},
   "outputs": [
    {
     "name": "stderr",
     "output_type": "stream",
     "text": [
      "C:\\Users\\MINH LE\\anaconda3\\lib\\site-packages\\matplotlib\\text.py:1165: FutureWarning: elementwise comparison failed; returning scalar instead, but in the future will perform elementwise comparison\n",
      "  if s != self._text:\n"
     ]
    },
    {
     "data": {
      "image/png": "[encoded data removed]",
      "text/plain": [
       "<Figure size 720x720 with 25 Axes>"
      ]
     },
     "metadata": {},
     "output_type": "display_data"
    }
   ],
   "source": [
    "import matplotlib.pyplot as plt \n",
    "\n",
    "plt.figure(figsize=(10,10))\n",
    "for i in range(25):\n",
    "    plt.subplot(5,5,i+1)\n",
    "    plt.xticks([])\n",
    "    plt.yticks([])\n",
    "    plt.grid(False)\n",
    "    plt.imshow(train_images[i], cmap=plt.cm.binary)\n",
    "    plt.xlabel(train_labels.numpy()[i])\n",
    "plt.show()"
   ]
  },
  {
   "cell_type": "code",
   "execution_count": 5,
   "metadata": {},
   "outputs": [
    {
     "name": "stdout",
     "output_type": "stream",
     "text": [
      "Model: \"sequential\"\n",
      "_________________________________________________________________\n",
      "Layer (type)                 Output Shape              Param #   \n",
      "=================================================================\n",
      "conv2d (Conv2D)              (None, 28, 28, 6)         156       \n",
      "_________________________________________________________________\n",
      "batch_normalization (BatchNo (None, 28, 28, 6)         24        \n",
      "_________________________________________________________________\n",
      "average_pooling2d (AveragePo (None, 14, 14, 6)         0         \n",
      "_________________________________________________________________\n",
      "conv2d_1 (Conv2D)            (None, 10, 10, 16)        2416      \n",
      "_________________________________________________________________\n",
      "batch_normalization_1 (Batch (None, 10, 10, 16)        64        \n",
      "_________________________________________________________________\n",
      "average_pooling2d_1 (Average (None, 5, 5, 16)          0         \n",
      "_________________________________________________________________\n",
      "flatten (Flatten)            (None, 400)               0         \n",
      "_________________________________________________________________\n",
      "dense (Dense)                (None, 120)               48120     \n",
      "_________________________________________________________________\n",
      "dense_1 (Dense)              (None, 84)                10164     \n",
      "_________________________________________________________________\n",
      "dense_2 (Dense)              (None, 10)                850       \n",
      "=================================================================\n",
      "Total params: 61,794\n",
      "Trainable params: 61,750\n",
      "Non-trainable params: 44\n",
      "_________________________________________________________________\n",
      "Epoch 1/10\n",
      "118/118 [==============================] - 22s 181ms/step - loss: 0.7534 - accuracy: 0.7763\n",
      "Epoch 2/10\n",
      "118/118 [==============================] - 20s 172ms/step - loss: 0.0763 - accuracy: 0.9769\n",
      "Epoch 3/10\n",
      "118/118 [==============================] - 21s 174ms/step - loss: 0.0490 - accuracy: 0.9852\n",
      "Epoch 4/10\n",
      "118/118 [==============================] - 24s 200ms/step - loss: 0.0372 - accuracy: 0.9890\n",
      "Epoch 5/10\n",
      "118/118 [==============================] - 22s 188ms/step - loss: 0.0330 - accuracy: 0.9895\n",
      "Epoch 6/10\n",
      "118/118 [==============================] - 22s 186ms/step - loss: 0.0244 - accuracy: 0.9927\n",
      "Epoch 7/10\n",
      "118/118 [==============================] - 23s 198ms/step - loss: 0.0198 - accuracy: 0.9940\n",
      "Epoch 8/10\n",
      "118/118 [==============================] - 22s 188ms/step - loss: 0.0160 - accuracy: 0.9954\n",
      "Epoch 9/10\n",
      "118/118 [==============================] - 23s 195ms/step - loss: 0.0130 - accuracy: 0.9966\n",
      "Epoch 10/10\n",
      "118/118 [==============================] - 23s 198ms/step - loss: 0.0120 - accuracy: 0.9967\n"
     ]
    },
    {
     "data": {
      "text/plain": [
       "<tensorflow.python.keras.callbacks.History at 0x20f6a262c70>"
      ]
     },
     "execution_count": 5,
     "metadata": {},
     "output_type": "execute_result"
    }
   ],
   "source": [
    "# VGG 16 pre-trained\n",
    "from keras.layers import Dense, AvgPool2D\n",
    "from keras.layers import Flatten, Conv2D, BatchNormalization\n",
    "from keras.models import Model\n",
    "from keras.models import Sequential\n",
    "\n",
    "IMG_SIZE = 28\n",
    "IMG_CHANNEL = 1\n",
    "\n",
    "# Le-Net\n",
    "model = Sequential()\n",
    "model.add(Conv2D(filters=6, kernel_size=5, activation='relu', padding='same', input_shape=(IMG_SIZE, IMG_SIZE, IMG_CHANNEL)))\n",
    "model.add(BatchNormalization())\n",
    "model.add(AvgPool2D(pool_size=2, strides=2))\n",
    "\n",
    "model.add(Conv2D(filters=16, kernel_size=5, activation='relu'))\n",
    "model.add(BatchNormalization())\n",
    "model.add(AvgPool2D(pool_size=2, strides=2))\n",
    "\n",
    "model.add(Flatten())\n",
    "model.add(Dense(120, activation='relu'))\n",
    "model.add(Dense(84, activation='relu'))\n",
    "model.add(Dense(10, activation='softmax'))\n",
    "\n",
    "model.compile(optimizer = 'adam', \n",
    "               loss='sparse_categorical_crossentropy',\n",
    "               metrics = ['accuracy'])\n",
    "\n",
    "model.summary()\n",
    "\n",
    "model.fit(train_images,\n",
    "          train_labels, \n",
    "          epochs=10,\n",
    "          batch_size=512)\n"
   ]
  },
  {
   "cell_type": "code",
   "execution_count": 6,
   "metadata": {},
   "outputs": [],
   "source": [
    "model.save(r'C:\\Users\\MINH LE\\Desktop\\TraditionalvsCNN\\Additional Experiments\\mnist\\models\\model_mnist_t2.h5')"
   ]
  }
 ],
 "metadata": {
  "kernelspec": {
   "display_name": "Python 3",
   "language": "python",
   "name": "python3"
  },
  "language_info": {
   "codemirror_mode": {
    "name": "ipython",
    "version": 3
   },
   "file_extension": ".py",
   "mimetype": "text/x-python",
   "name": "python",
   "nbconvert_exporter": "python",
   "pygments_lexer": "ipython3",
   "version": "3.8.5"
  }
 },
 "nbformat": 4,
 "nbformat_minor": 4
}
