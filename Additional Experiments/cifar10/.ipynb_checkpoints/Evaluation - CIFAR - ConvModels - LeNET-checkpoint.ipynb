{
 "cells": [
  {
   "cell_type": "code",
   "execution_count": 2,
   "metadata": {},
   "outputs": [],
   "source": [
    "import tensorflow as tf\n",
    "import numpy as np\n",
    "import tensorflow.keras as keras"
   ]
  },
  {
   "cell_type": "code",
   "execution_count": 33,
   "metadata": {},
   "outputs": [],
   "source": [
    "# Evaluation results \n",
    "\n",
    "from sklearn.metrics import accuracy_score, precision_score, recall_score\n",
    "import seaborn as sn\n",
    "import pandas as pd\n",
    "\n",
    "def eval_model(model, test_images, test_labels):\n",
    "    y_pred = model.predict(test_images)\n",
    "    y_pred = y_pred = np.argmax(y_pred, axis=-1)\n",
    "    \n",
    "    acc = accuracy_score(test_labels, y_pred)\n",
    "    precision = precision_score(test_labels, y_pred, average='macro')\n",
    "    recall = recall_score(test_labels, y_pred, average='macro')\n",
    "        \n",
    "    print(\"Accuracy: \" + str(np.mean(acc)))\n",
    "    print(\"Precision: \" + str(np.mean(precision)))\n",
    "    print(\"Recall: \" + str(np.mean(recall)))"
   ]
  },
  {
   "cell_type": "markdown",
   "metadata": {},
   "source": [
    "# Original Test Data (T1)"
   ]
  },
  {
   "cell_type": "code",
   "execution_count": 5,
   "metadata": {},
   "outputs": [
    {
     "name": "stdout",
     "output_type": "stream",
     "text": [
      "(10000, 32, 32, 3)\n",
      "(10000, 1)\n"
     ]
    }
   ],
   "source": [
    "cifar10 = tf.keras.datasets.cifar10\n",
    "(_, _), (test_images, test_labels) = cifar10.load_data()\n",
    "\n",
    "test_images = tf.reshape(test_images, (10000, 32, 32, 3))\n",
    "test_labels = tf.reshape(test_labels, (10000, 1))\n",
    "print(test_images.shape)\n",
    "print(test_labels.shape)"
   ]
  },
  {
   "cell_type": "code",
   "execution_count": 6,
   "metadata": {},
   "outputs": [
    {
     "data": {
      "text/plain": [
       "<tf.Tensor: shape=(10000, 1), dtype=uint8, numpy=\n",
       "array([[3],\n",
       "       [8],\n",
       "       [8],\n",
       "       ...,\n",
       "       [5],\n",
       "       [1],\n",
       "       [7]], dtype=uint8)>"
      ]
     },
     "execution_count": 6,
     "metadata": {},
     "output_type": "execute_result"
    }
   ],
   "source": [
    "test_labels"
   ]
  },
  {
   "cell_type": "code",
   "execution_count": 8,
   "metadata": {},
   "outputs": [],
   "source": [
    "model = keras.models.load_model(r'C:\\Users\\MINH LE\\Desktop\\TraditionalvsCNN\\Additional Experiments\\cifar10\\models\\model_cifar10_t2.h5')"
   ]
  },
  {
   "cell_type": "code",
   "execution_count": 34,
   "metadata": {},
   "outputs": [
    {
     "name": "stdout",
     "output_type": "stream",
     "text": [
      "Accuracy: 0.6208\n",
      "Precision: 0.6211883072545381\n",
      "Recall: 0.6208\n"
     ]
    }
   ],
   "source": [
    "eval_model(model, test_images, test_labels)"
   ]
  },
  {
   "cell_type": "markdown",
   "metadata": {},
   "source": [
    "# Updated Test Data with Different Brightness (T2)"
   ]
  },
  {
   "cell_type": "code",
   "execution_count": 49,
   "metadata": {},
   "outputs": [],
   "source": [
    "import os\n",
    "import glob\n",
    "import cv2"
   ]
  },
  {
   "cell_type": "code",
   "execution_count": 46,
   "metadata": {},
   "outputs": [
    {
     "data": {
      "text/plain": [
       "['cifar10', 'mnist']"
      ]
     },
     "execution_count": 46,
     "metadata": {},
     "output_type": "execute_result"
    }
   ],
   "source": [
    "DATA_DIR = 'C:/Users/MINH LE/Desktop/TraditionalvsCNN/testset-T2/'\n",
    "\n",
    "list_files = os.listdir(DATA_DIR)\n",
    "number_files = len(list_files)\n",
    "list_files"
   ]
  },
  {
   "cell_type": "code",
   "execution_count": 54,
   "metadata": {},
   "outputs": [
    {
     "data": {
      "text/plain": [
       "TensorShape([10000, 32, 32, 3])"
      ]
     },
     "execution_count": 54,
     "metadata": {},
     "output_type": "execute_result"
    }
   ],
   "source": [
    "cifar10_test_t2_images = []\n",
    "\n",
    "CIFAR10_T2_DIR = DATA_DIR + 'cifar10/'\n",
    "for img in glob.glob(CIFAR10_T2_DIR + '*.png'):\n",
    "    n = cv2.imread(img)\n",
    "    cifar10_test_t2_images.append(n)\n",
    "    \n",
    "cifar10_test_t2_images = tf.convert_to_tensor(cifar10_test_t2_images, dtype=np.float32)\n",
    "cifar10_test_t2_images.shape"
   ]
  },
  {
   "cell_type": "code",
   "execution_count": 55,
   "metadata": {},
   "outputs": [
    {
     "name": "stdout",
     "output_type": "stream",
     "text": [
      "Accuracy: 0.1007\n",
      "Precision: 0.1019138018523289\n",
      "Recall: 0.10069999999999998\n"
     ]
    }
   ],
   "source": [
    "eval_model(model, cifar10_test_t2_images, test_labels)"
   ]
  }
 ],
 "metadata": {
  "kernelspec": {
   "display_name": "Python 3",
   "language": "python",
   "name": "python3"
  },
  "language_info": {
   "codemirror_mode": {
    "name": "ipython",
    "version": 3
   },
   "file_extension": ".py",
   "mimetype": "text/x-python",
   "name": "python",
   "nbconvert_exporter": "python",
   "pygments_lexer": "ipython3",
   "version": "3.8.5"
  }
 },
 "nbformat": 4,
 "nbformat_minor": 4
}
