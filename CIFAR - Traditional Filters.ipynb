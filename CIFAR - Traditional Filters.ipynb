{
 "cells": [
  {
   "cell_type": "code",
   "execution_count": 1,
   "metadata": {},
   "outputs": [],
   "source": [
    "import tensorflow as tf\n",
    "import tensorflow.keras as keras\n",
    "import numpy as np"
   ]
  },
  {
   "cell_type": "markdown",
   "metadata": {},
   "source": [
    "# 1. Load the prepared dataset"
   ]
  },
  {
   "cell_type": "code",
   "execution_count": 2,
   "metadata": {},
   "outputs": [],
   "source": [
    "import os"
   ]
  },
  {
   "cell_type": "code",
   "execution_count": 3,
   "metadata": {},
   "outputs": [
    {
     "data": {
      "text/plain": [
       "['cifar10', 'mnist']"
      ]
     },
     "execution_count": 3,
     "metadata": {},
     "output_type": "execute_result"
    }
   ],
   "source": [
    "DATA_DIR = 'C:/Users/MINH LE/Desktop/TraditionalvsCNN/dataset/'\n",
    "\n",
    "list_files = os.listdir(DATA_DIR)\n",
    "number_files = len(list_files)\n",
    "list_files"
   ]
  },
  {
   "cell_type": "markdown",
   "metadata": {},
   "source": [
    "### 1.1. CIFAR10 Dataset"
   ]
  },
  {
   "cell_type": "markdown",
   "metadata": {},
   "source": [
    "**CLTP FILTER**"
   ]
  },
  {
   "cell_type": "code",
   "execution_count": 4,
   "metadata": {},
   "outputs": [],
   "source": [
    "import glob, cv2\n",
    "cltp = []\n",
    "\n",
    "CLTP_DIR = DATA_DIR + 'cifar10/cltp/train/'\n",
    "for img in glob.glob(CLTP_DIR + '*.jpg'):\n",
    "    n = cv2.imread(img)\n",
    "    cltp.append(n)"
   ]
  },
  {
   "cell_type": "code",
   "execution_count": 5,
   "metadata": {},
   "outputs": [
    {
     "data": {
      "text/plain": [
       "(50000, 30, 30, 3)"
      ]
     },
     "execution_count": 5,
     "metadata": {},
     "output_type": "execute_result"
    }
   ],
   "source": [
    "cltp = np.asarray(cltp, dtype=np.float32)\n",
    "cltp.shape"
   ]
  },
  {
   "cell_type": "markdown",
   "metadata": {},
   "source": [
    "**CSLBP FILTER**"
   ]
  },
  {
   "cell_type": "code",
   "execution_count": 6,
   "metadata": {},
   "outputs": [
    {
     "data": {
      "text/plain": [
       "(50000, 30, 30, 3)"
      ]
     },
     "execution_count": 6,
     "metadata": {},
     "output_type": "execute_result"
    }
   ],
   "source": [
    "cslbp = []\n",
    "\n",
    "CSLBP_DIR = DATA_DIR + 'cifar10/cslbp/train/'\n",
    "for img in glob.glob(CSLBP_DIR + '*.jpg'):\n",
    "    n = cv2.imread(img)\n",
    "    cslbp.append(n)\n",
    "    \n",
    "cslbp = np.asarray(cslbp, dtype=np.float32)\n",
    "cslbp.shape"
   ]
  },
  {
   "cell_type": "markdown",
   "metadata": {},
   "source": [
    "**GAUSSIAN FILTER**"
   ]
  },
  {
   "cell_type": "code",
   "execution_count": 7,
   "metadata": {},
   "outputs": [
    {
     "data": {
      "text/plain": [
       "(50000, 30, 30, 3)"
      ]
     },
     "execution_count": 7,
     "metadata": {},
     "output_type": "execute_result"
    }
   ],
   "source": [
    "gauss_filter = []\n",
    "\n",
    "GAUSSIAN_DIR = DATA_DIR + 'cifar10/gaussian/train/'\n",
    "for img in glob.glob(GAUSSIAN_DIR + '*.jpg'):\n",
    "    n = cv2.imread(img)\n",
    "    gauss_filter.append(n)\n",
    "    \n",
    "gauss_filter = np.asarray(gauss_filter, dtype=np.float32)\n",
    "gauss_filter.shape"
   ]
  },
  {
   "cell_type": "markdown",
   "metadata": {},
   "source": [
    "**GLTP FILTER**"
   ]
  },
  {
   "cell_type": "code",
   "execution_count": 8,
   "metadata": {},
   "outputs": [
    {
     "data": {
      "text/plain": [
       "(50000, 30, 30, 3)"
      ]
     },
     "execution_count": 8,
     "metadata": {},
     "output_type": "execute_result"
    }
   ],
   "source": [
    "gltp_filter = []\n",
    "\n",
    "GLTP_DIR = DATA_DIR + 'cifar10/gltp/train/'\n",
    "for img in glob.glob(GLTP_DIR + '*.jpg'):\n",
    "    n = cv2.imread(img)\n",
    "    gltp_filter.append(n)\n",
    "    \n",
    "gltp_filter = np.asarray(gltp_filter, dtype=np.float32)\n",
    "gltp_filter.shape"
   ]
  },
  {
   "cell_type": "markdown",
   "metadata": {},
   "source": [
    "**LAPLACIAN FILTER**"
   ]
  },
  {
   "cell_type": "code",
   "execution_count": 9,
   "metadata": {},
   "outputs": [
    {
     "data": {
      "text/plain": [
       "(50000, 30, 30, 3)"
      ]
     },
     "execution_count": 9,
     "metadata": {},
     "output_type": "execute_result"
    }
   ],
   "source": [
    "laplacian_filter = []\n",
    "\n",
    "LAPLACIAN_DIR = DATA_DIR + 'cifar10/laplacian/train/'\n",
    "for img in glob.glob(LAPLACIAN_DIR + '*.jpg'):\n",
    "    n = cv2.imread(img)\n",
    "    laplacian_filter.append(n)\n",
    "    \n",
    "laplacian_filter = np.asarray(laplacian_filter, dtype=np.float32)\n",
    "laplacian_filter.shape"
   ]
  },
  {
   "cell_type": "markdown",
   "metadata": {},
   "source": [
    "**LOCAL BINARY PATTERN FILTER**"
   ]
  },
  {
   "cell_type": "code",
   "execution_count": 10,
   "metadata": {},
   "outputs": [
    {
     "data": {
      "text/plain": [
       "(50000, 30, 30, 3)"
      ]
     },
     "execution_count": 10,
     "metadata": {},
     "output_type": "execute_result"
    }
   ],
   "source": [
    "lbp_filter = []\n",
    "\n",
    "LBP_DIR = DATA_DIR + 'cifar10/lbp/train/'\n",
    "for img in glob.glob(LBP_DIR + '*.jpg'):\n",
    "    n = cv2.imread(img)\n",
    "    lbp_filter.append(n)\n",
    "    \n",
    "lbp_filter = np.asarray(lbp_filter, dtype=np.float32)\n",
    "lbp_filter.shape"
   ]
  },
  {
   "cell_type": "markdown",
   "metadata": {},
   "source": [
    "**LOCAL TERNARY PATTERN**"
   ]
  },
  {
   "cell_type": "code",
   "execution_count": 11,
   "metadata": {},
   "outputs": [
    {
     "data": {
      "text/plain": [
       "(50000, 30, 30, 3)"
      ]
     },
     "execution_count": 11,
     "metadata": {},
     "output_type": "execute_result"
    }
   ],
   "source": [
    "ltp_filter = []\n",
    "\n",
    "LTP_DIR = DATA_DIR + 'cifar10/ltp/train/'\n",
    "for img in glob.glob(LTP_DIR + '*.jpg'):\n",
    "    n = cv2.imread(img)\n",
    "    ltp_filter.append(n)\n",
    "    \n",
    "ltp_filter = np.asarray(ltp_filter, dtype=np.float32)\n",
    "ltp_filter.shape"
   ]
  },
  {
   "cell_type": "markdown",
   "metadata": {},
   "source": [
    "**MC-LBP FILTER**"
   ]
  },
  {
   "cell_type": "code",
   "execution_count": 12,
   "metadata": {},
   "outputs": [
    {
     "data": {
      "text/plain": [
       "(50000, 30, 30, 3)"
      ]
     },
     "execution_count": 12,
     "metadata": {},
     "output_type": "execute_result"
    }
   ],
   "source": [
    "mclbp_filter = []\n",
    "\n",
    "MCLBP_DIR = DATA_DIR + 'cifar10/mclbp/train/'\n",
    "for img in glob.glob(MCLBP_DIR + '*.jpg'):\n",
    "    n = cv2.imread(img)\n",
    "    mclbp_filter.append(n)\n",
    "    \n",
    "mclbp_filter = np.asarray(mclbp_filter, dtype=np.float32)\n",
    "mclbp_filter.shape"
   ]
  },
  {
   "cell_type": "markdown",
   "metadata": {},
   "source": [
    "**PREWITT X FILTER**"
   ]
  },
  {
   "cell_type": "code",
   "execution_count": 13,
   "metadata": {},
   "outputs": [
    {
     "data": {
      "text/plain": [
       "(50000, 30, 30, 3)"
      ]
     },
     "execution_count": 13,
     "metadata": {},
     "output_type": "execute_result"
    }
   ],
   "source": [
    "prewittx_filter = []\n",
    "\n",
    "PREWITTX_DIR = DATA_DIR + 'cifar10/prewittx/train/'\n",
    "for img in glob.glob(PREWITTX_DIR + '*.jpg'):\n",
    "    n = cv2.imread(img)\n",
    "    prewittx_filter.append(n)\n",
    "    \n",
    "prewittx_filter = np.asarray(prewittx_filter, dtype=np.float32)\n",
    "prewittx_filter.shape"
   ]
  },
  {
   "cell_type": "markdown",
   "metadata": {},
   "source": [
    "**PREWITT Y FILTER**"
   ]
  },
  {
   "cell_type": "code",
   "execution_count": 14,
   "metadata": {},
   "outputs": [
    {
     "data": {
      "text/plain": [
       "(50000, 30, 30, 3)"
      ]
     },
     "execution_count": 14,
     "metadata": {},
     "output_type": "execute_result"
    }
   ],
   "source": [
    "prewitty_filter = []\n",
    "\n",
    "PREWITTY_DIR = DATA_DIR + 'cifar10/prewitty/train/'\n",
    "for img in glob.glob(PREWITTY_DIR + '*.jpg'):\n",
    "    n = cv2.imread(img)\n",
    "    prewitty_filter.append(n)\n",
    "    \n",
    "prewitty_filter = np.asarray(prewitty_filter, dtype=np.float32)\n",
    "prewitty_filter.shape"
   ]
  },
  {
   "cell_type": "markdown",
   "metadata": {},
   "source": [
    "**SCBP FILTER**"
   ]
  },
  {
   "cell_type": "code",
   "execution_count": 15,
   "metadata": {},
   "outputs": [
    {
     "data": {
      "text/plain": [
       "(50000, 30, 30, 3)"
      ]
     },
     "execution_count": 15,
     "metadata": {},
     "output_type": "execute_result"
    }
   ],
   "source": [
    "scbp_filter = []\n",
    "\n",
    "SCBP_DIR = DATA_DIR + 'cifar10/scbp/train/'\n",
    "for img in glob.glob(SCBP_DIR + '*.jpg'):\n",
    "    n = cv2.imread(img)\n",
    "    scbp_filter.append(n)\n",
    "    \n",
    "scbp_filter = np.asarray(scbp_filter, dtype=np.float32)\n",
    "scbp_filter.shape"
   ]
  },
  {
   "cell_type": "markdown",
   "metadata": {},
   "source": [
    "**SCS-LTP FILTER**"
   ]
  },
  {
   "cell_type": "code",
   "execution_count": 16,
   "metadata": {},
   "outputs": [
    {
     "data": {
      "text/plain": [
       "(50000, 30, 30, 3)"
      ]
     },
     "execution_count": 16,
     "metadata": {},
     "output_type": "execute_result"
    }
   ],
   "source": [
    "scsltp_filter = []\n",
    "\n",
    "SCSLTP_DIR = DATA_DIR + 'cifar10/scsltp/train/'\n",
    "for img in glob.glob(SCSLTP_DIR + '*.jpg'):\n",
    "    n = cv2.imread(img)\n",
    "    scsltp_filter.append(n)\n",
    "    \n",
    "scsltp_filter = np.asarray(scsltp_filter, dtype=np.float32)\n",
    "scsltp_filter.shape"
   ]
  },
  {
   "cell_type": "markdown",
   "metadata": {},
   "source": [
    "**SILTP FILTER**"
   ]
  },
  {
   "cell_type": "code",
   "execution_count": 17,
   "metadata": {},
   "outputs": [
    {
     "data": {
      "text/plain": [
       "(50000, 30, 30, 3)"
      ]
     },
     "execution_count": 17,
     "metadata": {},
     "output_type": "execute_result"
    }
   ],
   "source": [
    "siltp_filter = []\n",
    "\n",
    "SILTP_DIR = DATA_DIR + 'cifar10/siltp/train/'\n",
    "for img in glob.glob(SILTP_DIR + '*.jpg'):\n",
    "    n = cv2.imread(img)\n",
    "    siltp_filter.append(n)\n",
    "    \n",
    "siltp_filter = np.asarray(siltp_filter, dtype=np.float32)\n",
    "siltp_filter.shape"
   ]
  },
  {
   "cell_type": "markdown",
   "metadata": {},
   "source": [
    "**SOBEL X FILTER**"
   ]
  },
  {
   "cell_type": "code",
   "execution_count": 18,
   "metadata": {},
   "outputs": [
    {
     "data": {
      "text/plain": [
       "(50000, 30, 30, 3)"
      ]
     },
     "execution_count": 18,
     "metadata": {},
     "output_type": "execute_result"
    }
   ],
   "source": [
    "sobelx_filter = []\n",
    "\n",
    "SOBELX_DIR = DATA_DIR + 'cifar10/sobelx/train/'\n",
    "for img in glob.glob(SOBELX_DIR + '*.jpg'):\n",
    "    n = cv2.imread(img)\n",
    "    sobelx_filter.append(n)\n",
    "    \n",
    "sobelx_filter = np.asarray(sobelx_filter, dtype=np.float32)\n",
    "sobelx_filter.shape"
   ]
  },
  {
   "cell_type": "markdown",
   "metadata": {},
   "source": [
    "**SOBEL Y FILTER**"
   ]
  },
  {
   "cell_type": "code",
   "execution_count": 19,
   "metadata": {},
   "outputs": [
    {
     "data": {
      "text/plain": [
       "(50000, 30, 30, 3)"
      ]
     },
     "execution_count": 19,
     "metadata": {},
     "output_type": "execute_result"
    }
   ],
   "source": [
    "sobely_filter = []\n",
    "\n",
    "SOBELY_DIR = DATA_DIR + 'cifar10/sobely/train/'\n",
    "for img in glob.glob(SOBELY_DIR + '*.jpg'):\n",
    "    n = cv2.imread(img)\n",
    "    sobely_filter.append(n)\n",
    "    \n",
    "sobely_filter = np.asarray(sobely_filter, dtype=np.float32)\n",
    "sobely_filter.shape"
   ]
  },
  {
   "cell_type": "markdown",
   "metadata": {},
   "source": [
    "**XCSLTP FILTER**"
   ]
  },
  {
   "cell_type": "code",
   "execution_count": 20,
   "metadata": {},
   "outputs": [
    {
     "data": {
      "text/plain": [
       "(50000, 30, 30, 3)"
      ]
     },
     "execution_count": 20,
     "metadata": {},
     "output_type": "execute_result"
    }
   ],
   "source": [
    "xcsltp_filter = []\n",
    "\n",
    "XCSLTP_DIR = DATA_DIR + 'cifar10/xcsltp/train/'\n",
    "for img in glob.glob(XCSLTP_DIR + '*.jpg'):\n",
    "    n = cv2.imread(img)\n",
    "    xcsltp_filter.append(n)\n",
    "    \n",
    "xcsltp_filter = np.asarray(xcsltp_filter, dtype=np.float32)\n",
    "xcsltp_filter.shape"
   ]
  },
  {
   "cell_type": "markdown",
   "metadata": {},
   "source": [
    "# 2. Training Phase"
   ]
  },
  {
   "cell_type": "code",
   "execution_count": 21,
   "metadata": {},
   "outputs": [],
   "source": [
    "from tensorflow.keras.models import Sequential\n",
    "from tensorflow.keras.layers import Dense\n",
    "from tensorflow.keras.layers import Flatten\n",
    "from tensorflow.keras.layers import MaxPooling2D\n",
    "from tensorflow.keras.layers import Input\n",
    "from tensorflow.keras.layers import Dropout"
   ]
  },
  {
   "cell_type": "code",
   "execution_count": 22,
   "metadata": {},
   "outputs": [
    {
     "data": {
      "text/plain": [
       "TensorShape([50000, 30, 30, 48])"
      ]
     },
     "execution_count": 22,
     "metadata": {},
     "output_type": "execute_result"
    }
   ],
   "source": [
    "train_data = tf.keras.layers.Concatenate()([cltp, \n",
    "                                            cslbp, \n",
    "                                            gauss_filter, \n",
    "                                            gltp_filter,\n",
    "                                            laplacian_filter,\n",
    "                                            lbp_filter,\n",
    "                                            ltp_filter,\n",
    "                                            mclbp_filter,\n",
    "                                            prewittx_filter,\n",
    "                                            prewitty_filter,\n",
    "                                            scsltp_filter,\n",
    "                                            siltp_filter,\n",
    "                                            sobelx_filter,\n",
    "                                            sobely_filter,\n",
    "                                            xcsltp_filter,\n",
    "                                            scbp_filter])\n",
    "train_data.shape"
   ]
  },
  {
   "cell_type": "code",
   "execution_count": 23,
   "metadata": {},
   "outputs": [],
   "source": [
    "cifar10 = keras.datasets.cifar10\n",
    "(_, train_labels), (test_images, test_labels) = cifar10.load_data()"
   ]
  },
  {
   "cell_type": "code",
   "execution_count": 24,
   "metadata": {},
   "outputs": [
    {
     "name": "stdout",
     "output_type": "stream",
     "text": [
      "Requirement already satisfied: keras in c:\\users\\minh le\\anaconda3\\lib\\site-packages (2.4.3)\n",
      "Requirement already satisfied: scipy>=0.14 in c:\\users\\minh le\\anaconda3\\lib\\site-packages (from keras) (1.6.0)\n",
      "Requirement already satisfied: numpy>=1.9.1 in c:\\users\\minh le\\anaconda3\\lib\\site-packages (from keras) (1.19.5)\n",
      "Requirement already satisfied: pyyaml in c:\\users\\minh le\\anaconda3\\lib\\site-packages (from keras) (5.3.1)\n",
      "Requirement already satisfied: h5py in c:\\users\\minh le\\anaconda3\\lib\\site-packages (from keras) (2.10.0)\n",
      "Requirement already satisfied: six in c:\\users\\minh le\\anaconda3\\lib\\site-packages (from h5py->keras) (1.15.0)\n"
     ]
    }
   ],
   "source": [
    "!pip install keras"
   ]
  },
  {
   "cell_type": "markdown",
   "metadata": {},
   "source": [
    "### Experiment 1"
   ]
  },
  {
   "cell_type": "code",
   "execution_count": 26,
   "metadata": {},
   "outputs": [
    {
     "name": "stdout",
     "output_type": "stream",
     "text": [
      "Epoch 1/300\n",
      "49/49 [==============================] - 25s 464ms/step - loss: 4986.8691 - accuracy: 0.1022\n",
      "Epoch 2/300\n",
      "49/49 [==============================] - 21s 429ms/step - loss: 24.7451 - accuracy: 0.1009\n",
      "Epoch 3/300\n",
      "49/49 [==============================] - 21s 424ms/step - loss: 2.3026 - accuracy: 0.1000\n",
      "Epoch 4/300\n",
      "49/49 [==============================] - 19s 395ms/step - loss: 2.3026 - accuracy: 0.0992\n",
      "Epoch 5/300\n",
      "49/49 [==============================] - 20s 403ms/step - loss: 2.3026 - accuracy: 0.0986\n",
      "Epoch 6/300\n",
      "49/49 [==============================] - 20s 413ms/step - loss: 2.3026 - accuracy: 0.1012\n",
      "Epoch 7/300\n",
      "49/49 [==============================] - 21s 426ms/step - loss: 2.3026 - accuracy: 0.0997\n",
      "Epoch 8/300\n",
      "49/49 [==============================] - 20s 414ms/step - loss: 2.3026 - accuracy: 0.1001\n",
      "Epoch 9/300\n",
      "49/49 [==============================] - 22s 444ms/step - loss: 2.3026 - accuracy: 0.0997\n",
      "Epoch 10/300\n",
      "49/49 [==============================] - 20s 410ms/step - loss: 2.3026 - accuracy: 0.0992\n",
      "Epoch 11/300\n",
      "49/49 [==============================] - 19s 395ms/step - loss: 2.3026 - accuracy: 0.0984\n",
      "Epoch 12/300\n",
      "49/49 [==============================] - 21s 438ms/step - loss: 2.3025 - accuracy: 0.1011\n",
      "Epoch 13/300\n",
      "49/49 [==============================] - 21s 439ms/step - loss: 2.3026 - accuracy: 0.1006\n",
      "Epoch 14/300\n",
      "49/49 [==============================] - 21s 419ms/step - loss: 2.3025 - accuracy: 0.1000\n",
      "Epoch 15/300\n",
      "49/49 [==============================] - 19s 393ms/step - loss: 2.3025 - accuracy: 0.1002\n",
      "Epoch 16/300\n",
      "49/49 [==============================] - 19s 396ms/step - loss: 2.3026 - accuracy: 0.0972\n",
      "Epoch 17/300\n",
      "49/49 [==============================] - 18s 374ms/step - loss: 2.3025 - accuracy: 0.1000\n",
      "Epoch 18/300\n",
      "49/49 [==============================] - 18s 372ms/step - loss: 2.3026 - accuracy: 0.0994\n",
      "Epoch 19/300\n",
      "49/49 [==============================] - 18s 359ms/step - loss: 2.3025 - accuracy: 0.1003\n",
      "Epoch 20/300\n",
      "49/49 [==============================] - 19s 380ms/step - loss: 2.3025 - accuracy: 0.0990\n",
      "Epoch 21/300\n",
      "49/49 [==============================] - 18s 363ms/step - loss: 2.3026 - accuracy: 0.0986\n",
      "Epoch 22/300\n",
      "49/49 [==============================] - 18s 373ms/step - loss: 2.3026 - accuracy: 0.1000\n",
      "Epoch 23/300\n",
      "49/49 [==============================] - 18s 371ms/step - loss: 2.3026 - accuracy: 0.0996\n",
      "Epoch 24/300\n",
      "49/49 [==============================] - 19s 380ms/step - loss: 2.3026 - accuracy: 0.0975\n",
      "Epoch 25/300\n",
      "49/49 [==============================] - 19s 389ms/step - loss: 2.3025 - accuracy: 0.0980\n",
      "Epoch 26/300\n",
      "49/49 [==============================] - 19s 397ms/step - loss: 2.3024 - accuracy: 0.1015\n",
      "Epoch 27/300\n",
      "49/49 [==============================] - 20s 401ms/step - loss: 2.3025 - accuracy: 0.1000\n",
      "Epoch 28/300\n",
      "49/49 [==============================] - 19s 394ms/step - loss: 2.3026 - accuracy: 0.0994\n",
      "Epoch 29/300\n",
      "49/49 [==============================] - 18s 378ms/step - loss: 2.3026 - accuracy: 0.0968\n",
      "Epoch 30/300\n",
      "49/49 [==============================] - 18s 365ms/step - loss: 2.3026 - accuracy: 0.0993\n",
      "Epoch 31/300\n",
      "49/49 [==============================] - 18s 358ms/step - loss: 2.3025 - accuracy: 0.1000\n",
      "Epoch 32/300\n",
      "49/49 [==============================] - 18s 359ms/step - loss: 2.3026 - accuracy: 0.0996\n",
      "Epoch 33/300\n",
      "49/49 [==============================] - 18s 362ms/step - loss: 2.3025 - accuracy: 0.0996\n",
      "Epoch 34/300\n",
      "49/49 [==============================] - 18s 364ms/step - loss: 2.3026 - accuracy: 0.0969\n",
      "Epoch 35/300\n",
      "49/49 [==============================] - 18s 377ms/step - loss: 2.3026 - accuracy: 0.0981\n",
      "Epoch 36/300\n",
      "49/49 [==============================] - 18s 373ms/step - loss: 2.3026 - accuracy: 0.0985\n",
      "Epoch 37/300\n",
      "49/49 [==============================] - 19s 383ms/step - loss: 2.3026 - accuracy: 0.0993\n",
      "Epoch 38/300\n",
      "49/49 [==============================] - 19s 384ms/step - loss: 2.3025 - accuracy: 0.0972\n",
      "Epoch 39/300\n",
      "49/49 [==============================] - 19s 383ms/step - loss: 2.3025 - accuracy: 0.0968\n",
      "Epoch 40/300\n",
      "49/49 [==============================] - 18s 377ms/step - loss: 2.3025 - accuracy: 0.1005\n",
      "Epoch 41/300\n",
      "49/49 [==============================] - 18s 375ms/step - loss: 2.3026 - accuracy: 0.0999\n",
      "Epoch 42/300\n",
      "49/49 [==============================] - 18s 376ms/step - loss: 2.3026 - accuracy: 0.0988\n",
      "Epoch 43/300\n",
      "49/49 [==============================] - 18s 365ms/step - loss: 2.3025 - accuracy: 0.1001\n",
      "Epoch 44/300\n",
      "49/49 [==============================] - 17s 355ms/step - loss: 2.3025 - accuracy: 0.0963\n",
      "Epoch 45/300\n",
      "49/49 [==============================] - 20s 402ms/step - loss: 2.3025 - accuracy: 0.0984\n",
      "Epoch 46/300\n",
      "49/49 [==============================] - 18s 378ms/step - loss: 2.3025 - accuracy: 0.1020\n",
      "Epoch 47/300\n",
      "49/49 [==============================] - 18s 373ms/step - loss: 2.3025 - accuracy: 0.0967\n",
      "Epoch 48/300\n",
      "49/49 [==============================] - 18s 368ms/step - loss: 2.3026 - accuracy: 0.0955\n",
      "Epoch 49/300\n",
      "49/49 [==============================] - 19s 379ms/step - loss: 2.3025 - accuracy: 0.0983\n",
      "Epoch 50/300\n",
      "49/49 [==============================] - 19s 382ms/step - loss: 2.3026 - accuracy: 0.0970\n",
      "Epoch 51/300\n",
      "49/49 [==============================] - 18s 375ms/step - loss: 2.3026 - accuracy: 0.0974\n",
      "Epoch 52/300\n",
      "49/49 [==============================] - 18s 375ms/step - loss: 2.3026 - accuracy: 0.0985\n",
      "Epoch 53/300\n",
      "49/49 [==============================] - 18s 375ms/step - loss: 2.3026 - accuracy: 0.0988\n",
      "Epoch 54/300\n",
      "49/49 [==============================] - 19s 389ms/step - loss: 2.3026 - accuracy: 0.0971\n",
      "Epoch 55/300\n",
      "49/49 [==============================] - 19s 396ms/step - loss: 2.3026 - accuracy: 0.1012\n",
      "Epoch 56/300\n",
      "49/49 [==============================] - 20s 398ms/step - loss: 2.3025 - accuracy: 0.1017\n",
      "Epoch 57/300\n",
      "49/49 [==============================] - 19s 383ms/step - loss: 2.3024 - accuracy: 0.0970\n",
      "Epoch 58/300\n",
      "49/49 [==============================] - 19s 378ms/step - loss: 2.3026 - accuracy: 0.0990\n",
      "Epoch 59/300\n",
      "49/49 [==============================] - 18s 372ms/step - loss: 2.3026 - accuracy: 0.0979\n",
      "Epoch 60/300\n",
      "49/49 [==============================] - 18s 366ms/step - loss: 2.3026 - accuracy: 0.1005\n",
      "Epoch 61/300\n",
      "49/49 [==============================] - 18s 366ms/step - loss: 2.3026 - accuracy: 0.0975\n",
      "Epoch 62/300\n",
      "49/49 [==============================] - 18s 364ms/step - loss: 2.3026 - accuracy: 0.0999\n",
      "Epoch 63/300\n",
      "49/49 [==============================] - 18s 367ms/step - loss: 2.3025 - accuracy: 0.0987\n",
      "Epoch 64/300\n",
      "49/49 [==============================] - 19s 379ms/step - loss: 2.3026 - accuracy: 0.1036\n",
      "Epoch 65/300\n",
      "49/49 [==============================] - 18s 365ms/step - loss: 2.3026 - accuracy: 0.0999\n",
      "Epoch 66/300\n",
      "49/49 [==============================] - 18s 374ms/step - loss: 2.3026 - accuracy: 0.0965\n",
      "Epoch 67/300\n",
      "49/49 [==============================] - 18s 365ms/step - loss: 2.3026 - accuracy: 0.1006\n",
      "Epoch 68/300\n",
      "49/49 [==============================] - 19s 382ms/step - loss: 2.3025 - accuracy: 0.1002\n",
      "Epoch 69/300\n",
      "49/49 [==============================] - 19s 380ms/step - loss: 2.3025 - accuracy: 0.0985\n",
      "Epoch 70/300\n",
      "49/49 [==============================] - 18s 374ms/step - loss: 2.3026 - accuracy: 0.0997\n",
      "Epoch 71/300\n",
      "49/49 [==============================] - 19s 380ms/step - loss: 2.3026 - accuracy: 0.1023\n",
      "Epoch 72/300\n",
      "49/49 [==============================] - 19s 382ms/step - loss: 2.3026 - accuracy: 0.1010\n",
      "Epoch 73/300\n",
      "49/49 [==============================] - 19s 379ms/step - loss: 2.3025 - accuracy: 0.0983\n",
      "Epoch 74/300\n",
      "49/49 [==============================] - 18s 372ms/step - loss: 2.3026 - accuracy: 0.0984\n",
      "Epoch 75/300\n",
      "49/49 [==============================] - 18s 359ms/step - loss: 2.3025 - accuracy: 0.1010\n",
      "Epoch 76/300\n",
      "49/49 [==============================] - 17s 349ms/step - loss: 2.3025 - accuracy: 0.0981\n",
      "Epoch 77/300\n",
      "49/49 [==============================] - 17s 357ms/step - loss: 2.3026 - accuracy: 0.0953\n",
      "Epoch 78/300\n",
      "49/49 [==============================] - 18s 365ms/step - loss: 2.3025 - accuracy: 0.1009\n",
      "Epoch 79/300\n",
      "49/49 [==============================] - 18s 371ms/step - loss: 2.3026 - accuracy: 0.0963\n",
      "Epoch 80/300\n"
     ]
    },
    {
     "name": "stdout",
     "output_type": "stream",
     "text": [
      "49/49 [==============================] - 18s 371ms/step - loss: 2.3025 - accuracy: 0.0979\n",
      "Epoch 81/300\n",
      "49/49 [==============================] - 18s 374ms/step - loss: 2.3026 - accuracy: 0.0991\n",
      "Epoch 82/300\n",
      "49/49 [==============================] - 18s 365ms/step - loss: 2.3026 - accuracy: 0.0967\n",
      "Epoch 83/300\n",
      "49/49 [==============================] - 19s 382ms/step - loss: 2.3025 - accuracy: 0.1004\n",
      "Epoch 84/300\n",
      "49/49 [==============================] - 19s 383ms/step - loss: 2.3026 - accuracy: 0.1005\n",
      "Epoch 85/300\n",
      "49/49 [==============================] - 19s 385ms/step - loss: 2.3025 - accuracy: 0.1004\n",
      "Epoch 86/300\n",
      "49/49 [==============================] - 19s 388ms/step - loss: 2.3026 - accuracy: 0.0999\n",
      "Epoch 87/300\n",
      "49/49 [==============================] - 18s 372ms/step - loss: 2.3025 - accuracy: 0.0978\n",
      "Epoch 88/300\n",
      "49/49 [==============================] - 18s 362ms/step - loss: 2.3026 - accuracy: 0.1000\n",
      "Epoch 89/300\n",
      "49/49 [==============================] - 17s 355ms/step - loss: 2.3027 - accuracy: 0.0998\n",
      "Epoch 90/300\n",
      "49/49 [==============================] - 17s 353ms/step - loss: 2.3026 - accuracy: 0.0974\n",
      "Epoch 91/300\n",
      "49/49 [==============================] - 18s 359ms/step - loss: 2.3026 - accuracy: 0.0966\n",
      "Epoch 92/300\n",
      "49/49 [==============================] - 18s 361ms/step - loss: 2.3026 - accuracy: 0.1007\n",
      "Epoch 93/300\n",
      "49/49 [==============================] - 18s 361ms/step - loss: 2.3026 - accuracy: 0.0974\n",
      "Epoch 94/300\n",
      "49/49 [==============================] - 18s 376ms/step - loss: 2.3026 - accuracy: 0.1023\n",
      "Epoch 95/300\n",
      "49/49 [==============================] - 18s 366ms/step - loss: 2.3026 - accuracy: 0.0966\n",
      "Epoch 96/300\n",
      "49/49 [==============================] - 19s 379ms/step - loss: 2.3026 - accuracy: 0.0994\n",
      "Epoch 97/300\n",
      "49/49 [==============================] - 18s 375ms/step - loss: 2.3026 - accuracy: 0.0970\n",
      "Epoch 98/300\n",
      "49/49 [==============================] - 18s 377ms/step - loss: 2.3026 - accuracy: 0.0998\n",
      "Epoch 99/300\n",
      "49/49 [==============================] - 19s 396ms/step - loss: 2.3026 - accuracy: 0.0994\n",
      "Epoch 100/300\n",
      "49/49 [==============================] - 19s 397ms/step - loss: 2.3026 - accuracy: 0.0974\n",
      "Epoch 101/300\n",
      "49/49 [==============================] - 20s 415ms/step - loss: 2.3026 - accuracy: 0.1027\n",
      "Epoch 102/300\n",
      "49/49 [==============================] - 19s 392ms/step - loss: 2.3026 - accuracy: 0.1010\n",
      "Epoch 103/300\n",
      "49/49 [==============================] - 18s 375ms/step - loss: 2.3026 - accuracy: 0.0983\n",
      "Epoch 104/300\n",
      "49/49 [==============================] - 18s 365ms/step - loss: 2.3026 - accuracy: 0.0987\n",
      "Epoch 105/300\n",
      "49/49 [==============================] - 18s 371ms/step - loss: 2.3026 - accuracy: 0.0969\n",
      "Epoch 106/300\n",
      "49/49 [==============================] - 17s 353ms/step - loss: 2.3026 - accuracy: 0.0978\n",
      "Epoch 107/300\n",
      "49/49 [==============================] - 18s 369ms/step - loss: 2.3026 - accuracy: 0.1000\n",
      "Epoch 108/300\n",
      "49/49 [==============================] - 18s 372ms/step - loss: 2.3026 - accuracy: 0.0967\n",
      "Epoch 109/300\n",
      "49/49 [==============================] - 18s 372ms/step - loss: 2.3026 - accuracy: 0.0978\n",
      "Epoch 110/300\n",
      "49/49 [==============================] - 18s 361ms/step - loss: 2.3026 - accuracy: 0.0982\n",
      "Epoch 111/300\n",
      "49/49 [==============================] - 18s 374ms/step - loss: 2.3026 - accuracy: 0.1028\n",
      "Epoch 112/300\n",
      "49/49 [==============================] - 19s 379ms/step - loss: 2.3026 - accuracy: 0.1010\n",
      "Epoch 113/300\n",
      "49/49 [==============================] - 19s 380ms/step - loss: 2.3026 - accuracy: 0.0965\n",
      "Epoch 114/300\n",
      "49/49 [==============================] - 19s 382ms/step - loss: 2.3026 - accuracy: 0.0945\n",
      "Epoch 115/300\n",
      "49/49 [==============================] - 19s 396ms/step - loss: 2.3026 - accuracy: 0.0993\n",
      "Epoch 116/300\n",
      "49/49 [==============================] - 19s 387ms/step - loss: 2.3026 - accuracy: 0.0971\n",
      "Epoch 117/300\n",
      "49/49 [==============================] - 19s 391ms/step - loss: 2.3026 - accuracy: 0.0968\n",
      "Epoch 118/300\n",
      "49/49 [==============================] - 19s 398ms/step - loss: 2.3026 - accuracy: 0.0992\n",
      "Epoch 119/300\n",
      "49/49 [==============================] - 19s 384ms/step - loss: 2.3026 - accuracy: 0.0991\n",
      "Epoch 120/300\n",
      "49/49 [==============================] - 18s 365ms/step - loss: 2.3026 - accuracy: 0.0968\n",
      "Epoch 121/300\n",
      "49/49 [==============================] - 18s 374ms/step - loss: 2.3026 - accuracy: 0.0969\n",
      "Epoch 122/300\n",
      "49/49 [==============================] - 18s 363ms/step - loss: 2.3026 - accuracy: 0.1006\n",
      "Epoch 123/300\n",
      "49/49 [==============================] - 18s 364ms/step - loss: 2.3026 - accuracy: 0.1011\n",
      "Epoch 124/300\n",
      "49/49 [==============================] - 18s 364ms/step - loss: 2.3026 - accuracy: 0.0988\n",
      "Epoch 125/300\n",
      "49/49 [==============================] - 18s 365ms/step - loss: 2.3026 - accuracy: 0.1001\n",
      "Epoch 126/300\n",
      "49/49 [==============================] - 19s 380ms/step - loss: 2.3026 - accuracy: 0.1003\n",
      "Epoch 127/300\n",
      "49/49 [==============================] - 18s 366ms/step - loss: 2.3026 - accuracy: 0.1001\n",
      "Epoch 128/300\n",
      "49/49 [==============================] - 23s 465ms/step - loss: 2.3026 - accuracy: 0.0996\n",
      "Epoch 129/300\n",
      "49/49 [==============================] - 22s 438ms/step - loss: 2.3026 - accuracy: 0.1010\n",
      "Epoch 130/300\n",
      "49/49 [==============================] - 22s 447ms/step - loss: 2.3026 - accuracy: 0.0966\n",
      "Epoch 131/300\n",
      "49/49 [==============================] - 23s 474ms/step - loss: 2.3026 - accuracy: 0.0994\n",
      "Epoch 132/300\n",
      "49/49 [==============================] - 23s 461ms/step - loss: 2.3026 - accuracy: 0.0973\n",
      "Epoch 133/300\n",
      "49/49 [==============================] - 20s 415ms/step - loss: 2.3026 - accuracy: 0.0998\n",
      "Epoch 134/300\n",
      "49/49 [==============================] - 20s 400ms/step - loss: 2.3026 - accuracy: 0.0983\n",
      "Epoch 135/300\n",
      "49/49 [==============================] - 20s 415ms/step - loss: 2.3026 - accuracy: 0.0999\n",
      "Epoch 136/300\n",
      "49/49 [==============================] - 21s 428ms/step - loss: 2.3026 - accuracy: 0.1018\n",
      "Epoch 137/300\n",
      "49/49 [==============================] - 19s 387ms/step - loss: 2.3026 - accuracy: 0.1005\n",
      "Epoch 138/300\n",
      "49/49 [==============================] - 19s 386ms/step - loss: 2.3026 - accuracy: 0.0973\n",
      "Epoch 139/300\n",
      "49/49 [==============================] - 19s 365ms/step - loss: 2.3026 - accuracy: 0.0989\n",
      "Epoch 140/300\n",
      "49/49 [==============================] - 19s 389ms/step - loss: 2.3026 - accuracy: 0.1022\n",
      "Epoch 141/300\n",
      "49/49 [==============================] - 21s 432ms/step - loss: 2.3026 - accuracy: 0.0983\n",
      "Epoch 142/300\n",
      "49/49 [==============================] - 20s 404ms/step - loss: 2.3026 - accuracy: 0.0990\n",
      "Epoch 143/300\n",
      "49/49 [==============================] - 21s 421ms/step - loss: 2.3026 - accuracy: 0.0980\n",
      "Epoch 144/300\n",
      "49/49 [==============================] - 21s 428ms/step - loss: 2.3026 - accuracy: 0.0998\n",
      "Epoch 145/300\n",
      "49/49 [==============================] - 22s 443ms/step - loss: 2.3026 - accuracy: 0.0986\n",
      "Epoch 146/300\n",
      "49/49 [==============================] - 21s 428ms/step - loss: 2.3026 - accuracy: 0.0984\n",
      "Epoch 147/300\n",
      "49/49 [==============================] - 20s 412ms/step - loss: 2.3026 - accuracy: 0.0972\n",
      "Epoch 148/300\n",
      "49/49 [==============================] - 19s 392ms/step - loss: 2.3026 - accuracy: 0.0996\n",
      "Epoch 149/300\n",
      "49/49 [==============================] - 18s 366ms/step - loss: 2.3026 - accuracy: 0.1004\n",
      "Epoch 150/300\n",
      "49/49 [==============================] - 19s 381ms/step - loss: 2.3026 - accuracy: 0.0973\n",
      "Epoch 151/300\n",
      "49/49 [==============================] - 18s 371ms/step - loss: 2.3026 - accuracy: 0.1006\n",
      "Epoch 152/300\n",
      "49/49 [==============================] - 18s 359ms/step - loss: 2.3026 - accuracy: 0.0994\n",
      "Epoch 153/300\n",
      "49/49 [==============================] - 18s 372ms/step - loss: 2.3026 - accuracy: 0.0992\n",
      "Epoch 154/300\n",
      "49/49 [==============================] - 19s 388ms/step - loss: 2.3026 - accuracy: 0.0987\n",
      "Epoch 155/300\n",
      "49/49 [==============================] - 19s 387ms/step - loss: 2.3026 - accuracy: 0.1008\n",
      "Epoch 156/300\n",
      "49/49 [==============================] - 19s 396ms/step - loss: 2.3026 - accuracy: 0.0988\n",
      "Epoch 157/300\n",
      "49/49 [==============================] - 19s 386ms/step - loss: 2.3026 - accuracy: 0.1032\n",
      "Epoch 158/300\n",
      "49/49 [==============================] - 19s 396ms/step - loss: 2.3026 - accuracy: 0.0987\n",
      "Epoch 159/300\n"
     ]
    },
    {
     "name": "stdout",
     "output_type": "stream",
     "text": [
      "49/49 [==============================] - 20s 405ms/step - loss: 2.3026 - accuracy: 0.0993\n",
      "Epoch 160/300\n",
      "49/49 [==============================] - 19s 397ms/step - loss: 2.3026 - accuracy: 0.1008\n",
      "Epoch 161/300\n",
      "49/49 [==============================] - 20s 401ms/step - loss: 2.3026 - accuracy: 0.0976\n",
      "Epoch 162/300\n",
      "49/49 [==============================] - 19s 395ms/step - loss: 2.3026 - accuracy: 0.0961\n",
      "Epoch 163/300\n",
      "49/49 [==============================] - 18s 365ms/step - loss: 2.3026 - accuracy: 0.0979\n",
      "Epoch 164/300\n",
      "49/49 [==============================] - 18s 374ms/step - loss: 2.3026 - accuracy: 0.0986\n",
      "Epoch 165/300\n",
      "49/49 [==============================] - 19s 378ms/step - loss: 2.3026 - accuracy: 0.0965\n",
      "Epoch 166/300\n",
      "49/49 [==============================] - 18s 365ms/step - loss: 2.3026 - accuracy: 0.0978\n",
      "Epoch 167/300\n",
      "49/49 [==============================] - 18s 374ms/step - loss: 2.3026 - accuracy: 0.1022\n",
      "Epoch 168/300\n",
      "49/49 [==============================] - 18s 373ms/step - loss: 2.3026 - accuracy: 0.0991\n",
      "Epoch 169/300\n",
      "49/49 [==============================] - 19s 388ms/step - loss: 2.3026 - accuracy: 0.0961\n",
      "Epoch 170/300\n",
      "49/49 [==============================] - 19s 378ms/step - loss: 2.3026 - accuracy: 0.0974\n",
      "Epoch 171/300\n",
      "49/49 [==============================] - 19s 378ms/step - loss: 2.3026 - accuracy: 0.1001\n",
      "Epoch 172/300\n",
      "49/49 [==============================] - 18s 377ms/step - loss: 2.3026 - accuracy: 0.1003\n",
      "Epoch 173/300\n",
      "49/49 [==============================] - 19s 390ms/step - loss: 2.3026 - accuracy: 0.0996\n",
      "Epoch 174/300\n",
      "49/49 [==============================] - 19s 398ms/step - loss: 2.3026 - accuracy: 0.0973\n",
      "Epoch 175/300\n",
      "49/49 [==============================] - 20s 413ms/step - loss: 2.3026 - accuracy: 0.1011\n",
      "Epoch 176/300\n",
      "49/49 [==============================] - 20s 406ms/step - loss: 2.3026 - accuracy: 0.1031\n",
      "Epoch 177/300\n",
      "49/49 [==============================] - 21s 427ms/step - loss: 2.3026 - accuracy: 0.0984\n",
      "Epoch 178/300\n",
      "49/49 [==============================] - 19s 396ms/step - loss: 2.3026 - accuracy: 0.0959\n",
      "Epoch 179/300\n",
      "49/49 [==============================] - 20s 401ms/step - loss: 2.3026 - accuracy: 0.0950\n",
      "Epoch 180/300\n",
      "49/49 [==============================] - 18s 379ms/step - loss: 2.3026 - accuracy: 0.0963\n",
      "Epoch 181/300\n",
      "49/49 [==============================] - 18s 368ms/step - loss: 2.3026 - accuracy: 0.1008\n",
      "Epoch 182/300\n",
      "49/49 [==============================] - 19s 379ms/step - loss: 2.3026 - accuracy: 0.0973\n",
      "Epoch 183/300\n",
      "49/49 [==============================] - 20s 414ms/step - loss: 2.3026 - accuracy: 0.1000\n",
      "Epoch 184/300\n",
      "49/49 [==============================] - 19s 379ms/step - loss: 2.3026 - accuracy: 0.0986\n",
      "Epoch 185/300\n",
      "49/49 [==============================] - 18s 374ms/step - loss: 2.3026 - accuracy: 0.0994\n",
      "Epoch 186/300\n",
      "49/49 [==============================] - 19s 396ms/step - loss: 2.3026 - accuracy: 0.1003\n",
      "Epoch 187/300\n",
      "49/49 [==============================] - 20s 400ms/step - loss: 2.3026 - accuracy: 0.0981\n",
      "Epoch 188/300\n",
      "49/49 [==============================] - 20s 417ms/step - loss: 2.3026 - accuracy: 0.0996\n",
      "Epoch 189/300\n",
      "49/49 [==============================] - 20s 412ms/step - loss: 2.3026 - accuracy: 0.0957\n",
      "Epoch 190/300\n",
      "49/49 [==============================] - 20s 418ms/step - loss: 2.3026 - accuracy: 0.1012\n",
      "Epoch 191/300\n",
      "49/49 [==============================] - 20s 401ms/step - loss: 2.3026 - accuracy: 0.1008\n",
      "Epoch 192/300\n",
      "49/49 [==============================] - 19s 396ms/step - loss: 2.3026 - accuracy: 0.1008\n",
      "Epoch 193/300\n",
      "49/49 [==============================] - 18s 377ms/step - loss: 2.3026 - accuracy: 0.0971\n",
      "Epoch 194/300\n",
      "49/49 [==============================] - 18s 365ms/step - loss: 2.3026 - accuracy: 0.1010\n",
      "Epoch 195/300\n",
      "49/49 [==============================] - 18s 372ms/step - loss: 2.3026 - accuracy: 0.0995\n",
      "Epoch 196/300\n",
      "49/49 [==============================] - 19s 395ms/step - loss: 2.3026 - accuracy: 0.1013\n",
      "Epoch 197/300\n",
      "49/49 [==============================] - 19s 375ms/step - loss: 2.3026 - accuracy: 0.1005\n",
      "Epoch 198/300\n",
      "49/49 [==============================] - 19s 386ms/step - loss: 2.3026 - accuracy: 0.0988\n",
      "Epoch 199/300\n",
      "49/49 [==============================] - 19s 386ms/step - loss: 2.3026 - accuracy: 0.1007\n",
      "Epoch 200/300\n",
      "49/49 [==============================] - 19s 390ms/step - loss: 2.3026 - accuracy: 0.0988\n",
      "Epoch 201/300\n",
      "49/49 [==============================] - 19s 390ms/step - loss: 2.3026 - accuracy: 0.0997\n",
      "Epoch 202/300\n",
      "49/49 [==============================] - 20s 406ms/step - loss: 2.3026 - accuracy: 0.0987\n",
      "Epoch 203/300\n",
      "49/49 [==============================] - 20s 400ms/step - loss: 2.3026 - accuracy: 0.0973\n",
      "Epoch 204/300\n",
      "49/49 [==============================] - 19s 381ms/step - loss: 2.3026 - accuracy: 0.1008\n",
      "Epoch 205/300\n",
      "49/49 [==============================] - 18s 374ms/step - loss: 2.3026 - accuracy: 0.1015\n",
      "Epoch 206/300\n",
      "49/49 [==============================] - 18s 364ms/step - loss: 2.3026 - accuracy: 0.1009\n",
      "Epoch 207/300\n",
      "49/49 [==============================] - 18s 367ms/step - loss: 2.3026 - accuracy: 0.0989\n",
      "Epoch 208/300\n",
      "49/49 [==============================] - 18s 376ms/step - loss: 2.3026 - accuracy: 0.0982\n",
      "Epoch 209/300\n",
      "49/49 [==============================] - 19s 379ms/step - loss: 2.3026 - accuracy: 0.0975\n",
      "Epoch 210/300\n",
      "49/49 [==============================] - 18s 376ms/step - loss: 2.3026 - accuracy: 0.1018\n",
      "Epoch 211/300\n",
      "49/49 [==============================] - 18s 366ms/step - loss: 2.3026 - accuracy: 0.1018\n",
      "Epoch 212/300\n",
      "49/49 [==============================] - 19s 390ms/step - loss: 2.3026 - accuracy: 0.0974\n",
      "Epoch 213/300\n",
      "49/49 [==============================] - 18s 377ms/step - loss: 2.3026 - accuracy: 0.0967\n",
      "Epoch 214/300\n",
      "49/49 [==============================] - 19s 383ms/step - loss: 2.3026 - accuracy: 0.0983\n",
      "Epoch 215/300\n",
      "49/49 [==============================] - 19s 393ms/step - loss: 2.3026 - accuracy: 0.0988\n",
      "Epoch 216/300\n",
      "49/49 [==============================] - 20s 411ms/step - loss: 2.3026 - accuracy: 0.0994\n",
      "Epoch 217/300\n",
      "49/49 [==============================] - 19s 393ms/step - loss: 2.3026 - accuracy: 0.0989\n",
      "Epoch 218/300\n",
      "49/49 [==============================] - 19s 393ms/step - loss: 2.3026 - accuracy: 0.0975\n",
      "Epoch 219/300\n",
      "49/49 [==============================] - 19s 380ms/step - loss: 2.3026 - accuracy: 0.1008\n",
      "Epoch 220/300\n",
      "49/49 [==============================] - 18s 374ms/step - loss: 2.3026 - accuracy: 0.0966\n",
      "Epoch 221/300\n",
      "49/49 [==============================] - 18s 368ms/step - loss: 2.3026 - accuracy: 0.1000\n",
      "Epoch 222/300\n",
      "49/49 [==============================] - 18s 370ms/step - loss: 2.3026 - accuracy: 0.0960\n",
      "Epoch 223/300\n",
      "49/49 [==============================] - 18s 372ms/step - loss: 2.3026 - accuracy: 0.0967\n",
      "Epoch 224/300\n",
      "49/49 [==============================] - 19s 379ms/step - loss: 2.3026 - accuracy: 0.0986\n",
      "Epoch 225/300\n",
      "49/49 [==============================] - 18s 364ms/step - loss: 2.3026 - accuracy: 0.0998\n",
      "Epoch 226/300\n",
      "49/49 [==============================] - 19s 384ms/step - loss: 2.3026 - accuracy: 0.1005\n",
      "Epoch 227/300\n",
      "49/49 [==============================] - 19s 380ms/step - loss: 2.3026 - accuracy: 0.1014\n",
      "Epoch 228/300\n",
      "49/49 [==============================] - 19s 384ms/step - loss: 2.3026 - accuracy: 0.0999\n",
      "Epoch 229/300\n",
      "49/49 [==============================] - 19s 389ms/step - loss: 2.3026 - accuracy: 0.1007\n",
      "Epoch 230/300\n",
      "49/49 [==============================] - 19s 393ms/step - loss: 2.3026 - accuracy: 0.0997\n",
      "Epoch 231/300\n",
      "49/49 [==============================] - 20s 405ms/step - loss: 2.3026 - accuracy: 0.0974\n",
      "Epoch 232/300\n",
      "49/49 [==============================] - 20s 405ms/step - loss: 2.3026 - accuracy: 0.0979\n",
      "Epoch 233/300\n",
      "49/49 [==============================] - 19s 391ms/step - loss: 2.3026 - accuracy: 0.0963\n",
      "Epoch 234/300\n",
      "49/49 [==============================] - 18s 374ms/step - loss: 2.3026 - accuracy: 0.0989\n",
      "Epoch 235/300\n",
      "49/49 [==============================] - 19s 378ms/step - loss: 2.3026 - accuracy: 0.0983\n",
      "Epoch 236/300\n",
      "49/49 [==============================] - 18s 372ms/step - loss: 2.3026 - accuracy: 0.1001\n",
      "Epoch 237/300\n"
     ]
    },
    {
     "name": "stdout",
     "output_type": "stream",
     "text": [
      "49/49 [==============================] - 18s 377ms/step - loss: 2.3026 - accuracy: 0.0987\n",
      "Epoch 238/300\n",
      "49/49 [==============================] - 18s 376ms/step - loss: 2.3026 - accuracy: 0.0995\n",
      "Epoch 239/300\n",
      "49/49 [==============================] - 18s 371ms/step - loss: 2.3026 - accuracy: 0.0973\n",
      "Epoch 240/300\n",
      "49/49 [==============================] - 19s 380ms/step - loss: 2.3026 - accuracy: 0.0985\n",
      "Epoch 241/300\n",
      "49/49 [==============================] - 19s 381ms/step - loss: 2.3026 - accuracy: 0.1014\n",
      "Epoch 242/300\n",
      "49/49 [==============================] - 18s 374ms/step - loss: 2.3026 - accuracy: 0.0981\n",
      "Epoch 243/300\n",
      "49/49 [==============================] - 19s 387ms/step - loss: 2.3026 - accuracy: 0.0968\n",
      "Epoch 244/300\n",
      "49/49 [==============================] - 19s 386ms/step - loss: 2.3026 - accuracy: 0.1007\n",
      "Epoch 245/300\n",
      "49/49 [==============================] - 19s 396ms/step - loss: 2.3026 - accuracy: 0.0998\n",
      "Epoch 246/300\n",
      "49/49 [==============================] - 19s 386ms/step - loss: 2.3026 - accuracy: 0.0981\n",
      "Epoch 247/300\n",
      "49/49 [==============================] - 20s 402ms/step - loss: 2.3026 - accuracy: 0.0980\n",
      "Epoch 248/300\n",
      "49/49 [==============================] - 20s 399ms/step - loss: 2.3026 - accuracy: 0.0992\n",
      "Epoch 249/300\n",
      "49/49 [==============================] - 21s 422ms/step - loss: 2.3026 - accuracy: 0.0984\n",
      "Epoch 250/300\n",
      "49/49 [==============================] - 20s 415ms/step - loss: 2.3026 - accuracy: 0.0974\n",
      "Epoch 251/300\n",
      "49/49 [==============================] - 19s 398ms/step - loss: 2.3026 - accuracy: 0.0980\n",
      "Epoch 252/300\n",
      "49/49 [==============================] - 19s 380ms/step - loss: 2.3026 - accuracy: 0.0976\n",
      "Epoch 253/300\n",
      "49/49 [==============================] - 18s 375ms/step - loss: 2.3026 - accuracy: 0.0976\n",
      "Epoch 254/300\n",
      "49/49 [==============================] - 18s 378ms/step - loss: 2.3026 - accuracy: 0.0971\n",
      "Epoch 255/300\n",
      "49/49 [==============================] - 18s 368ms/step - loss: 2.3026 - accuracy: 0.0956\n",
      "Epoch 256/300\n",
      "49/49 [==============================] - 18s 366ms/step - loss: 2.3026 - accuracy: 0.0974\n",
      "Epoch 257/300\n",
      "49/49 [==============================] - 18s 362ms/step - loss: 2.3026 - accuracy: 0.0980\n",
      "Epoch 258/300\n",
      "49/49 [==============================] - 19s 385ms/step - loss: 2.3026 - accuracy: 0.0987\n",
      "Epoch 259/300\n",
      "49/49 [==============================] - 19s 380ms/step - loss: 2.3026 - accuracy: 0.1010\n",
      "Epoch 260/300\n",
      "49/49 [==============================] - 19s 397ms/step - loss: 2.3026 - accuracy: 0.0983\n",
      "Epoch 261/300\n",
      "49/49 [==============================] - 19s 397ms/step - loss: 2.3026 - accuracy: 0.0998\n",
      "Epoch 262/300\n",
      "49/49 [==============================] - 19s 396ms/step - loss: 2.3026 - accuracy: 0.0958\n",
      "Epoch 263/300\n",
      "49/49 [==============================] - 20s 404ms/step - loss: 2.3026 - accuracy: 0.1003\n",
      "Epoch 264/300\n",
      "49/49 [==============================] - 19s 392ms/step - loss: 2.3026 - accuracy: 0.0991\n",
      "Epoch 265/300\n",
      "49/49 [==============================] - 19s 397ms/step - loss: 2.3026 - accuracy: 0.0992\n",
      "Epoch 266/300\n",
      "49/49 [==============================] - 19s 389ms/step - loss: 2.3026 - accuracy: 0.0964\n",
      "Epoch 267/300\n",
      "49/49 [==============================] - 18s 368ms/step - loss: 2.3026 - accuracy: 0.0999\n",
      "Epoch 268/300\n",
      "49/49 [==============================] - 17s 356ms/step - loss: 2.3026 - accuracy: 0.1005\n",
      "Epoch 269/300\n",
      "49/49 [==============================] - 18s 377ms/step - loss: 2.3026 - accuracy: 0.0961\n",
      "Epoch 270/300\n",
      "49/49 [==============================] - 18s 367ms/step - loss: 2.3026 - accuracy: 0.0977\n",
      "Epoch 271/300\n",
      "49/49 [==============================] - 18s 365ms/step - loss: 2.3026 - accuracy: 0.0992\n",
      "Epoch 272/300\n",
      "49/49 [==============================] - 18s 371ms/step - loss: 2.3026 - accuracy: 0.1034\n",
      "Epoch 273/300\n",
      "49/49 [==============================] - 18s 367ms/step - loss: 2.3026 - accuracy: 0.1001\n",
      "Epoch 274/300\n",
      "49/49 [==============================] - 19s 384ms/step - loss: 2.3026 - accuracy: 0.0998\n",
      "Epoch 275/300\n",
      "49/49 [==============================] - 19s 385ms/step - loss: 2.3026 - accuracy: 0.0965\n",
      "Epoch 276/300\n",
      "49/49 [==============================] - 19s 380ms/step - loss: 2.3026 - accuracy: 0.0996\n",
      "Epoch 277/300\n",
      "49/49 [==============================] - 19s 394ms/step - loss: 2.3026 - accuracy: 0.1007\n",
      "Epoch 278/300\n",
      "49/49 [==============================] - 19s 398ms/step - loss: 2.3026 - accuracy: 0.0982\n",
      "Epoch 279/300\n",
      "49/49 [==============================] - 20s 417ms/step - loss: 2.3026 - accuracy: 0.0991\n",
      "Epoch 280/300\n",
      "49/49 [==============================] - 20s 401ms/step - loss: 2.3026 - accuracy: 0.0992\n",
      "Epoch 281/300\n",
      "49/49 [==============================] - 19s 393ms/step - loss: 2.3026 - accuracy: 0.1012\n",
      "Epoch 282/300\n",
      "49/49 [==============================] - 19s 383ms/step - loss: 2.3026 - accuracy: 0.0987\n",
      "Epoch 283/300\n",
      "49/49 [==============================] - 18s 373ms/step - loss: 2.3026 - accuracy: 0.0990\n",
      "Epoch 284/300\n",
      "49/49 [==============================] - 18s 377ms/step - loss: 2.3026 - accuracy: 0.1002\n",
      "Epoch 285/300\n",
      "49/49 [==============================] - 18s 363ms/step - loss: 2.3026 - accuracy: 0.1021\n",
      "Epoch 286/300\n",
      "49/49 [==============================] - 18s 374ms/step - loss: 2.3026 - accuracy: 0.0989\n",
      "Epoch 287/300\n",
      "49/49 [==============================] - 18s 369ms/step - loss: 2.3026 - accuracy: 0.1014\n",
      "Epoch 288/300\n",
      "49/49 [==============================] - 19s 388ms/step - loss: 2.3026 - accuracy: 0.1005\n",
      "Epoch 289/300\n",
      "49/49 [==============================] - 19s 381ms/step - loss: 2.3026 - accuracy: 0.0989\n",
      "Epoch 290/300\n",
      "49/49 [==============================] - 19s 391ms/step - loss: 2.3026 - accuracy: 0.0983\n",
      "Epoch 291/300\n",
      "49/49 [==============================] - 19s 396ms/step - loss: 2.3026 - accuracy: 0.0956\n",
      "Epoch 292/300\n",
      "49/49 [==============================] - 19s 395ms/step - loss: 2.3026 - accuracy: 0.1009\n",
      "Epoch 293/300\n",
      "49/49 [==============================] - 19s 398ms/step - loss: 2.3026 - accuracy: 0.0977\n",
      "Epoch 294/300\n",
      "49/49 [==============================] - 19s 394ms/step - loss: 2.3026 - accuracy: 0.1010\n",
      "Epoch 295/300\n",
      "49/49 [==============================] - 19s 392ms/step - loss: 2.3026 - accuracy: 0.0990\n",
      "Epoch 296/300\n",
      "49/49 [==============================] - 19s 385ms/step - loss: 2.3026 - accuracy: 0.0991\n",
      "Epoch 297/300\n",
      "49/49 [==============================] - 18s 371ms/step - loss: 2.3026 - accuracy: 0.0994\n",
      "Epoch 298/300\n",
      "49/49 [==============================] - 18s 368ms/step - loss: 2.3026 - accuracy: 0.0977\n",
      "Epoch 299/300\n",
      "49/49 [==============================] - 18s 369ms/step - loss: 2.3026 - accuracy: 0.0996\n",
      "Epoch 300/300\n",
      "49/49 [==============================] - 17s 339ms/step - loss: 2.3026 - accuracy: 0.0971\n",
      "Model: \"sequential_1\"\n",
      "_________________________________________________________________\n",
      "Layer (type)                 Output Shape              Param #   \n",
      "=================================================================\n",
      "max_pooling2d_1 (MaxPooling2 (None, 15, 15, 48)        0         \n",
      "_________________________________________________________________\n",
      "flatten_1 (Flatten)          (None, 10800)             0         \n",
      "_________________________________________________________________\n",
      "dense_2 (Dense)              (None, 1024)              11060224  \n",
      "_________________________________________________________________\n",
      "dense_3 (Dense)              (None, 10)                10250     \n",
      "=================================================================\n",
      "Total params: 11,070,474\n",
      "Trainable params: 11,070,474\n",
      "Non-trainable params: 0\n",
      "_________________________________________________________________\n"
     ]
    }
   ],
   "source": [
    "# Initialize the He initializer\n",
    "initializer = tf.keras.initializers.HeNormal()\n",
    "\n",
    "model_1 = Sequential()\n",
    "\n",
    "model_1.add(Input(shape=(30, 30, 48)))\n",
    "model_1.add(MaxPooling2D(pool_size=(2, 2)))\n",
    "model_1.add(Flatten())\n",
    "model_1.add(Dense(1024, activation='relu', kernel_initializer=initializer))\n",
    "model_1.add(Dense(10, activation='softmax', kernel_initializer=initializer))\n",
    "\n",
    "model_1.compile(optimizer='adam', \n",
    "               loss='sparse_categorical_crossentropy', \n",
    "               metrics = ['accuracy'])\n",
    "\n",
    "history_data1 = model_1.fit(x=train_data, \n",
    "                                     y=train_labels, \n",
    "                                     epochs=300,\n",
    "                                     batch_size=1024)\n",
    "\n",
    "model_1.summary()"
   ]
  },
  {
   "cell_type": "markdown",
   "metadata": {},
   "source": [
    "### Experiment 2"
   ]
  },
  {
   "cell_type": "code",
   "execution_count": 27,
   "metadata": {},
   "outputs": [
    {
     "name": "stdout",
     "output_type": "stream",
     "text": [
      "Epoch 1/300\n",
      "49/49 [==============================] - 62s 1s/step - loss: 13.5727 - accuracy: 0.1017\n",
      "Epoch 2/300\n",
      "49/49 [==============================] - 63s 1s/step - loss: 2.3177 - accuracy: 0.1069\n",
      "Epoch 3/300\n",
      "49/49 [==============================] - 62s 1s/step - loss: 2.2969 - accuracy: 0.1079\n",
      "Epoch 4/300\n",
      "49/49 [==============================] - 60s 1s/step - loss: 2.2834 - accuracy: 0.1179\n",
      "Epoch 5/300\n",
      "49/49 [==============================] - 60s 1s/step - loss: 2.2742 - accuracy: 0.1182\n",
      "Epoch 6/300\n",
      "49/49 [==============================] - 62s 1s/step - loss: 2.2562 - accuracy: 0.1277\n",
      "Epoch 7/300\n",
      "49/49 [==============================] - 62s 1s/step - loss: 2.2401 - accuracy: 0.1376\n",
      "Epoch 8/300\n",
      "49/49 [==============================] - 63s 1s/step - loss: 2.2226 - accuracy: 0.1426\n",
      "Epoch 9/300\n",
      "49/49 [==============================] - 60s 1s/step - loss: 2.1993 - accuracy: 0.1510\n",
      "Epoch 10/300\n",
      "49/49 [==============================] - 61s 1s/step - loss: 2.1662 - accuracy: 0.1676\n",
      "Epoch 11/300\n",
      "49/49 [==============================] - 64s 1s/step - loss: 2.1341 - accuracy: 0.1808\n",
      "Epoch 12/300\n",
      "49/49 [==============================] - 61s 1s/step - loss: 2.0992 - accuracy: 0.1951\n",
      "Epoch 13/300\n",
      "49/49 [==============================] - 62s 1s/step - loss: 2.0606 - accuracy: 0.2138\n",
      "Epoch 14/300\n",
      "49/49 [==============================] - 60s 1s/step - loss: 2.0156 - accuracy: 0.2301\n",
      "Epoch 15/300\n",
      "49/49 [==============================] - 60s 1s/step - loss: 1.9765 - accuracy: 0.2453\n",
      "Epoch 16/300\n",
      "49/49 [==============================] - 60s 1s/step - loss: 1.9344 - accuracy: 0.2624\n",
      "Epoch 17/300\n",
      "49/49 [==============================] - 61s 1s/step - loss: 1.8971 - accuracy: 0.2753\n",
      "Epoch 18/300\n",
      "49/49 [==============================] - 63s 1s/step - loss: 1.8457 - accuracy: 0.2945\n",
      "Epoch 19/300\n",
      "49/49 [==============================] - 60s 1s/step - loss: 1.8024 - accuracy: 0.3132\n",
      "Epoch 20/300\n",
      "49/49 [==============================] - 60s 1s/step - loss: 1.7550 - accuracy: 0.3332\n",
      "Epoch 21/300\n",
      "49/49 [==============================] - 60s 1s/step - loss: 1.7156 - accuracy: 0.3493\n",
      "Epoch 22/300\n",
      "49/49 [==============================] - 61s 1s/step - loss: 1.6769 - accuracy: 0.3636\n",
      "Epoch 23/300\n",
      "49/49 [==============================] - 62s 1s/step - loss: 1.6189 - accuracy: 0.3826\n",
      "Epoch 24/300\n",
      "49/49 [==============================] - 60s 1s/step - loss: 1.5868 - accuracy: 0.3945\n",
      "Epoch 25/300\n",
      "49/49 [==============================] - 60s 1s/step - loss: 1.5312 - accuracy: 0.4164\n",
      "Epoch 26/300\n",
      "49/49 [==============================] - 62s 1s/step - loss: 1.4978 - accuracy: 0.4314\n",
      "Epoch 27/300\n",
      "49/49 [==============================] - 63s 1s/step - loss: 1.4672 - accuracy: 0.4431\n",
      "Epoch 28/300\n",
      "49/49 [==============================] - 63s 1s/step - loss: 1.4318 - accuracy: 0.4545\n",
      "Epoch 29/300\n",
      "49/49 [==============================] - 59s 1s/step - loss: 1.3802 - accuracy: 0.4713\n",
      "Epoch 30/300\n",
      "49/49 [==============================] - 60s 1s/step - loss: 1.3497 - accuracy: 0.4836\n",
      "Epoch 31/300\n",
      "49/49 [==============================] - 60s 1s/step - loss: 1.3008 - accuracy: 0.5043\n",
      "Epoch 32/300\n",
      "49/49 [==============================] - 62s 1s/step - loss: 1.2789 - accuracy: 0.5117\n",
      "Epoch 33/300\n",
      "49/49 [==============================] - 61s 1s/step - loss: 1.2328 - accuracy: 0.5264\n",
      "Epoch 34/300\n",
      "49/49 [==============================] - 59s 1s/step - loss: 1.1915 - accuracy: 0.5439\n",
      "Epoch 35/300\n",
      "49/49 [==============================] - 60s 1s/step - loss: 1.1639 - accuracy: 0.5557\n",
      "Epoch 36/300\n",
      "49/49 [==============================] - 61s 1s/step - loss: 1.1313 - accuracy: 0.5682\n",
      "Epoch 37/300\n",
      "49/49 [==============================] - 62s 1s/step - loss: 1.0959 - accuracy: 0.5787\n",
      "Epoch 38/300\n",
      "49/49 [==============================] - 62s 1s/step - loss: 1.0631 - accuracy: 0.5953\n",
      "Epoch 39/300\n",
      "49/49 [==============================] - 59s 1s/step - loss: 1.0367 - accuracy: 0.6052\n",
      "Epoch 40/300\n",
      "49/49 [==============================] - 60s 1s/step - loss: 1.0063 - accuracy: 0.6175\n",
      "Epoch 41/300\n",
      "49/49 [==============================] - 60s 1s/step - loss: 0.9927 - accuracy: 0.6227\n",
      "Epoch 42/300\n",
      "49/49 [==============================] - 61s 1s/step - loss: 0.9579 - accuracy: 0.6359\n",
      "Epoch 43/300\n",
      "49/49 [==============================] - 62s 1s/step - loss: 0.9283 - accuracy: 0.6483\n",
      "Epoch 44/300\n",
      "49/49 [==============================] - 60s 1s/step - loss: 0.9035 - accuracy: 0.6617\n",
      "Epoch 45/300\n",
      "49/49 [==============================] - 60s 1s/step - loss: 0.8653 - accuracy: 0.6719\n",
      "Epoch 46/300\n",
      "49/49 [==============================] - 60s 1s/step - loss: 0.8399 - accuracy: 0.6837\n",
      "Epoch 47/300\n",
      "49/49 [==============================] - 62s 1s/step - loss: 0.8268 - accuracy: 0.6896\n",
      "Epoch 48/300\n",
      "49/49 [==============================] - 61s 1s/step - loss: 0.8009 - accuracy: 0.6987\n",
      "Epoch 49/300\n",
      "49/49 [==============================] - 59s 1s/step - loss: 0.7837 - accuracy: 0.7042\n",
      "Epoch 50/300\n",
      "49/49 [==============================] - 60s 1s/step - loss: 0.7661 - accuracy: 0.7122\n",
      "Epoch 51/300\n",
      "49/49 [==============================] - 61s 1s/step - loss: 0.7412 - accuracy: 0.7208\n",
      "Epoch 52/300\n",
      "49/49 [==============================] - 61s 1s/step - loss: 0.7281 - accuracy: 0.7299\n",
      "Epoch 53/300\n",
      "49/49 [==============================] - 62s 1s/step - loss: 0.6933 - accuracy: 0.7395\n",
      "Epoch 54/300\n",
      "49/49 [==============================] - 60s 1s/step - loss: 0.6794 - accuracy: 0.7471\n",
      "Epoch 55/300\n",
      "49/49 [==============================] - 60s 1s/step - loss: 0.6815 - accuracy: 0.7460\n",
      "Epoch 56/300\n",
      "49/49 [==============================] - 61s 1s/step - loss: 0.6525 - accuracy: 0.7594\n",
      "Epoch 57/300\n",
      "49/49 [==============================] - 62s 1s/step - loss: 0.6401 - accuracy: 0.7639\n",
      "Epoch 58/300\n",
      "49/49 [==============================] - 60s 1s/step - loss: 0.6112 - accuracy: 0.7724\n",
      "Epoch 59/300\n",
      "49/49 [==============================] - 60s 1s/step - loss: 0.5977 - accuracy: 0.7761\n",
      "Epoch 60/300\n",
      "49/49 [==============================] - 60s 1s/step - loss: 0.5975 - accuracy: 0.7773\n",
      "Epoch 61/300\n",
      "49/49 [==============================] - 60s 1s/step - loss: 0.5811 - accuracy: 0.7846\n",
      "Epoch 62/300\n",
      "49/49 [==============================] - 61s 1s/step - loss: 0.5611 - accuracy: 0.7932\n",
      "Epoch 63/300\n",
      "49/49 [==============================] - 60s 1s/step - loss: 0.5421 - accuracy: 0.8007\n",
      "Epoch 64/300\n",
      "49/49 [==============================] - 60s 1s/step - loss: 0.5473 - accuracy: 0.7969\n",
      "Epoch 65/300\n",
      "49/49 [==============================] - 60s 1s/step - loss: 0.5369 - accuracy: 0.8015\n",
      "Epoch 66/300\n",
      "49/49 [==============================] - 61s 1s/step - loss: 0.5201 - accuracy: 0.8077\n",
      "Epoch 67/300\n",
      "49/49 [==============================] - 62s 1s/step - loss: 0.5032 - accuracy: 0.8133\n",
      "Epoch 68/300\n",
      "49/49 [==============================] - 59s 1s/step - loss: 0.4938 - accuracy: 0.8169\n",
      "Epoch 69/300\n",
      "49/49 [==============================] - 60s 1s/step - loss: 0.4937 - accuracy: 0.8176\n",
      "Epoch 70/300\n",
      "49/49 [==============================] - 60s 1s/step - loss: 0.4820 - accuracy: 0.8233\n",
      "Epoch 71/300\n",
      "49/49 [==============================] - 62s 1s/step - loss: 0.4561 - accuracy: 0.8313\n",
      "Epoch 72/300\n",
      "49/49 [==============================] - 61s 1s/step - loss: 0.4760 - accuracy: 0.8255\n",
      "Epoch 73/300\n",
      "49/49 [==============================] - 61s 1s/step - loss: 0.4593 - accuracy: 0.8326\n",
      "Epoch 74/300\n",
      "49/49 [==============================] - 59s 1s/step - loss: 0.4448 - accuracy: 0.8378\n",
      "Epoch 75/300\n",
      "49/49 [==============================] - 61s 1s/step - loss: 0.4211 - accuracy: 0.8470\n",
      "Epoch 76/300\n",
      "49/49 [==============================] - 60s 1s/step - loss: 0.4220 - accuracy: 0.8470\n",
      "Epoch 77/300\n",
      "49/49 [==============================] - 61s 1s/step - loss: 0.4179 - accuracy: 0.8488\n",
      "Epoch 78/300\n",
      "49/49 [==============================] - 61s 1s/step - loss: 0.3998 - accuracy: 0.8547\n",
      "Epoch 79/300\n",
      "49/49 [==============================] - 60s 1s/step - loss: 0.4030 - accuracy: 0.8541\n",
      "Epoch 80/300\n",
      "49/49 [==============================] - 60s 1s/step - loss: 0.3956 - accuracy: 0.8566\n",
      "Epoch 81/300\n",
      "49/49 [==============================] - 60s 1s/step - loss: 0.3842 - accuracy: 0.8602\n",
      "Epoch 82/300\n",
      "49/49 [==============================] - 61s 1s/step - loss: 0.3747 - accuracy: 0.8642\n",
      "Epoch 83/300\n"
     ]
    },
    {
     "name": "stdout",
     "output_type": "stream",
     "text": [
      "49/49 [==============================] - 63s 1s/step - loss: 0.3738 - accuracy: 0.8637\n",
      "Epoch 84/300\n",
      "49/49 [==============================] - 60s 1s/step - loss: 0.3690 - accuracy: 0.8665\n",
      "Epoch 85/300\n",
      "49/49 [==============================] - 60s 1s/step - loss: 0.3520 - accuracy: 0.8731\n",
      "Epoch 86/300\n",
      "49/49 [==============================] - 61s 1s/step - loss: 0.3610 - accuracy: 0.8719\n",
      "Epoch 87/300\n",
      "49/49 [==============================] - 62s 1s/step - loss: 0.3616 - accuracy: 0.8727\n",
      "Epoch 88/300\n",
      "49/49 [==============================] - 60s 1s/step - loss: 0.3507 - accuracy: 0.8731\n",
      "Epoch 89/300\n",
      "49/49 [==============================] - 59s 1s/step - loss: 0.3448 - accuracy: 0.8775\n",
      "Epoch 90/300\n",
      "49/49 [==============================] - 60s 1s/step - loss: 0.3335 - accuracy: 0.8813\n",
      "Epoch 91/300\n",
      "49/49 [==============================] - 63s 1s/step - loss: 0.3370 - accuracy: 0.8799\n",
      "Epoch 92/300\n",
      "49/49 [==============================] - 63s 1s/step - loss: 0.3278 - accuracy: 0.8810\n",
      "Epoch 93/300\n",
      "49/49 [==============================] - 60s 1s/step - loss: 0.3139 - accuracy: 0.8868\n",
      "Epoch 94/300\n",
      "49/49 [==============================] - 60s 1s/step - loss: 0.3017 - accuracy: 0.8916\n",
      "Epoch 95/300\n",
      "49/49 [==============================] - 60s 1s/step - loss: 0.3058 - accuracy: 0.8901\n",
      "Epoch 96/300\n",
      "49/49 [==============================] - 61s 1s/step - loss: 0.3053 - accuracy: 0.8914\n",
      "Epoch 97/300\n",
      "49/49 [==============================] - 62s 1s/step - loss: 0.3009 - accuracy: 0.8928\n",
      "Epoch 98/300\n",
      "49/49 [==============================] - 61s 1s/step - loss: 0.3012 - accuracy: 0.8941\n",
      "Epoch 99/300\n",
      "49/49 [==============================] - 60s 1s/step - loss: 0.3059 - accuracy: 0.8908\n",
      "Epoch 100/300\n",
      "49/49 [==============================] - 61s 1s/step - loss: 0.2911 - accuracy: 0.8969\n",
      "Epoch 101/300\n",
      "49/49 [==============================] - 61s 1s/step - loss: 0.2895 - accuracy: 0.8968\n",
      "Epoch 102/300\n",
      "49/49 [==============================] - 62s 1s/step - loss: 0.2835 - accuracy: 0.8990\n",
      "Epoch 103/300\n",
      "49/49 [==============================] - 60s 1s/step - loss: 0.2750 - accuracy: 0.9017\n",
      "Epoch 104/300\n",
      "49/49 [==============================] - 60s 1s/step - loss: 0.2744 - accuracy: 0.9033\n",
      "Epoch 105/300\n",
      "49/49 [==============================] - 61s 1s/step - loss: 0.2812 - accuracy: 0.9018\n",
      "Epoch 106/300\n",
      "49/49 [==============================] - 62s 1s/step - loss: 0.2689 - accuracy: 0.9051\n",
      "Epoch 107/300\n",
      "49/49 [==============================] - 60s 1s/step - loss: 0.2716 - accuracy: 0.9031\n",
      "Epoch 108/300\n",
      "49/49 [==============================] - 60s 1s/step - loss: 0.2686 - accuracy: 0.9028\n",
      "Epoch 109/300\n",
      "49/49 [==============================] - 61s 1s/step - loss: 0.2573 - accuracy: 0.9091\n",
      "Epoch 110/300\n",
      "49/49 [==============================] - 62s 1s/step - loss: 0.2598 - accuracy: 0.9112\n",
      "Epoch 111/300\n",
      "49/49 [==============================] - 63s 1s/step - loss: 0.2590 - accuracy: 0.9105\n",
      "Epoch 112/300\n",
      "49/49 [==============================] - 61s 1s/step - loss: 0.2471 - accuracy: 0.9128\n",
      "Epoch 113/300\n",
      "49/49 [==============================] - 60s 1s/step - loss: 0.2425 - accuracy: 0.9151\n",
      "Epoch 114/300\n",
      "49/49 [==============================] - 60s 1s/step - loss: 0.2402 - accuracy: 0.9157\n",
      "Epoch 115/300\n",
      "49/49 [==============================] - 62s 1s/step - loss: 0.2423 - accuracy: 0.9148\n",
      "Epoch 116/300\n",
      "49/49 [==============================] - 64s 1s/step - loss: 0.2389 - accuracy: 0.9161\n",
      "Epoch 117/300\n",
      "49/49 [==============================] - 61s 1s/step - loss: 0.2245 - accuracy: 0.9205\n",
      "Epoch 118/300\n",
      "49/49 [==============================] - 61s 1s/step - loss: 0.2268 - accuracy: 0.9204\n",
      "Epoch 119/300\n",
      "49/49 [==============================] - 61s 1s/step - loss: 0.2356 - accuracy: 0.9207\n",
      "Epoch 120/300\n",
      "49/49 [==============================] - 63s 1s/step - loss: 0.2318 - accuracy: 0.9190\n",
      "Epoch 121/300\n",
      "49/49 [==============================] - 61s 1s/step - loss: 0.2280 - accuracy: 0.9184\n",
      "Epoch 122/300\n",
      "49/49 [==============================] - 60s 1s/step - loss: 0.2210 - accuracy: 0.9221\n",
      "Epoch 123/300\n",
      "49/49 [==============================] - 60s 1s/step - loss: 0.2212 - accuracy: 0.9221\n",
      "Epoch 124/300\n",
      "49/49 [==============================] - 62s 1s/step - loss: 0.2193 - accuracy: 0.9224\n",
      "Epoch 125/300\n",
      "49/49 [==============================] - 62s 1s/step - loss: 0.2126 - accuracy: 0.9266\n",
      "Epoch 126/300\n",
      "49/49 [==============================] - 59s 1s/step - loss: 0.2129 - accuracy: 0.9243\n",
      "Epoch 127/300\n",
      "49/49 [==============================] - 60s 1s/step - loss: 0.2160 - accuracy: 0.9250\n",
      "Epoch 128/300\n",
      "49/49 [==============================] - 62s 1s/step - loss: 0.2047 - accuracy: 0.9265\n",
      "Epoch 129/300\n",
      "49/49 [==============================] - 62s 1s/step - loss: 0.2137 - accuracy: 0.9270\n",
      "Epoch 130/300\n",
      "49/49 [==============================] - 61s 1s/step - loss: 0.1960 - accuracy: 0.9295\n",
      "Epoch 131/300\n",
      "49/49 [==============================] - 61s 1s/step - loss: 0.2025 - accuracy: 0.9306\n",
      "Epoch 132/300\n",
      "49/49 [==============================] - 62s 1s/step - loss: 0.2075 - accuracy: 0.9275\n",
      "Epoch 133/300\n",
      "49/49 [==============================] - 60s 1s/step - loss: 0.2008 - accuracy: 0.9313\n",
      "Epoch 134/300\n",
      "49/49 [==============================] - 60s 1s/step - loss: 0.2042 - accuracy: 0.9286\n",
      "Epoch 135/300\n",
      "49/49 [==============================] - 63s 1s/step - loss: 0.1932 - accuracy: 0.9328\n",
      "Epoch 136/300\n",
      "49/49 [==============================] - 62s 1s/step - loss: 0.1958 - accuracy: 0.9324\n",
      "Epoch 137/300\n",
      "49/49 [==============================] - 60s 1s/step - loss: 0.1999 - accuracy: 0.9321\n",
      "Epoch 138/300\n",
      "49/49 [==============================] - 60s 1s/step - loss: 0.1928 - accuracy: 0.9330\n",
      "Epoch 139/300\n",
      "49/49 [==============================] - 63s 1s/step - loss: 0.1979 - accuracy: 0.9337\n",
      "Epoch 140/300\n",
      "49/49 [==============================] - 63s 1s/step - loss: 0.1933 - accuracy: 0.9315\n",
      "Epoch 141/300\n",
      "49/49 [==============================] - 60s 1s/step - loss: 0.1928 - accuracy: 0.9338\n",
      "Epoch 142/300\n",
      "49/49 [==============================] - 60s 1s/step - loss: 0.1747 - accuracy: 0.9411\n",
      "Epoch 143/300\n",
      "49/49 [==============================] - 62s 1s/step - loss: 0.1806 - accuracy: 0.9365\n",
      "Epoch 144/300\n",
      "49/49 [==============================] - 65s 1s/step - loss: 0.1812 - accuracy: 0.9359\n",
      "Epoch 145/300\n",
      "49/49 [==============================] - 60s 1s/step - loss: 0.1833 - accuracy: 0.9383\n",
      "Epoch 146/300\n",
      "49/49 [==============================] - 60s 1s/step - loss: 0.1857 - accuracy: 0.9362\n",
      "Epoch 147/300\n",
      "49/49 [==============================] - 61s 1s/step - loss: 0.1873 - accuracy: 0.9352\n",
      "Epoch 148/300\n",
      "49/49 [==============================] - 62s 1s/step - loss: 0.1754 - accuracy: 0.9381\n",
      "Epoch 149/300\n",
      "49/49 [==============================] - 63s 1s/step - loss: 0.1749 - accuracy: 0.9405\n",
      "Epoch 150/300\n",
      "49/49 [==============================] - 59s 1s/step - loss: 0.1827 - accuracy: 0.9385\n",
      "Epoch 151/300\n",
      "49/49 [==============================] - 60s 1s/step - loss: 0.1641 - accuracy: 0.9443\n",
      "Epoch 152/300\n",
      "49/49 [==============================] - 62s 1s/step - loss: 0.1604 - accuracy: 0.9443\n",
      "Epoch 153/300\n",
      "49/49 [==============================] - 63s 1s/step - loss: 0.1709 - accuracy: 0.9400\n",
      "Epoch 154/300\n",
      "49/49 [==============================] - 60s 1s/step - loss: 0.1631 - accuracy: 0.9443\n",
      "Epoch 155/300\n",
      "49/49 [==============================] - 61s 1s/step - loss: 0.1684 - accuracy: 0.9401\n",
      "Epoch 156/300\n",
      "49/49 [==============================] - 63s 1s/step - loss: 0.1678 - accuracy: 0.9413\n",
      "Epoch 157/300\n",
      "49/49 [==============================] - 65s 1s/step - loss: 0.1620 - accuracy: 0.9445\n",
      "Epoch 158/300\n",
      "49/49 [==============================] - 60s 1s/step - loss: 0.1650 - accuracy: 0.9444\n",
      "Epoch 159/300\n",
      "49/49 [==============================] - 60s 1s/step - loss: 0.1695 - accuracy: 0.9434\n",
      "Epoch 160/300\n",
      "49/49 [==============================] - 60s 1s/step - loss: 0.1665 - accuracy: 0.9428\n",
      "Epoch 161/300\n",
      "49/49 [==============================] - 62s 1s/step - loss: 0.1584 - accuracy: 0.9448\n",
      "Epoch 162/300\n",
      "49/49 [==============================] - 62s 1s/step - loss: 0.1706 - accuracy: 0.9408\n",
      "Epoch 163/300\n",
      "49/49 [==============================] - 59s 1s/step - loss: 0.1631 - accuracy: 0.9439\n",
      "Epoch 164/300\n"
     ]
    },
    {
     "name": "stdout",
     "output_type": "stream",
     "text": [
      "49/49 [==============================] - 59s 1s/step - loss: 0.1522 - accuracy: 0.9478\n",
      "Epoch 165/300\n",
      "49/49 [==============================] - 60s 1s/step - loss: 0.1529 - accuracy: 0.9458\n",
      "Epoch 166/300\n",
      "49/49 [==============================] - 63s 1s/step - loss: 0.1596 - accuracy: 0.9462\n",
      "Epoch 167/300\n",
      "49/49 [==============================] - 62s 1s/step - loss: 0.1639 - accuracy: 0.9437\n",
      "Epoch 168/300\n",
      "49/49 [==============================] - 59s 1s/step - loss: 0.1681 - accuracy: 0.9424\n",
      "Epoch 169/300\n",
      "49/49 [==============================] - 60s 1s/step - loss: 0.1535 - accuracy: 0.9470\n",
      "Epoch 170/300\n",
      "49/49 [==============================] - 61s 1s/step - loss: 0.1565 - accuracy: 0.9459\n",
      "Epoch 171/300\n",
      "49/49 [==============================] - 62s 1s/step - loss: 0.1453 - accuracy: 0.9510\n",
      "Epoch 172/300\n",
      "49/49 [==============================] - 59s 1s/step - loss: 0.1453 - accuracy: 0.9507\n",
      "Epoch 173/300\n",
      "49/49 [==============================] - 60s 1s/step - loss: 0.1406 - accuracy: 0.9499\n",
      "Epoch 174/300\n",
      "49/49 [==============================] - 62s 1s/step - loss: 0.1452 - accuracy: 0.9494\n",
      "Epoch 175/300\n",
      "49/49 [==============================] - 62s 1s/step - loss: 0.1393 - accuracy: 0.9521\n",
      "Epoch 176/300\n",
      "49/49 [==============================] - 60s 1s/step - loss: 0.1410 - accuracy: 0.9504\n",
      "Epoch 177/300\n",
      "49/49 [==============================] - 60s 1s/step - loss: 0.1446 - accuracy: 0.9512\n",
      "Epoch 178/300\n",
      "49/49 [==============================] - 61s 1s/step - loss: 0.1474 - accuracy: 0.9505\n",
      "Epoch 179/300\n",
      "49/49 [==============================] - 63s 1s/step - loss: 0.1482 - accuracy: 0.9515\n",
      "Epoch 180/300\n",
      "49/49 [==============================] - 61s 1s/step - loss: 0.1430 - accuracy: 0.9519\n",
      "Epoch 181/300\n",
      "49/49 [==============================] - 59s 1s/step - loss: 0.1412 - accuracy: 0.9522\n",
      "Epoch 182/300\n",
      "49/49 [==============================] - 59s 1s/step - loss: 0.1424 - accuracy: 0.9507\n",
      "Epoch 183/300\n",
      "49/49 [==============================] - 61s 1s/step - loss: 0.1501 - accuracy: 0.9494\n",
      "Epoch 184/300\n",
      "49/49 [==============================] - 61s 1s/step - loss: 0.1409 - accuracy: 0.9527\n",
      "Epoch 185/300\n",
      "49/49 [==============================] - 63s 1s/step - loss: 0.1388 - accuracy: 0.9538\n",
      "Epoch 186/300\n",
      "49/49 [==============================] - 59s 1s/step - loss: 0.1350 - accuracy: 0.9544\n",
      "Epoch 187/300\n",
      "49/49 [==============================] - 61s 1s/step - loss: 0.1406 - accuracy: 0.9516\n",
      "Epoch 188/300\n",
      "49/49 [==============================] - 61s 1s/step - loss: 0.1265 - accuracy: 0.9569\n",
      "Epoch 189/300\n",
      "49/49 [==============================] - 62s 1s/step - loss: 0.1329 - accuracy: 0.9546\n",
      "Epoch 190/300\n",
      "49/49 [==============================] - 62s 1s/step - loss: 0.1309 - accuracy: 0.9552\n",
      "Epoch 191/300\n",
      "49/49 [==============================] - 60s 1s/step - loss: 0.1269 - accuracy: 0.9566\n",
      "Epoch 192/300\n",
      "49/49 [==============================] - 60s 1s/step - loss: 0.1258 - accuracy: 0.9572\n",
      "Epoch 193/300\n",
      "49/49 [==============================] - 60s 1s/step - loss: 0.1245 - accuracy: 0.9590\n",
      "Epoch 194/300\n",
      "49/49 [==============================] - 62s 1s/step - loss: 0.1305 - accuracy: 0.9541\n",
      "Epoch 195/300\n",
      "49/49 [==============================] - 60s 1s/step - loss: 0.1241 - accuracy: 0.9572\n",
      "Epoch 196/300\n",
      "49/49 [==============================] - 59s 1s/step - loss: 0.1206 - accuracy: 0.9595\n",
      "Epoch 197/300\n",
      "49/49 [==============================] - 62s 1s/step - loss: 0.1260 - accuracy: 0.9576\n",
      "Epoch 198/300\n",
      "49/49 [==============================] - 63s 1s/step - loss: 0.1235 - accuracy: 0.9576\n",
      "Epoch 199/300\n",
      "49/49 [==============================] - 60s 1s/step - loss: 0.1278 - accuracy: 0.9573\n",
      "Epoch 200/300\n",
      "49/49 [==============================] - 60s 1s/step - loss: 0.1300 - accuracy: 0.9559\n",
      "Epoch 201/300\n",
      "49/49 [==============================] - 61s 1s/step - loss: 0.1246 - accuracy: 0.9572\n",
      "Epoch 202/300\n",
      "49/49 [==============================] - 62s 1s/step - loss: 0.1389 - accuracy: 0.9554\n",
      "Epoch 203/300\n",
      "49/49 [==============================] - 60s 1s/step - loss: 0.1350 - accuracy: 0.9546\n",
      "Epoch 204/300\n",
      "49/49 [==============================] - 60s 1s/step - loss: 0.1338 - accuracy: 0.9554\n",
      "Epoch 205/300\n",
      "49/49 [==============================] - 61s 1s/step - loss: 0.1304 - accuracy: 0.9566\n",
      "Epoch 206/300\n",
      "49/49 [==============================] - 63s 1s/step - loss: 0.1316 - accuracy: 0.9552\n",
      "Epoch 207/300\n",
      "49/49 [==============================] - 62s 1s/step - loss: 0.1257 - accuracy: 0.9581\n",
      "Epoch 208/300\n",
      "49/49 [==============================] - 59s 1s/step - loss: 0.1216 - accuracy: 0.9569\n",
      "Epoch 209/300\n",
      "49/49 [==============================] - 59s 1s/step - loss: 0.1247 - accuracy: 0.9580\n",
      "Epoch 210/300\n",
      "49/49 [==============================] - 60s 1s/step - loss: 0.1180 - accuracy: 0.9598\n",
      "Epoch 211/300\n",
      "49/49 [==============================] - 63s 1s/step - loss: 0.1226 - accuracy: 0.9575\n",
      "Epoch 212/300\n",
      "49/49 [==============================] - 64s 1s/step - loss: 0.1216 - accuracy: 0.9592\n",
      "Epoch 213/300\n",
      "49/49 [==============================] - 63s 1s/step - loss: 0.1205 - accuracy: 0.9591\n",
      "Epoch 214/300\n",
      "49/49 [==============================] - 60s 1s/step - loss: 0.1226 - accuracy: 0.9607\n",
      "Epoch 215/300\n",
      "49/49 [==============================] - 61s 1s/step - loss: 0.1169 - accuracy: 0.9603\n",
      "Epoch 216/300\n",
      "49/49 [==============================] - 64s 1s/step - loss: 0.1261 - accuracy: 0.9592\n",
      "Epoch 217/300\n",
      "49/49 [==============================] - 61s 1s/step - loss: 0.1203 - accuracy: 0.9583\n",
      "Epoch 218/300\n",
      "49/49 [==============================] - 61s 1s/step - loss: 0.1210 - accuracy: 0.9595\n",
      "Epoch 219/300\n",
      "49/49 [==============================] - 61s 1s/step - loss: 0.1210 - accuracy: 0.9588\n",
      "Epoch 220/300\n",
      "49/49 [==============================] - 64s 1s/step - loss: 0.1296 - accuracy: 0.9580\n",
      "Epoch 221/300\n",
      "49/49 [==============================] - 64s 1s/step - loss: 0.1175 - accuracy: 0.9617\n",
      "Epoch 222/300\n",
      "49/49 [==============================] - 59s 1s/step - loss: 0.1086 - accuracy: 0.9616\n",
      "Epoch 223/300\n",
      "49/49 [==============================] - 59s 1s/step - loss: 0.1079 - accuracy: 0.9636\n",
      "Epoch 224/300\n",
      "49/49 [==============================] - 60s 1s/step - loss: 0.1138 - accuracy: 0.9623\n",
      "Epoch 225/300\n",
      "49/49 [==============================] - 63s 1s/step - loss: 0.1076 - accuracy: 0.9618\n",
      "Epoch 226/300\n",
      "49/49 [==============================] - 64s 1s/step - loss: 0.1123 - accuracy: 0.9628\n",
      "Epoch 227/300\n",
      "49/49 [==============================] - 60s 1s/step - loss: 0.1111 - accuracy: 0.9618\n",
      "Epoch 228/300\n",
      "49/49 [==============================] - 60s 1s/step - loss: 0.1150 - accuracy: 0.9624\n",
      "Epoch 229/300\n",
      "49/49 [==============================] - 61s 1s/step - loss: 0.1096 - accuracy: 0.9629\n",
      "Epoch 230/300\n",
      "49/49 [==============================] - 64s 1s/step - loss: 0.1076 - accuracy: 0.9629\n",
      "Epoch 231/300\n",
      "49/49 [==============================] - 60s 1s/step - loss: 0.0996 - accuracy: 0.9651\n",
      "Epoch 232/300\n",
      "49/49 [==============================] - 59s 1s/step - loss: 0.1030 - accuracy: 0.9643\n",
      "Epoch 233/300\n",
      "49/49 [==============================] - 62s 1s/step - loss: 0.1061 - accuracy: 0.9643\n",
      "Epoch 234/300\n",
      "49/49 [==============================] - 63s 1s/step - loss: 0.1028 - accuracy: 0.9653\n",
      "Epoch 235/300\n",
      "49/49 [==============================] - 59s 1s/step - loss: 0.1035 - accuracy: 0.9635\n",
      "Epoch 236/300\n",
      "49/49 [==============================] - 59s 1s/step - loss: 0.1073 - accuracy: 0.9638\n",
      "Epoch 237/300\n",
      "49/49 [==============================] - 61s 1s/step - loss: 0.1029 - accuracy: 0.9654\n",
      "Epoch 238/300\n",
      "49/49 [==============================] - 63s 1s/step - loss: 0.1053 - accuracy: 0.9641\n",
      "Epoch 239/300\n",
      "49/49 [==============================] - 60s 1s/step - loss: 0.1004 - accuracy: 0.9651\n",
      "Epoch 240/300\n",
      "49/49 [==============================] - 60s 1s/step - loss: 0.1046 - accuracy: 0.9635\n",
      "Epoch 241/300\n",
      "49/49 [==============================] - 60s 1s/step - loss: 0.0931 - accuracy: 0.9676\n",
      "Epoch 242/300\n",
      "49/49 [==============================] - 63s 1s/step - loss: 0.1007 - accuracy: 0.9658\n",
      "Epoch 243/300\n",
      "49/49 [==============================] - 64s 1s/step - loss: 0.1001 - accuracy: 0.9658\n",
      "Epoch 244/300\n",
      "49/49 [==============================] - 60s 1s/step - loss: 0.1019 - accuracy: 0.9660\n",
      "Epoch 245/300\n"
     ]
    },
    {
     "name": "stdout",
     "output_type": "stream",
     "text": [
      "49/49 [==============================] - 60s 1s/step - loss: 0.1061 - accuracy: 0.9663\n",
      "Epoch 246/300\n",
      "49/49 [==============================] - 62s 1s/step - loss: 0.1120 - accuracy: 0.9636\n",
      "Epoch 247/300\n",
      "49/49 [==============================] - 62s 1s/step - loss: 0.1097 - accuracy: 0.9632\n",
      "Epoch 248/300\n",
      "49/49 [==============================] - 60s 1s/step - loss: 0.1072 - accuracy: 0.9642\n",
      "Epoch 249/300\n",
      "49/49 [==============================] - 59s 1s/step - loss: 0.1066 - accuracy: 0.9635\n",
      "Epoch 250/300\n",
      "49/49 [==============================] - 62s 1s/step - loss: 0.1081 - accuracy: 0.9645\n",
      "Epoch 251/300\n",
      "49/49 [==============================] - 63s 1s/step - loss: 0.1037 - accuracy: 0.9648\n",
      "Epoch 252/300\n",
      "49/49 [==============================] - 60s 1s/step - loss: 0.1086 - accuracy: 0.9637\n",
      "Epoch 253/300\n",
      "49/49 [==============================] - 60s 1s/step - loss: 0.1022 - accuracy: 0.9650\n",
      "Epoch 254/300\n",
      "49/49 [==============================] - 61s 1s/step - loss: 0.0975 - accuracy: 0.9657\n",
      "Epoch 255/300\n",
      "49/49 [==============================] - 63s 1s/step - loss: 0.0977 - accuracy: 0.9667\n",
      "Epoch 256/300\n",
      "49/49 [==============================] - 60s 1s/step - loss: 0.0908 - accuracy: 0.9687\n",
      "Epoch 257/300\n",
      "49/49 [==============================] - 61s 1s/step - loss: 0.1003 - accuracy: 0.9665\n",
      "Epoch 258/300\n",
      "49/49 [==============================] - 63s 1s/step - loss: 0.1012 - accuracy: 0.9653\n",
      "Epoch 259/300\n",
      "49/49 [==============================] - 62s 1s/step - loss: 0.0992 - accuracy: 0.9664\n",
      "Epoch 260/300\n",
      "49/49 [==============================] - 60s 1s/step - loss: 0.0970 - accuracy: 0.9662\n",
      "Epoch 261/300\n",
      "49/49 [==============================] - 60s 1s/step - loss: 0.0918 - accuracy: 0.9684\n",
      "Epoch 262/300\n",
      "49/49 [==============================] - 62s 1s/step - loss: 0.0937 - accuracy: 0.9694\n",
      "Epoch 263/300\n",
      "49/49 [==============================] - 65s 1s/step - loss: 0.0920 - accuracy: 0.9680\n",
      "Epoch 264/300\n",
      "49/49 [==============================] - 62s 1s/step - loss: 0.0926 - accuracy: 0.9689\n",
      "Epoch 265/300\n",
      "49/49 [==============================] - 60s 1s/step - loss: 0.0890 - accuracy: 0.9701\n",
      "Epoch 266/300\n",
      "49/49 [==============================] - 60s 1s/step - loss: 0.0912 - accuracy: 0.9690\n",
      "Epoch 267/300\n",
      "49/49 [==============================] - 61s 1s/step - loss: 0.0896 - accuracy: 0.9702\n",
      "Epoch 268/300\n",
      "49/49 [==============================] - 63s 1s/step - loss: 0.0903 - accuracy: 0.9681\n",
      "Epoch 269/300\n",
      "49/49 [==============================] - 62s 1s/step - loss: 0.0894 - accuracy: 0.9695\n",
      "Epoch 270/300\n",
      "49/49 [==============================] - 59s 1s/step - loss: 0.0887 - accuracy: 0.9700\n",
      "Epoch 271/300\n",
      "49/49 [==============================] - 61s 1s/step - loss: 0.0906 - accuracy: 0.9689\n",
      "Epoch 272/300\n",
      "49/49 [==============================] - 82s 2s/step - loss: 0.0903 - accuracy: 0.9690\n",
      "Epoch 273/300\n",
      "49/49 [==============================] - 98s 2s/step - loss: 0.0875 - accuracy: 0.9698\n",
      "Epoch 274/300\n",
      "49/49 [==============================] - 97s 2s/step - loss: 0.0902 - accuracy: 0.9703\n",
      "Epoch 275/300\n",
      "49/49 [==============================] - 97s 2s/step - loss: 0.0899 - accuracy: 0.9696\n",
      "Epoch 276/300\n",
      "49/49 [==============================] - 97s 2s/step - loss: 0.0897 - accuracy: 0.9701\n",
      "Epoch 277/300\n",
      "49/49 [==============================] - 98s 2s/step - loss: 0.0922 - accuracy: 0.9692\n",
      "Epoch 278/300\n",
      "49/49 [==============================] - 97s 2s/step - loss: 0.0942 - accuracy: 0.9674\n",
      "Epoch 279/300\n",
      "49/49 [==============================] - 97s 2s/step - loss: 0.0878 - accuracy: 0.9698\n",
      "Epoch 280/300\n",
      "49/49 [==============================] - 97s 2s/step - loss: 0.0914 - accuracy: 0.9694\n",
      "Epoch 281/300\n",
      "49/49 [==============================] - 98s 2s/step - loss: 0.0929 - accuracy: 0.9704\n",
      "Epoch 282/300\n",
      "49/49 [==============================] - 98s 2s/step - loss: 0.0937 - accuracy: 0.9700\n",
      "Epoch 283/300\n",
      "49/49 [==============================] - 97s 2s/step - loss: 0.0895 - accuracy: 0.9689\n",
      "Epoch 284/300\n",
      "49/49 [==============================] - 97s 2s/step - loss: 0.0833 - accuracy: 0.9717\n",
      "Epoch 285/300\n",
      "49/49 [==============================] - 97s 2s/step - loss: 0.0834 - accuracy: 0.9723\n",
      "Epoch 286/300\n",
      "49/49 [==============================] - 98s 2s/step - loss: 0.0910 - accuracy: 0.9689\n",
      "Epoch 287/300\n",
      "49/49 [==============================] - 96s 2s/step - loss: 0.0910 - accuracy: 0.9689\n",
      "Epoch 288/300\n",
      "49/49 [==============================] - 97s 2s/step - loss: 0.0909 - accuracy: 0.9707\n",
      "Epoch 289/300\n",
      "49/49 [==============================] - 98s 2s/step - loss: 0.0935 - accuracy: 0.9693\n",
      "Epoch 290/300\n",
      "49/49 [==============================] - 99s 2s/step - loss: 0.0893 - accuracy: 0.9709\n",
      "Epoch 291/300\n",
      "49/49 [==============================] - 98s 2s/step - loss: 0.0890 - accuracy: 0.9701\n",
      "Epoch 292/300\n",
      "49/49 [==============================] - 97s 2s/step - loss: 0.0883 - accuracy: 0.9700\n",
      "Epoch 293/300\n",
      "49/49 [==============================] - 98s 2s/step - loss: 0.0885 - accuracy: 0.9703\n",
      "Epoch 294/300\n",
      "49/49 [==============================] - 97s 2s/step - loss: 0.0863 - accuracy: 0.9697\n",
      "Epoch 295/300\n",
      "49/49 [==============================] - 97s 2s/step - loss: 0.0866 - accuracy: 0.9714\n",
      "Epoch 296/300\n",
      "49/49 [==============================] - 97s 2s/step - loss: 0.0827 - accuracy: 0.9718\n",
      "Epoch 297/300\n",
      "49/49 [==============================] - 98s 2s/step - loss: 0.0890 - accuracy: 0.9705\n",
      "Epoch 298/300\n",
      "49/49 [==============================] - 97s 2s/step - loss: 0.0840 - accuracy: 0.9715\n",
      "Epoch 299/300\n",
      "49/49 [==============================] - 97s 2s/step - loss: 0.0873 - accuracy: 0.9698\n",
      "Epoch 300/300\n",
      "49/49 [==============================] - 97s 2s/step - loss: 0.0820 - accuracy: 0.9728\n",
      "Model: \"sequential_2\"\n",
      "_________________________________________________________________\n",
      "Layer (type)                 Output Shape              Param #   \n",
      "=================================================================\n",
      "batch_normalization (BatchNo (None, 30, 30, 48)        192       \n",
      "_________________________________________________________________\n",
      "max_pooling2d_2 (MaxPooling2 (None, 15, 15, 48)        0         \n",
      "_________________________________________________________________\n",
      "flatten_2 (Flatten)          (None, 10800)             0         \n",
      "_________________________________________________________________\n",
      "dense_4 (Dense)              (None, 1024)              11060224  \n",
      "_________________________________________________________________\n",
      "dropout (Dropout)            (None, 1024)              0         \n",
      "_________________________________________________________________\n",
      "dense_5 (Dense)              (None, 10)                10250     \n",
      "=================================================================\n",
      "Total params: 11,070,666\n",
      "Trainable params: 11,070,570\n",
      "Non-trainable params: 96\n",
      "_________________________________________________________________\n"
     ]
    }
   ],
   "source": [
    "from tensorflow.keras.layers import BatchNormalization, Dropout\n",
    "\n",
    "model_2 = Sequential()\n",
    "\n",
    "model_2.add(Input(shape=(30, 30, 48)))\n",
    "model_2.add(BatchNormalization())\n",
    "model_2.add(MaxPooling2D(pool_size=(2, 2)))\n",
    "model_2.add(Flatten())\n",
    "model_2.add(Dense(1024, activation='relu', kernel_initializer=initializer))\n",
    "model_2.add(Dropout(0.2))\n",
    "model_2.add(Dense(10, activation='softmax', kernel_initializer=initializer))\n",
    "\n",
    "model_2.compile(optimizer='adam', \n",
    "               loss='sparse_categorical_crossentropy', \n",
    "               metrics = ['accuracy'])\n",
    "\n",
    "history_data2 = model_2.fit(x=train_data, \n",
    "                                     y=train_labels, \n",
    "                                     epochs=300, \n",
    "                                     batch_size=1024)\n",
    "\n",
    "model_2.summary()"
   ]
  },
  {
   "cell_type": "markdown",
   "metadata": {},
   "source": [
    "# 3. EVALUATION"
   ]
  },
  {
   "cell_type": "code",
   "execution_count": 28,
   "metadata": {},
   "outputs": [
    {
     "data": {
      "text/plain": [
       "<matplotlib.legend.Legend at 0x24a23479d00>"
      ]
     },
     "execution_count": 28,
     "metadata": {},
     "output_type": "execute_result"
    },
    {
     "data": {
      "image/png": "[encoded data removed]",
      "text/plain": [
       "<Figure size 432x288 with 1 Axes>"
      ]
     },
     "metadata": {
      "needs_background": "light"
     },
     "output_type": "display_data"
    }
   ],
   "source": [
    "import matplotlib.pyplot as plt\n",
    "\n",
    "plt.plot(history_data1.history['loss'], label = \"train_loss\")\n",
    "plt.xlabel('iteration')\n",
    "plt.ylabel('Loss')\n",
    "plt.legend()"
   ]
  },
  {
   "cell_type": "code",
   "execution_count": 29,
   "metadata": {},
   "outputs": [
    {
     "data": {
      "text/plain": [
       "<matplotlib.legend.Legend at 0x24a4241a130>"
      ]
     },
     "execution_count": 29,
     "metadata": {},
     "output_type": "execute_result"
    },
    {
     "data": {
      "image/png": "[encoded data removed]",
      "text/plain": [
       "<Figure size 432x288 with 1 Axes>"
      ]
     },
     "metadata": {
      "needs_background": "light"
     },
     "output_type": "display_data"
    }
   ],
   "source": [
    "import matplotlib.pyplot as plt\n",
    "\n",
    "plt.plot(history_data1.history['accuracy'], label = \"train_accuracy\")\n",
    "plt.xlabel('iteration')\n",
    "plt.ylabel('Accuracy')\n",
    "plt.legend()"
   ]
  },
  {
   "cell_type": "code",
   "execution_count": 30,
   "metadata": {},
   "outputs": [
    {
     "data": {
      "text/plain": [
       "<matplotlib.legend.Legend at 0x24a424edbb0>"
      ]
     },
     "execution_count": 30,
     "metadata": {},
     "output_type": "execute_result"
    },
    {
     "data": {
      "image/png": "[encoded data removed]",
      "text/plain": [
       "<Figure size 432x288 with 1 Axes>"
      ]
     },
     "metadata": {
      "needs_background": "light"
     },
     "output_type": "display_data"
    }
   ],
   "source": [
    "import matplotlib.pyplot as plt\n",
    "\n",
    "plt.plot(history_data2.history['loss'], label = \"train_loss\")\n",
    "plt.xlabel('iteration')\n",
    "plt.ylabel('Loss')\n",
    "plt.legend()"
   ]
  },
  {
   "cell_type": "code",
   "execution_count": 31,
   "metadata": {},
   "outputs": [
    {
     "data": {
      "text/plain": [
       "<matplotlib.legend.Legend at 0x24a425674c0>"
      ]
     },
     "execution_count": 31,
     "metadata": {},
     "output_type": "execute_result"
    },
    {
     "data": {
      "image/png": "[encoded data removed]",
      "text/plain": [
       "<Figure size 432x288 with 1 Axes>"
      ]
     },
     "metadata": {
      "needs_background": "light"
     },
     "output_type": "display_data"
    }
   ],
   "source": [
    "import matplotlib.pyplot as plt\n",
    "\n",
    "plt.plot(history_data2.history['accuracy'], label = \"train_accuracy\")\n",
    "plt.xlabel('iteration')\n",
    "plt.ylabel('Accuracy')\n",
    "plt.legend()"
   ]
  },
  {
   "cell_type": "markdown",
   "metadata": {},
   "source": [
    "# 4. SAVE MODELS"
   ]
  },
  {
   "cell_type": "code",
   "execution_count": 32,
   "metadata": {},
   "outputs": [],
   "source": [
    "model_1.save('C://Users/MINH LE/Desktop/TraditionalvsCNN/models/Experiment 1/Exp1-CIFAR-TraditionalFilter.h5')"
   ]
  },
  {
   "cell_type": "code",
   "execution_count": 33,
   "metadata": {},
   "outputs": [],
   "source": [
    "model_2.save('C://Users/MINH LE/Desktop/TraditionalvsCNN/models/Experiment 2/Exp2-CIFAR-TraditionalFilter.h5')"
   ]
  }
 ],
 "metadata": {
  "kernelspec": {
   "display_name": "Python 3",
   "language": "python",
   "name": "python3"
  },
  "language_info": {
   "codemirror_mode": {
    "name": "ipython",
    "version": 3
   },
   "file_extension": ".py",
   "mimetype": "text/x-python",
   "name": "python",
   "nbconvert_exporter": "python",
   "pygments_lexer": "ipython3",
   "version": "3.8.5"
  }
 },
 "nbformat": 4,
 "nbformat_minor": 4
}
